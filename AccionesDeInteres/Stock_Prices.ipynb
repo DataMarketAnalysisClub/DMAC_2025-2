{
 "cells": [
  {
   "cell_type": "markdown",
   "id": "f896eaa4",
   "metadata": {},
   "source": [
    "<img src=\"https://www.udd.cl/dircom/web/udd/Sello-35-color.png\" alt=\"Logo UDD\" width=\"184\" height=\"269\" style=\"float: left; margin-right: 10px;\">\n",
    "<img src=\"../imagenes/DMAClogo.png\" alt=\"DMAC Logo\" width=\"250\" style=\"float: right; margin-left: 10px;\">\n",
    "\n",
    "<div style=\"text-align: center;\">\n",
    "    <h1><strong>5Y-week Stock Prices</strong></h1>\n",
    "    <h3>Data Market Analysis Club - Universidad del Desarrollo</h3>\n",
    "</div>"
   ]
  },
  {
   "cell_type": "markdown",
   "id": "425cd556",
   "metadata": {},
   "source": [
    "---\n",
    "# Configuraciones iniciales\n",
    "\n",
    "* Importación de librerías.\n",
    "* Abrir el archivo `tickers.txt`\n",
    "* Definición del rango de tiempo y el intervalo."
   ]
  },
  {
   "cell_type": "code",
   "execution_count": 43,
   "id": "d458bd00",
   "metadata": {},
   "outputs": [
    {
     "name": "stderr",
     "output_type": "stream",
     "text": [
      "[*********************100%***********************]  7 of 7 completed\n"
     ]
    }
   ],
   "source": [
    "# Descargar precios semanales (Open y Close) para los tickers listados en tickers.txt\n",
    "import os\n",
    "from pathlib import Path\n",
    "import pandas as pd\n",
    "import plotly.graph_objects as go\n",
    "import warnings\n",
    "warnings.filterwarnings('ignore')\n",
    "\n",
    "# Instalar yfinance si no está disponible\n",
    "try:\n",
    "    import yfinance as yf\n",
    "except ImportError:\n",
    "    import sys, subprocess\n",
    "    subprocess.check_call([sys.executable, '-m', 'pip', 'install', 'yfinance'])\n",
    "    import yfinance as yf\n",
    "\n",
    "# Leer tickers desde el archivo tickers.txt\n",
    "tickers_path = Path('tickers.txt')\n",
    "if not tickers_path.exists():\n",
    "    raise FileNotFoundError(f'No se encontró {tickers_path.resolve()}')\n",
    "with open(tickers_path, 'r', encoding='utf-8') as f:\n",
    "    tickers = [line.strip() for line in f if line.strip()]\n",
    "\n",
    "# Rango de 5 años hasta hoy, frecuencia semanal\n",
    "period = '5y'\n",
    "interval = '1wk'\n",
    "\n",
    "# Descargar datos\n",
    "data = yf.download(tickers, period=period, interval=interval)"
   ]
  },
  {
   "cell_type": "markdown",
   "id": "1bfe3631",
   "metadata": {},
   "source": [
    "---\n",
    "<div style=\"text-align: center;\">\n",
    "    <h2><strong>S&P IPSA</strong></h2>\n",
    "    <h3>Ticker: ^IPSA</h3>\n",
    "</div>"
   ]
  },
  {
   "cell_type": "code",
   "execution_count": 44,
   "id": "2206e9a0",
   "metadata": {},
   "outputs": [
    {
     "data": {
      "application/vnd.plotly.v1+json": {
       "config": {
        "plotlyServerURL": "https://plot.ly"
       },
       "data": [
        {
         "close": {
          "bdata": "AAAA4EMtwUA=",
          "dtype": "f8"
         },
         "high": {
          "bdata": "AAAAoLAtwUA=",
          "dtype": "f8"
         },
         "low": {
          "bdata": "AAAAYObxwEA=",
          "dtype": "f8"
         },
         "name": "Precio",
         "open": {
          "bdata": "AAAAYObxwEA=",
          "dtype": "f8"
         },
         "type": "candlestick",
         "x": [
          "2025-10-13T00:00:00.000000000"
         ]
        }
       ],
       "layout": {
        "template": {
         "data": {
          "bar": [
           {
            "error_x": {
             "color": "#2a3f5f"
            },
            "error_y": {
             "color": "#2a3f5f"
            },
            "marker": {
             "line": {
              "color": "#E5ECF6",
              "width": 0.5
             },
             "pattern": {
              "fillmode": "overlay",
              "size": 10,
              "solidity": 0.2
             }
            },
            "type": "bar"
           }
          ],
          "barpolar": [
           {
            "marker": {
             "line": {
              "color": "#E5ECF6",
              "width": 0.5
             },
             "pattern": {
              "fillmode": "overlay",
              "size": 10,
              "solidity": 0.2
             }
            },
            "type": "barpolar"
           }
          ],
          "carpet": [
           {
            "aaxis": {
             "endlinecolor": "#2a3f5f",
             "gridcolor": "white",
             "linecolor": "white",
             "minorgridcolor": "white",
             "startlinecolor": "#2a3f5f"
            },
            "baxis": {
             "endlinecolor": "#2a3f5f",
             "gridcolor": "white",
             "linecolor": "white",
             "minorgridcolor": "white",
             "startlinecolor": "#2a3f5f"
            },
            "type": "carpet"
           }
          ],
          "choropleth": [
           {
            "colorbar": {
             "outlinewidth": 0,
             "ticks": ""
            },
            "type": "choropleth"
           }
          ],
          "contour": [
           {
            "colorbar": {
             "outlinewidth": 0,
             "ticks": ""
            },
            "colorscale": [
             [
              0,
              "#0d0887"
             ],
             [
              0.1111111111111111,
              "#46039f"
             ],
             [
              0.2222222222222222,
              "#7201a8"
             ],
             [
              0.3333333333333333,
              "#9c179e"
             ],
             [
              0.4444444444444444,
              "#bd3786"
             ],
             [
              0.5555555555555556,
              "#d8576b"
             ],
             [
              0.6666666666666666,
              "#ed7953"
             ],
             [
              0.7777777777777778,
              "#fb9f3a"
             ],
             [
              0.8888888888888888,
              "#fdca26"
             ],
             [
              1,
              "#f0f921"
             ]
            ],
            "type": "contour"
           }
          ],
          "contourcarpet": [
           {
            "colorbar": {
             "outlinewidth": 0,
             "ticks": ""
            },
            "type": "contourcarpet"
           }
          ],
          "heatmap": [
           {
            "colorbar": {
             "outlinewidth": 0,
             "ticks": ""
            },
            "colorscale": [
             [
              0,
              "#0d0887"
             ],
             [
              0.1111111111111111,
              "#46039f"
             ],
             [
              0.2222222222222222,
              "#7201a8"
             ],
             [
              0.3333333333333333,
              "#9c179e"
             ],
             [
              0.4444444444444444,
              "#bd3786"
             ],
             [
              0.5555555555555556,
              "#d8576b"
             ],
             [
              0.6666666666666666,
              "#ed7953"
             ],
             [
              0.7777777777777778,
              "#fb9f3a"
             ],
             [
              0.8888888888888888,
              "#fdca26"
             ],
             [
              1,
              "#f0f921"
             ]
            ],
            "type": "heatmap"
           }
          ],
          "histogram": [
           {
            "marker": {
             "pattern": {
              "fillmode": "overlay",
              "size": 10,
              "solidity": 0.2
             }
            },
            "type": "histogram"
           }
          ],
          "histogram2d": [
           {
            "colorbar": {
             "outlinewidth": 0,
             "ticks": ""
            },
            "colorscale": [
             [
              0,
              "#0d0887"
             ],
             [
              0.1111111111111111,
              "#46039f"
             ],
             [
              0.2222222222222222,
              "#7201a8"
             ],
             [
              0.3333333333333333,
              "#9c179e"
             ],
             [
              0.4444444444444444,
              "#bd3786"
             ],
             [
              0.5555555555555556,
              "#d8576b"
             ],
             [
              0.6666666666666666,
              "#ed7953"
             ],
             [
              0.7777777777777778,
              "#fb9f3a"
             ],
             [
              0.8888888888888888,
              "#fdca26"
             ],
             [
              1,
              "#f0f921"
             ]
            ],
            "type": "histogram2d"
           }
          ],
          "histogram2dcontour": [
           {
            "colorbar": {
             "outlinewidth": 0,
             "ticks": ""
            },
            "colorscale": [
             [
              0,
              "#0d0887"
             ],
             [
              0.1111111111111111,
              "#46039f"
             ],
             [
              0.2222222222222222,
              "#7201a8"
             ],
             [
              0.3333333333333333,
              "#9c179e"
             ],
             [
              0.4444444444444444,
              "#bd3786"
             ],
             [
              0.5555555555555556,
              "#d8576b"
             ],
             [
              0.6666666666666666,
              "#ed7953"
             ],
             [
              0.7777777777777778,
              "#fb9f3a"
             ],
             [
              0.8888888888888888,
              "#fdca26"
             ],
             [
              1,
              "#f0f921"
             ]
            ],
            "type": "histogram2dcontour"
           }
          ],
          "mesh3d": [
           {
            "colorbar": {
             "outlinewidth": 0,
             "ticks": ""
            },
            "type": "mesh3d"
           }
          ],
          "parcoords": [
           {
            "line": {
             "colorbar": {
              "outlinewidth": 0,
              "ticks": ""
             }
            },
            "type": "parcoords"
           }
          ],
          "pie": [
           {
            "automargin": true,
            "type": "pie"
           }
          ],
          "scatter": [
           {
            "fillpattern": {
             "fillmode": "overlay",
             "size": 10,
             "solidity": 0.2
            },
            "type": "scatter"
           }
          ],
          "scatter3d": [
           {
            "line": {
             "colorbar": {
              "outlinewidth": 0,
              "ticks": ""
             }
            },
            "marker": {
             "colorbar": {
              "outlinewidth": 0,
              "ticks": ""
             }
            },
            "type": "scatter3d"
           }
          ],
          "scattercarpet": [
           {
            "marker": {
             "colorbar": {
              "outlinewidth": 0,
              "ticks": ""
             }
            },
            "type": "scattercarpet"
           }
          ],
          "scattergeo": [
           {
            "marker": {
             "colorbar": {
              "outlinewidth": 0,
              "ticks": ""
             }
            },
            "type": "scattergeo"
           }
          ],
          "scattergl": [
           {
            "marker": {
             "colorbar": {
              "outlinewidth": 0,
              "ticks": ""
             }
            },
            "type": "scattergl"
           }
          ],
          "scattermap": [
           {
            "marker": {
             "colorbar": {
              "outlinewidth": 0,
              "ticks": ""
             }
            },
            "type": "scattermap"
           }
          ],
          "scattermapbox": [
           {
            "marker": {
             "colorbar": {
              "outlinewidth": 0,
              "ticks": ""
             }
            },
            "type": "scattermapbox"
           }
          ],
          "scatterpolar": [
           {
            "marker": {
             "colorbar": {
              "outlinewidth": 0,
              "ticks": ""
             }
            },
            "type": "scatterpolar"
           }
          ],
          "scatterpolargl": [
           {
            "marker": {
             "colorbar": {
              "outlinewidth": 0,
              "ticks": ""
             }
            },
            "type": "scatterpolargl"
           }
          ],
          "scatterternary": [
           {
            "marker": {
             "colorbar": {
              "outlinewidth": 0,
              "ticks": ""
             }
            },
            "type": "scatterternary"
           }
          ],
          "surface": [
           {
            "colorbar": {
             "outlinewidth": 0,
             "ticks": ""
            },
            "colorscale": [
             [
              0,
              "#0d0887"
             ],
             [
              0.1111111111111111,
              "#46039f"
             ],
             [
              0.2222222222222222,
              "#7201a8"
             ],
             [
              0.3333333333333333,
              "#9c179e"
             ],
             [
              0.4444444444444444,
              "#bd3786"
             ],
             [
              0.5555555555555556,
              "#d8576b"
             ],
             [
              0.6666666666666666,
              "#ed7953"
             ],
             [
              0.7777777777777778,
              "#fb9f3a"
             ],
             [
              0.8888888888888888,
              "#fdca26"
             ],
             [
              1,
              "#f0f921"
             ]
            ],
            "type": "surface"
           }
          ],
          "table": [
           {
            "cells": {
             "fill": {
              "color": "#EBF0F8"
             },
             "line": {
              "color": "white"
             }
            },
            "header": {
             "fill": {
              "color": "#C8D4E3"
             },
             "line": {
              "color": "white"
             }
            },
            "type": "table"
           }
          ]
         },
         "layout": {
          "annotationdefaults": {
           "arrowcolor": "#2a3f5f",
           "arrowhead": 0,
           "arrowwidth": 1
          },
          "autotypenumbers": "strict",
          "coloraxis": {
           "colorbar": {
            "outlinewidth": 0,
            "ticks": ""
           }
          },
          "colorscale": {
           "diverging": [
            [
             0,
             "#8e0152"
            ],
            [
             0.1,
             "#c51b7d"
            ],
            [
             0.2,
             "#de77ae"
            ],
            [
             0.3,
             "#f1b6da"
            ],
            [
             0.4,
             "#fde0ef"
            ],
            [
             0.5,
             "#f7f7f7"
            ],
            [
             0.6,
             "#e6f5d0"
            ],
            [
             0.7,
             "#b8e186"
            ],
            [
             0.8,
             "#7fbc41"
            ],
            [
             0.9,
             "#4d9221"
            ],
            [
             1,
             "#276419"
            ]
           ],
           "sequential": [
            [
             0,
             "#0d0887"
            ],
            [
             0.1111111111111111,
             "#46039f"
            ],
            [
             0.2222222222222222,
             "#7201a8"
            ],
            [
             0.3333333333333333,
             "#9c179e"
            ],
            [
             0.4444444444444444,
             "#bd3786"
            ],
            [
             0.5555555555555556,
             "#d8576b"
            ],
            [
             0.6666666666666666,
             "#ed7953"
            ],
            [
             0.7777777777777778,
             "#fb9f3a"
            ],
            [
             0.8888888888888888,
             "#fdca26"
            ],
            [
             1,
             "#f0f921"
            ]
           ],
           "sequentialminus": [
            [
             0,
             "#0d0887"
            ],
            [
             0.1111111111111111,
             "#46039f"
            ],
            [
             0.2222222222222222,
             "#7201a8"
            ],
            [
             0.3333333333333333,
             "#9c179e"
            ],
            [
             0.4444444444444444,
             "#bd3786"
            ],
            [
             0.5555555555555556,
             "#d8576b"
            ],
            [
             0.6666666666666666,
             "#ed7953"
            ],
            [
             0.7777777777777778,
             "#fb9f3a"
            ],
            [
             0.8888888888888888,
             "#fdca26"
            ],
            [
             1,
             "#f0f921"
            ]
           ]
          },
          "colorway": [
           "#636efa",
           "#EF553B",
           "#00cc96",
           "#ab63fa",
           "#FFA15A",
           "#19d3f3",
           "#FF6692",
           "#B6E880",
           "#FF97FF",
           "#FECB52"
          ],
          "font": {
           "color": "#2a3f5f"
          },
          "geo": {
           "bgcolor": "white",
           "lakecolor": "white",
           "landcolor": "#E5ECF6",
           "showlakes": true,
           "showland": true,
           "subunitcolor": "white"
          },
          "hoverlabel": {
           "align": "left"
          },
          "hovermode": "closest",
          "mapbox": {
           "style": "light"
          },
          "paper_bgcolor": "white",
          "plot_bgcolor": "#E5ECF6",
          "polar": {
           "angularaxis": {
            "gridcolor": "white",
            "linecolor": "white",
            "ticks": ""
           },
           "bgcolor": "#E5ECF6",
           "radialaxis": {
            "gridcolor": "white",
            "linecolor": "white",
            "ticks": ""
           }
          },
          "scene": {
           "xaxis": {
            "backgroundcolor": "#E5ECF6",
            "gridcolor": "white",
            "gridwidth": 2,
            "linecolor": "white",
            "showbackground": true,
            "ticks": "",
            "zerolinecolor": "white"
           },
           "yaxis": {
            "backgroundcolor": "#E5ECF6",
            "gridcolor": "white",
            "gridwidth": 2,
            "linecolor": "white",
            "showbackground": true,
            "ticks": "",
            "zerolinecolor": "white"
           },
           "zaxis": {
            "backgroundcolor": "#E5ECF6",
            "gridcolor": "white",
            "gridwidth": 2,
            "linecolor": "white",
            "showbackground": true,
            "ticks": "",
            "zerolinecolor": "white"
           }
          },
          "shapedefaults": {
           "line": {
            "color": "#2a3f5f"
           }
          },
          "ternary": {
           "aaxis": {
            "gridcolor": "white",
            "linecolor": "white",
            "ticks": ""
           },
           "baxis": {
            "gridcolor": "white",
            "linecolor": "white",
            "ticks": ""
           },
           "bgcolor": "#E5ECF6",
           "caxis": {
            "gridcolor": "white",
            "linecolor": "white",
            "ticks": ""
           }
          },
          "title": {
           "x": 0.05
          },
          "xaxis": {
           "automargin": true,
           "gridcolor": "white",
           "linecolor": "white",
           "ticks": "",
           "title": {
            "standoff": 15
           },
           "zerolinecolor": "white",
           "zerolinewidth": 2
          },
          "yaxis": {
           "automargin": true,
           "gridcolor": "white",
           "linecolor": "white",
           "ticks": "",
           "title": {
            "standoff": 15
           },
           "zerolinecolor": "white",
           "zerolinewidth": 2
          }
         }
        },
        "title": {
         "text": "Gráfico de velas japonesas para ^IPSA"
        },
        "xaxis": {
         "rangeslider": {
          "visible": false
         },
         "title": {
          "text": "Fecha"
         }
        },
        "yaxis": {
         "title": {
          "text": "Precio"
         }
        }
       }
      }
     },
     "metadata": {},
     "output_type": "display_data"
    }
   ],
   "source": [
    "# Selecciona el ticker que quieres analizar\n",
    "ticker = tickers[0]  # Por ejemplo, el primero de la lista\n",
    "\n",
    "# Si descargaste los datos en formato multi-index, selecciona el ticker así:\n",
    "df_ticker = data.xs(ticker, axis=1, level=1)\n",
    "df_ticker = df_ticker.dropna()\n",
    "# Graficar precios de apertura y cierre\n",
    "\n",
    "fig = go.Figure(data=[\n",
    "    go.Candlestick(\n",
    "        x=df_ticker.index,\n",
    "        open=df_ticker['Open'],\n",
    "        high=df_ticker['High'],\n",
    "        low=df_ticker['Low'],\n",
    "        close=df_ticker['Close'],\n",
    "        name='Precio'\n",
    "    )\n",
    "])\n",
    "\n",
    "fig.update_layout(\n",
    "    title=f'Gráfico de velas japonesas para {ticker}',\n",
    "    xaxis_title='Fecha',\n",
    "    yaxis_title='Precio',\n",
    "    xaxis_rangeslider_visible=False\n",
    ")\n",
    "\n",
    "fig.show()"
   ]
  },
  {
   "cell_type": "markdown",
   "id": "9f5b0db8",
   "metadata": {},
   "source": [
    "---\n",
    "<div style=\"text-align: center;\">\n",
    "    <h2><strong>S&P500</strong></h2>\n",
    "    <h3>Ticker: ^GSPC</h3>\n",
    "</div>"
   ]
  },
  {
   "cell_type": "code",
   "execution_count": 45,
   "id": "ce154fe5",
   "metadata": {},
   "outputs": [
    {
     "data": {
      "application/vnd.plotly.v1+json": {
       "config": {
        "plotlyServerURL": "https://plot.ly"
       },
       "data": [
        {
         "close": {
          "bdata": "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",
          "dtype": "f8"
         },
         "high": {
          "bdata": "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",
          "dtype": "f8"
         },
         "low": {
          "bdata": "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",
          "dtype": "f8"
         },
         "name": "Precio",
         "open": {
          "bdata": "AAAAIAWcq0AAAADgUUurQAAAAADX4qpAAAAAYGbAqUAAAACAFP6rQAAAAOBRIKxAAAAA4KPdq0AAAAAgXGSsQAAAAMB13axAAAAAQIq2rEAAAABgj8isQAAAAGAPFq1AAAAAYDhprUAAAACgR7atQAAAAIDCi61AAAAAIFwXrkAAAAAAVyatQAAAACAuaa5AAAAAYDjHrkAAAACgGVuuQAAAACAFBa5AAAAAoMcIrkAAAACA682uQAAAAMD1mK5AAAAAwJ4Cr0AAAABA4YSvQAAAAMC1HLBAAAAAwMxTsEAAAACgB1mwQAAAAOD6X7BAAAAAQEqEsEAAAACA60mwQAAAAAApSrBAAAAAIIV4sEAAAAAAV4WwQAAAAGBPmLBAAAAAYGZNsEAAAABg5rywQAAAAMB1BLFAAAAAAGkUsUAAAABgZsiwQAAAAICUObFAAAAAINw2sUAAAAAgxVWxQAAAAGCmbbFAAAAAQEpisUAAAACAwqGxQAAAAEBht7FAAAAAYM96sUAAAABA8zKxQAAAAMAeWrFAAAAAANf8sEAAAACgcCGxQAAAAGC4b7FAAAAAoLDJsUAAAADAngKyQAAAAOB6XbJAAAAAwExRskAAAAAAAGiyQAAAAADAFLJAAAAAwF7EsUAAAADATGayQAAAAGDm67FAAAAAgP19skAAAADgI6qyQAAAAABXL7JAAAAAgD0YskAAAADgUQSxQAAAAEDKT7FAAAAAAMCZsUAAAAAgnDyxQAAAAIC97LBAAAAAgCsCsUAAAACAAuewQAAAAADAarBAAAAAYGZusUAAAAAAF72xQAAAAGD4w7FAAAAA4KNusUAAAABAoSGxQAAAAABXn7BAAAAAIJwisEAAAABAiuKvQAAAAEAKWq9AAAAAANeerkAAAAAAFzewQAAAAGC4JrBAAAAAwEz8rUAAAADAngatQAAAACCFoa5AAAAAYDihrUAAAABA4VGuQAAAAICUV65AAAAAoHD7rkAAAABAYRCwQAAAACDuO7BAAAAAwF6tsEAAAACAFGOwQAAAAAApha9AAAAAoMe1rkAAAAAAV+evQAAAAODRE65AAAAAoHDFrEAAAABgjzOsQAAAACAFf6xAAAAAwExtrEAAAAAgBWStQAAAAECzU65AAAAAgGuJrUAAAACg8BOvQAAAAMB16K5AAAAAYLhKr0AAAABACqivQAAAAICUxq5AAAAAgJQbrkAAAAAgrgauQAAAAICUGq5AAAAA4KONrkAAAABgjz6vQAAAAKBHFK9AAAAAQIqir0AAAADgkRewQAAAAMCeALBAAAAAQLOor0AAAABguDCvQAAAAMBMrq9AAAAAgD32rUAAAACg8JquQAAAACDcHa9AAAAAQDMGsEAAAABgZuqvQAAAAIArKbBAAAAA4BEksEAAAABAykawQAAAAOD6KLBAAAAAYKYesEAAAACgx16wQAAAAMC1grBAAAAAgP26sEAAAADgUdSwQAAAACAcLLFAAAAAANf4sEAAAADgemKxQAAAAOA6KrFAAAAAINycsUAAAADgY7+xQAAAAODR6LFAAAAAgJSLsUAAAABAIWqxQAAAAKBHHLFAAAAAoAdKsUAAAABgD56xQAAAAOD6gLFAAAAAQCFdsUAAAADAntawQAAAACCFvLBAAAAAIAXBsEAAAADAXvawQAAAAGBmcrBAAAAA4GMrsEAAAAAgRQyxQAAAAACpNrFAAAAAQLOfsUAAAAAg3MqxQAAAAMBe1LFAAAAA4GPxsUAAAACAlHWyQAAAACDclrJAAAAAQDOJskAAAABAs1+yQAAAAKBZpLJAAAAAgGv1skAAAABA8xyzQAAAAKAwXbNAAAAAgNSis0AAAADgUX2zQAAAAAAA5bNAAAAAgP0KtEAAAADA9fezQAAAACDFIrRAAAAAIIVjtEAAAABg+Im0QAAAAMBeW7RAAAAAgKsdtEAAAACAVHuzQAAAAEAh+rNAAAAAgGsWtEAAAACAFHG0QAAAAKBZubRAAAAAAOnDtEAAAABgJrG0QAAAAGA43bRAAAAAIBw3tUAAAACAlFO1QAAAAIAUX7VAAAAAAMDEtUAAAAAAKQa2QAAAAECKqLVAAAAAwIxktUAAAADgIx+0QAAAAEDh57RAAAAA4Dq1tUAAAAAAqQe2QAAAAODj97VAAAAA4BFCtUAAAADANe+1QAAAAGDmT7ZAAAAAIIVetkAAAADAzGm2QAAAAGDPxbZAAAAA4NHhtkAAAAAg7sm2QAAAAGAmXbZAAAAAINx4t0AAAACAK/K2QAAAAKBHaLdAAAAAIByYt0AAAACAAsO3QAAAAEDKr7dAAAAAAEA0t0AAAACAqyC3QAAAAGDPXrdAAAAAIAWWtkAAAADAHn63QAAAAEAKUbdAAAAAYKZRt0AAAABgZp63QAAAAKCZ6bdAAAAAoLCKt0AAAACAVFC3QAAAAMBeSbZAAAAAoJkDtkAAAACAFFa2QAAAAADpl7VAAAAAQMpZs0AAAADA9UG1QAAAAKDwcLRAAAAAYDiZtUAAAADgURe2QAAAAEAzr7ZAAAAAQOEOt0AAAADgEd62QAAAACCuCLdAAAAAQKF0t0AAAAAAAHS3QAAAAICrUbdAAAAAIFwxuEAAAABACnO4QAAAAGAmb7hAAAAAgL2guEAAAACgsP24QAAAAMC1f7hAAAAAgKv1uEAAAAAgBS25QAAAAICrOblAAAAAgIIBuUAAAAAAF2K5QAAAAIB9y7lAAAAAoEf+uUAAAACAlAW6QAAAACDcTbpA",
          "dtype": "f8"
         },
         "type": "candlestick",
         "x": [
          "2020-10-12T00:00:00.000000000",
          "2020-10-19T00:00:00.000000000",
          "2020-10-26T00:00:00.000000000",
          "2020-11-02T00:00:00.000000000",
          "2020-11-09T00:00:00.000000000",
          "2020-11-16T00:00:00.000000000",
          "2020-11-23T00:00:00.000000000",
          "2020-11-30T00:00:00.000000000",
          "2020-12-07T00:00:00.000000000",
          "2020-12-14T00:00:00.000000000",
          "2020-12-21T00:00:00.000000000",
          "2020-12-28T00:00:00.000000000",
          "2021-01-04T00:00:00.000000000",
          "2021-01-11T00:00:00.000000000",
          "2021-01-18T00:00:00.000000000",
          "2021-01-25T00:00:00.000000000",
          "2021-02-01T00:00:00.000000000",
          "2021-02-08T00:00:00.000000000",
          "2021-02-15T00:00:00.000000000",
          "2021-02-22T00:00:00.000000000",
          "2021-03-01T00:00:00.000000000",
          "2021-03-08T00:00:00.000000000",
          "2021-03-15T00:00:00.000000000",
          "2021-03-22T00:00:00.000000000",
          "2021-03-29T00:00:00.000000000",
          "2021-04-05T00:00:00.000000000",
          "2021-04-12T00:00:00.000000000",
          "2021-04-19T00:00:00.000000000",
          "2021-04-26T00:00:00.000000000",
          "2021-05-03T00:00:00.000000000",
          "2021-05-10T00:00:00.000000000",
          "2021-05-17T00:00:00.000000000",
          "2021-05-24T00:00:00.000000000",
          "2021-05-31T00:00:00.000000000",
          "2021-06-07T00:00:00.000000000",
          "2021-06-14T00:00:00.000000000",
          "2021-06-21T00:00:00.000000000",
          "2021-06-28T00:00:00.000000000",
          "2021-07-05T00:00:00.000000000",
          "2021-07-12T00:00:00.000000000",
          "2021-07-19T00:00:00.000000000",
          "2021-07-26T00:00:00.000000000",
          "2021-08-02T00:00:00.000000000",
          "2021-08-09T00:00:00.000000000",
          "2021-08-16T00:00:00.000000000",
          "2021-08-23T00:00:00.000000000",
          "2021-08-30T00:00:00.000000000",
          "2021-09-06T00:00:00.000000000",
          "2021-09-13T00:00:00.000000000",
          "2021-09-20T00:00:00.000000000",
          "2021-09-27T00:00:00.000000000",
          "2021-10-04T00:00:00.000000000",
          "2021-10-11T00:00:00.000000000",
          "2021-10-18T00:00:00.000000000",
          "2021-10-25T00:00:00.000000000",
          "2021-11-01T00:00:00.000000000",
          "2021-11-08T00:00:00.000000000",
          "2021-11-15T00:00:00.000000000",
          "2021-11-22T00:00:00.000000000",
          "2021-11-29T00:00:00.000000000",
          "2021-12-06T00:00:00.000000000",
          "2021-12-13T00:00:00.000000000",
          "2021-12-20T00:00:00.000000000",
          "2021-12-27T00:00:00.000000000",
          "2022-01-03T00:00:00.000000000",
          "2022-01-10T00:00:00.000000000",
          "2022-01-17T00:00:00.000000000",
          "2022-01-24T00:00:00.000000000",
          "2022-01-31T00:00:00.000000000",
          "2022-02-07T00:00:00.000000000",
          "2022-02-14T00:00:00.000000000",
          "2022-02-21T00:00:00.000000000",
          "2022-02-28T00:00:00.000000000",
          "2022-03-07T00:00:00.000000000",
          "2022-03-14T00:00:00.000000000",
          "2022-03-21T00:00:00.000000000",
          "2022-03-28T00:00:00.000000000",
          "2022-04-04T00:00:00.000000000",
          "2022-04-11T00:00:00.000000000",
          "2022-04-18T00:00:00.000000000",
          "2022-04-25T00:00:00.000000000",
          "2022-05-02T00:00:00.000000000",
          "2022-05-09T00:00:00.000000000",
          "2022-05-16T00:00:00.000000000",
          "2022-05-23T00:00:00.000000000",
          "2022-05-30T00:00:00.000000000",
          "2022-06-06T00:00:00.000000000",
          "2022-06-13T00:00:00.000000000",
          "2022-06-20T00:00:00.000000000",
          "2022-06-27T00:00:00.000000000",
          "2022-07-04T00:00:00.000000000",
          "2022-07-11T00:00:00.000000000",
          "2022-07-18T00:00:00.000000000",
          "2022-07-25T00:00:00.000000000",
          "2022-08-01T00:00:00.000000000",
          "2022-08-08T00:00:00.000000000",
          "2022-08-15T00:00:00.000000000",
          "2022-08-22T00:00:00.000000000",
          "2022-08-29T00:00:00.000000000",
          "2022-09-05T00:00:00.000000000",
          "2022-09-12T00:00:00.000000000",
          "2022-09-19T00:00:00.000000000",
          "2022-09-26T00:00:00.000000000",
          "2022-10-03T00:00:00.000000000",
          "2022-10-10T00:00:00.000000000",
          "2022-10-17T00:00:00.000000000",
          "2022-10-24T00:00:00.000000000",
          "2022-10-31T00:00:00.000000000",
          "2022-11-07T00:00:00.000000000",
          "2022-11-14T00:00:00.000000000",
          "2022-11-21T00:00:00.000000000",
          "2022-11-28T00:00:00.000000000",
          "2022-12-05T00:00:00.000000000",
          "2022-12-12T00:00:00.000000000",
          "2022-12-19T00:00:00.000000000",
          "2022-12-26T00:00:00.000000000",
          "2023-01-02T00:00:00.000000000",
          "2023-01-09T00:00:00.000000000",
          "2023-01-16T00:00:00.000000000",
          "2023-01-23T00:00:00.000000000",
          "2023-01-30T00:00:00.000000000",
          "2023-02-06T00:00:00.000000000",
          "2023-02-13T00:00:00.000000000",
          "2023-02-20T00:00:00.000000000",
          "2023-02-27T00:00:00.000000000",
          "2023-03-06T00:00:00.000000000",
          "2023-03-13T00:00:00.000000000",
          "2023-03-20T00:00:00.000000000",
          "2023-03-27T00:00:00.000000000",
          "2023-04-03T00:00:00.000000000",
          "2023-04-10T00:00:00.000000000",
          "2023-04-17T00:00:00.000000000",
          "2023-04-24T00:00:00.000000000",
          "2023-05-01T00:00:00.000000000",
          "2023-05-08T00:00:00.000000000",
          "2023-05-15T00:00:00.000000000",
          "2023-05-22T00:00:00.000000000",
          "2023-05-29T00:00:00.000000000",
          "2023-06-05T00:00:00.000000000",
          "2023-06-12T00:00:00.000000000",
          "2023-06-19T00:00:00.000000000",
          "2023-06-26T00:00:00.000000000",
          "2023-07-03T00:00:00.000000000",
          "2023-07-10T00:00:00.000000000",
          "2023-07-17T00:00:00.000000000",
          "2023-07-24T00:00:00.000000000",
          "2023-07-31T00:00:00.000000000",
          "2023-08-07T00:00:00.000000000",
          "2023-08-14T00:00:00.000000000",
          "2023-08-21T00:00:00.000000000",
          "2023-08-28T00:00:00.000000000",
          "2023-09-04T00:00:00.000000000",
          "2023-09-11T00:00:00.000000000",
          "2023-09-18T00:00:00.000000000",
          "2023-09-25T00:00:00.000000000",
          "2023-10-02T00:00:00.000000000",
          "2023-10-09T00:00:00.000000000",
          "2023-10-16T00:00:00.000000000",
          "2023-10-23T00:00:00.000000000",
          "2023-10-30T00:00:00.000000000",
          "2023-11-06T00:00:00.000000000",
          "2023-11-13T00:00:00.000000000",
          "2023-11-20T00:00:00.000000000",
          "2023-11-27T00:00:00.000000000",
          "2023-12-04T00:00:00.000000000",
          "2023-12-11T00:00:00.000000000",
          "2023-12-18T00:00:00.000000000",
          "2023-12-25T00:00:00.000000000",
          "2024-01-01T00:00:00.000000000",
          "2024-01-08T00:00:00.000000000",
          "2024-01-15T00:00:00.000000000",
          "2024-01-22T00:00:00.000000000",
          "2024-01-29T00:00:00.000000000",
          "2024-02-05T00:00:00.000000000",
          "2024-02-12T00:00:00.000000000",
          "2024-02-19T00:00:00.000000000",
          "2024-02-26T00:00:00.000000000",
          "2024-03-04T00:00:00.000000000",
          "2024-03-11T00:00:00.000000000",
          "2024-03-18T00:00:00.000000000",
          "2024-03-25T00:00:00.000000000",
          "2024-04-01T00:00:00.000000000",
          "2024-04-08T00:00:00.000000000",
          "2024-04-15T00:00:00.000000000",
          "2024-04-22T00:00:00.000000000",
          "2024-04-29T00:00:00.000000000",
          "2024-05-06T00:00:00.000000000",
          "2024-05-13T00:00:00.000000000",
          "2024-05-20T00:00:00.000000000",
          "2024-05-27T00:00:00.000000000",
          "2024-06-03T00:00:00.000000000",
          "2024-06-10T00:00:00.000000000",
          "2024-06-17T00:00:00.000000000",
          "2024-06-24T00:00:00.000000000",
          "2024-07-01T00:00:00.000000000",
          "2024-07-08T00:00:00.000000000",
          "2024-07-15T00:00:00.000000000",
          "2024-07-22T00:00:00.000000000",
          "2024-07-29T00:00:00.000000000",
          "2024-08-05T00:00:00.000000000",
          "2024-08-12T00:00:00.000000000",
          "2024-08-19T00:00:00.000000000",
          "2024-08-26T00:00:00.000000000",
          "2024-09-02T00:00:00.000000000",
          "2024-09-09T00:00:00.000000000",
          "2024-09-16T00:00:00.000000000",
          "2024-09-23T00:00:00.000000000",
          "2024-09-30T00:00:00.000000000",
          "2024-10-07T00:00:00.000000000",
          "2024-10-14T00:00:00.000000000",
          "2024-10-21T00:00:00.000000000",
          "2024-10-28T00:00:00.000000000",
          "2024-11-04T00:00:00.000000000",
          "2024-11-11T00:00:00.000000000",
          "2024-11-18T00:00:00.000000000",
          "2024-11-25T00:00:00.000000000",
          "2024-12-02T00:00:00.000000000",
          "2024-12-09T00:00:00.000000000",
          "2024-12-16T00:00:00.000000000",
          "2024-12-23T00:00:00.000000000",
          "2024-12-30T00:00:00.000000000",
          "2025-01-06T00:00:00.000000000",
          "2025-01-13T00:00:00.000000000",
          "2025-01-20T00:00:00.000000000",
          "2025-01-27T00:00:00.000000000",
          "2025-02-03T00:00:00.000000000",
          "2025-02-10T00:00:00.000000000",
          "2025-02-17T00:00:00.000000000",
          "2025-02-24T00:00:00.000000000",
          "2025-03-03T00:00:00.000000000",
          "2025-03-10T00:00:00.000000000",
          "2025-03-17T00:00:00.000000000",
          "2025-03-24T00:00:00.000000000",
          "2025-03-31T00:00:00.000000000",
          "2025-04-07T00:00:00.000000000",
          "2025-04-14T00:00:00.000000000",
          "2025-04-21T00:00:00.000000000",
          "2025-04-28T00:00:00.000000000",
          "2025-05-05T00:00:00.000000000",
          "2025-05-12T00:00:00.000000000",
          "2025-05-19T00:00:00.000000000",
          "2025-05-26T00:00:00.000000000",
          "2025-06-02T00:00:00.000000000",
          "2025-06-09T00:00:00.000000000",
          "2025-06-16T00:00:00.000000000",
          "2025-06-23T00:00:00.000000000",
          "2025-06-30T00:00:00.000000000",
          "2025-07-07T00:00:00.000000000",
          "2025-07-14T00:00:00.000000000",
          "2025-07-21T00:00:00.000000000",
          "2025-07-28T00:00:00.000000000",
          "2025-08-04T00:00:00.000000000",
          "2025-08-11T00:00:00.000000000",
          "2025-08-18T00:00:00.000000000",
          "2025-08-25T00:00:00.000000000",
          "2025-09-01T00:00:00.000000000",
          "2025-09-08T00:00:00.000000000",
          "2025-09-15T00:00:00.000000000",
          "2025-09-22T00:00:00.000000000",
          "2025-09-29T00:00:00.000000000",
          "2025-10-06T00:00:00.000000000"
         ]
        }
       ],
       "layout": {
        "template": {
         "data": {
          "bar": [
           {
            "error_x": {
             "color": "#2a3f5f"
            },
            "error_y": {
             "color": "#2a3f5f"
            },
            "marker": {
             "line": {
              "color": "#E5ECF6",
              "width": 0.5
             },
             "pattern": {
              "fillmode": "overlay",
              "size": 10,
              "solidity": 0.2
             }
            },
            "type": "bar"
           }
          ],
          "barpolar": [
           {
            "marker": {
             "line": {
              "color": "#E5ECF6",
              "width": 0.5
             },
             "pattern": {
              "fillmode": "overlay",
              "size": 10,
              "solidity": 0.2
             }
            },
            "type": "barpolar"
           }
          ],
          "carpet": [
           {
            "aaxis": {
             "endlinecolor": "#2a3f5f",
             "gridcolor": "white",
             "linecolor": "white",
             "minorgridcolor": "white",
             "startlinecolor": "#2a3f5f"
            },
            "baxis": {
             "endlinecolor": "#2a3f5f",
             "gridcolor": "white",
             "linecolor": "white",
             "minorgridcolor": "white",
             "startlinecolor": "#2a3f5f"
            },
            "type": "carpet"
           }
          ],
          "choropleth": [
           {
            "colorbar": {
             "outlinewidth": 0,
             "ticks": ""
            },
            "type": "choropleth"
           }
          ],
          "contour": [
           {
            "colorbar": {
             "outlinewidth": 0,
             "ticks": ""
            },
            "colorscale": [
             [
              0,
              "#0d0887"
             ],
             [
              0.1111111111111111,
              "#46039f"
             ],
             [
              0.2222222222222222,
              "#7201a8"
             ],
             [
              0.3333333333333333,
              "#9c179e"
             ],
             [
              0.4444444444444444,
              "#bd3786"
             ],
             [
              0.5555555555555556,
              "#d8576b"
             ],
             [
              0.6666666666666666,
              "#ed7953"
             ],
             [
              0.7777777777777778,
              "#fb9f3a"
             ],
             [
              0.8888888888888888,
              "#fdca26"
             ],
             [
              1,
              "#f0f921"
             ]
            ],
            "type": "contour"
           }
          ],
          "contourcarpet": [
           {
            "colorbar": {
             "outlinewidth": 0,
             "ticks": ""
            },
            "type": "contourcarpet"
           }
          ],
          "heatmap": [
           {
            "colorbar": {
             "outlinewidth": 0,
             "ticks": ""
            },
            "colorscale": [
             [
              0,
              "#0d0887"
             ],
             [
              0.1111111111111111,
              "#46039f"
             ],
             [
              0.2222222222222222,
              "#7201a8"
             ],
             [
              0.3333333333333333,
              "#9c179e"
             ],
             [
              0.4444444444444444,
              "#bd3786"
             ],
             [
              0.5555555555555556,
              "#d8576b"
             ],
             [
              0.6666666666666666,
              "#ed7953"
             ],
             [
              0.7777777777777778,
              "#fb9f3a"
             ],
             [
              0.8888888888888888,
              "#fdca26"
             ],
             [
              1,
              "#f0f921"
             ]
            ],
            "type": "heatmap"
           }
          ],
          "histogram": [
           {
            "marker": {
             "pattern": {
              "fillmode": "overlay",
              "size": 10,
              "solidity": 0.2
             }
            },
            "type": "histogram"
           }
          ],
          "histogram2d": [
           {
            "colorbar": {
             "outlinewidth": 0,
             "ticks": ""
            },
            "colorscale": [
             [
              0,
              "#0d0887"
             ],
             [
              0.1111111111111111,
              "#46039f"
             ],
             [
              0.2222222222222222,
              "#7201a8"
             ],
             [
              0.3333333333333333,
              "#9c179e"
             ],
             [
              0.4444444444444444,
              "#bd3786"
             ],
             [
              0.5555555555555556,
              "#d8576b"
             ],
             [
              0.6666666666666666,
              "#ed7953"
             ],
             [
              0.7777777777777778,
              "#fb9f3a"
             ],
             [
              0.8888888888888888,
              "#fdca26"
             ],
             [
              1,
              "#f0f921"
             ]
            ],
            "type": "histogram2d"
           }
          ],
          "histogram2dcontour": [
           {
            "colorbar": {
             "outlinewidth": 0,
             "ticks": ""
            },
            "colorscale": [
             [
              0,
              "#0d0887"
             ],
             [
              0.1111111111111111,
              "#46039f"
             ],
             [
              0.2222222222222222,
              "#7201a8"
             ],
             [
              0.3333333333333333,
              "#9c179e"
             ],
             [
              0.4444444444444444,
              "#bd3786"
             ],
             [
              0.5555555555555556,
              "#d8576b"
             ],
             [
              0.6666666666666666,
              "#ed7953"
             ],
             [
              0.7777777777777778,
              "#fb9f3a"
             ],
             [
              0.8888888888888888,
              "#fdca26"
             ],
             [
              1,
              "#f0f921"
             ]
            ],
            "type": "histogram2dcontour"
           }
          ],
          "mesh3d": [
           {
            "colorbar": {
             "outlinewidth": 0,
             "ticks": ""
            },
            "type": "mesh3d"
           }
          ],
          "parcoords": [
           {
            "line": {
             "colorbar": {
              "outlinewidth": 0,
              "ticks": ""
             }
            },
            "type": "parcoords"
           }
          ],
          "pie": [
           {
            "automargin": true,
            "type": "pie"
           }
          ],
          "scatter": [
           {
            "fillpattern": {
             "fillmode": "overlay",
             "size": 10,
             "solidity": 0.2
            },
            "type": "scatter"
           }
          ],
          "scatter3d": [
           {
            "line": {
             "colorbar": {
              "outlinewidth": 0,
              "ticks": ""
             }
            },
            "marker": {
             "colorbar": {
              "outlinewidth": 0,
              "ticks": ""
             }
            },
            "type": "scatter3d"
           }
          ],
          "scattercarpet": [
           {
            "marker": {
             "colorbar": {
              "outlinewidth": 0,
              "ticks": ""
             }
            },
            "type": "scattercarpet"
           }
          ],
          "scattergeo": [
           {
            "marker": {
             "colorbar": {
              "outlinewidth": 0,
              "ticks": ""
             }
            },
            "type": "scattergeo"
           }
          ],
          "scattergl": [
           {
            "marker": {
             "colorbar": {
              "outlinewidth": 0,
              "ticks": ""
             }
            },
            "type": "scattergl"
           }
          ],
          "scattermap": [
           {
            "marker": {
             "colorbar": {
              "outlinewidth": 0,
              "ticks": ""
             }
            },
            "type": "scattermap"
           }
          ],
          "scattermapbox": [
           {
            "marker": {
             "colorbar": {
              "outlinewidth": 0,
              "ticks": ""
             }
            },
            "type": "scattermapbox"
           }
          ],
          "scatterpolar": [
           {
            "marker": {
             "colorbar": {
              "outlinewidth": 0,
              "ticks": ""
             }
            },
            "type": "scatterpolar"
           }
          ],
          "scatterpolargl": [
           {
            "marker": {
             "colorbar": {
              "outlinewidth": 0,
              "ticks": ""
             }
            },
            "type": "scatterpolargl"
           }
          ],
          "scatterternary": [
           {
            "marker": {
             "colorbar": {
              "outlinewidth": 0,
              "ticks": ""
             }
            },
            "type": "scatterternary"
           }
          ],
          "surface": [
           {
            "colorbar": {
             "outlinewidth": 0,
             "ticks": ""
            },
            "colorscale": [
             [
              0,
              "#0d0887"
             ],
             [
              0.1111111111111111,
              "#46039f"
             ],
             [
              0.2222222222222222,
              "#7201a8"
             ],
             [
              0.3333333333333333,
              "#9c179e"
             ],
             [
              0.4444444444444444,
              "#bd3786"
             ],
             [
              0.5555555555555556,
              "#d8576b"
             ],
             [
              0.6666666666666666,
              "#ed7953"
             ],
             [
              0.7777777777777778,
              "#fb9f3a"
             ],
             [
              0.8888888888888888,
              "#fdca26"
             ],
             [
              1,
              "#f0f921"
             ]
            ],
            "type": "surface"
           }
          ],
          "table": [
           {
            "cells": {
             "fill": {
              "color": "#EBF0F8"
             },
             "line": {
              "color": "white"
             }
            },
            "header": {
             "fill": {
              "color": "#C8D4E3"
             },
             "line": {
              "color": "white"
             }
            },
            "type": "table"
           }
          ]
         },
         "layout": {
          "annotationdefaults": {
           "arrowcolor": "#2a3f5f",
           "arrowhead": 0,
           "arrowwidth": 1
          },
          "autotypenumbers": "strict",
          "coloraxis": {
           "colorbar": {
            "outlinewidth": 0,
            "ticks": ""
           }
          },
          "colorscale": {
           "diverging": [
            [
             0,
             "#8e0152"
            ],
            [
             0.1,
             "#c51b7d"
            ],
            [
             0.2,
             "#de77ae"
            ],
            [
             0.3,
             "#f1b6da"
            ],
            [
             0.4,
             "#fde0ef"
            ],
            [
             0.5,
             "#f7f7f7"
            ],
            [
             0.6,
             "#e6f5d0"
            ],
            [
             0.7,
             "#b8e186"
            ],
            [
             0.8,
             "#7fbc41"
            ],
            [
             0.9,
             "#4d9221"
            ],
            [
             1,
             "#276419"
            ]
           ],
           "sequential": [
            [
             0,
             "#0d0887"
            ],
            [
             0.1111111111111111,
             "#46039f"
            ],
            [
             0.2222222222222222,
             "#7201a8"
            ],
            [
             0.3333333333333333,
             "#9c179e"
            ],
            [
             0.4444444444444444,
             "#bd3786"
            ],
            [
             0.5555555555555556,
             "#d8576b"
            ],
            [
             0.6666666666666666,
             "#ed7953"
            ],
            [
             0.7777777777777778,
             "#fb9f3a"
            ],
            [
             0.8888888888888888,
             "#fdca26"
            ],
            [
             1,
             "#f0f921"
            ]
           ],
           "sequentialminus": [
            [
             0,
             "#0d0887"
            ],
            [
             0.1111111111111111,
             "#46039f"
            ],
            [
             0.2222222222222222,
             "#7201a8"
            ],
            [
             0.3333333333333333,
             "#9c179e"
            ],
            [
             0.4444444444444444,
             "#bd3786"
            ],
            [
             0.5555555555555556,
             "#d8576b"
            ],
            [
             0.6666666666666666,
             "#ed7953"
            ],
            [
             0.7777777777777778,
             "#fb9f3a"
            ],
            [
             0.8888888888888888,
             "#fdca26"
            ],
            [
             1,
             "#f0f921"
            ]
           ]
          },
          "colorway": [
           "#636efa",
           "#EF553B",
           "#00cc96",
           "#ab63fa",
           "#FFA15A",
           "#19d3f3",
           "#FF6692",
           "#B6E880",
           "#FF97FF",
           "#FECB52"
          ],
          "font": {
           "color": "#2a3f5f"
          },
          "geo": {
           "bgcolor": "white",
           "lakecolor": "white",
           "landcolor": "#E5ECF6",
           "showlakes": true,
           "showland": true,
           "subunitcolor": "white"
          },
          "hoverlabel": {
           "align": "left"
          },
          "hovermode": "closest",
          "mapbox": {
           "style": "light"
          },
          "paper_bgcolor": "white",
          "plot_bgcolor": "#E5ECF6",
          "polar": {
           "angularaxis": {
            "gridcolor": "white",
            "linecolor": "white",
            "ticks": ""
           },
           "bgcolor": "#E5ECF6",
           "radialaxis": {
            "gridcolor": "white",
            "linecolor": "white",
            "ticks": ""
           }
          },
          "scene": {
           "xaxis": {
            "backgroundcolor": "#E5ECF6",
            "gridcolor": "white",
            "gridwidth": 2,
            "linecolor": "white",
            "showbackground": true,
            "ticks": "",
            "zerolinecolor": "white"
           },
           "yaxis": {
            "backgroundcolor": "#E5ECF6",
            "gridcolor": "white",
            "gridwidth": 2,
            "linecolor": "white",
            "showbackground": true,
            "ticks": "",
            "zerolinecolor": "white"
           },
           "zaxis": {
            "backgroundcolor": "#E5ECF6",
            "gridcolor": "white",
            "gridwidth": 2,
            "linecolor": "white",
            "showbackground": true,
            "ticks": "",
            "zerolinecolor": "white"
           }
          },
          "shapedefaults": {
           "line": {
            "color": "#2a3f5f"
           }
          },
          "ternary": {
           "aaxis": {
            "gridcolor": "white",
            "linecolor": "white",
            "ticks": ""
           },
           "baxis": {
            "gridcolor": "white",
            "linecolor": "white",
            "ticks": ""
           },
           "bgcolor": "#E5ECF6",
           "caxis": {
            "gridcolor": "white",
            "linecolor": "white",
            "ticks": ""
           }
          },
          "title": {
           "x": 0.05
          },
          "xaxis": {
           "automargin": true,
           "gridcolor": "white",
           "linecolor": "white",
           "ticks": "",
           "title": {
            "standoff": 15
           },
           "zerolinecolor": "white",
           "zerolinewidth": 2
          },
          "yaxis": {
           "automargin": true,
           "gridcolor": "white",
           "linecolor": "white",
           "ticks": "",
           "title": {
            "standoff": 15
           },
           "zerolinecolor": "white",
           "zerolinewidth": 2
          }
         }
        },
        "title": {
         "text": "Gráfico de velas japonesas para ^GSPC"
        },
        "xaxis": {
         "rangeslider": {
          "visible": false
         },
         "title": {
          "text": "Fecha"
         }
        },
        "yaxis": {
         "title": {
          "text": "Precio"
         }
        }
       }
      }
     },
     "metadata": {},
     "output_type": "display_data"
    },
    {
     "name": "stdout",
     "output_type": "stream",
     "text": [
      "Variación semanal: -2.43%\n",
      "Variación mensual: -0.48%\n",
      "Variación anual  : 12.68%\n"
     ]
    }
   ],
   "source": [
    "# Selecciona el ticker que quieres analizar\n",
    "ticker = tickers[1]  # Por ejemplo, el primero de la lista\n",
    "\n",
    "# Si descargaste los datos en formato multi-index, selecciona el ticker así:\n",
    "df_ticker = data.xs(ticker, axis=1, level=1)\n",
    "df_ticker = df_ticker.dropna()\n",
    "# Graficar precios de apertura y cierre\n",
    "fig = go.Figure(data=[\n",
    "    go.Candlestick(\n",
    "        x=df_ticker.index,\n",
    "        open=df_ticker['Open'],\n",
    "        high=df_ticker['High'],\n",
    "        low=df_ticker['Low'],\n",
    "        close=df_ticker['Close'],\n",
    "        name='Precio'\n",
    "    )\n",
    "])\n",
    "\n",
    "fig.update_layout(\n",
    "    title=f'Gráfico de velas japonesas para {ticker}',\n",
    "    xaxis_title='Fecha',\n",
    "    yaxis_title='Precio',\n",
    "    xaxis_rangeslider_visible=False\n",
    ")\n",
    "\n",
    "fig.show()\n",
    "\n",
    "# Calcular variaciones\n",
    "# Variación semanal (última semana vs anterior)\n",
    "var_semana = (df_ticker['Close'].iloc[-1] - df_ticker['Close'].iloc[-2])/df_ticker['Close'].iloc[-2] * 100\n",
    "# Variación mensual (último vs hace 4 semanas)\n",
    "var_mes = (df_ticker['Close'].iloc[-1] - df_ticker['Close'].iloc[-5])/df_ticker['Close'].iloc[-5] * 100\n",
    "# Variación anual (último vs hace 52 semanas)\n",
    "var_anio = (df_ticker['Close'].iloc[-1] - df_ticker['Close'].iloc[-53])/df_ticker['Close'].iloc[-53] * 100\n",
    "\n",
    "print(f\"Variación semanal: {var_semana:.2f}%\")\n",
    "print(f\"Variación mensual: {var_mes:.2f}%\")\n",
    "print(f\"Variación anual  : {var_anio:.2f}%\")"
   ]
  },
  {
   "cell_type": "markdown",
   "id": "45ebe074",
   "metadata": {},
   "source": [
    "---\n",
    "<div style=\"text-align: center;\">\n",
    "    <h2><strong>NVIDIA</strong></h2>\n",
    "    <h3>Ticker: NVDA</h3>\n",
    "</div>"
   ]
  },
  {
   "cell_type": "code",
   "execution_count": 46,
   "id": "3c428044",
   "metadata": {},
   "outputs": [
    {
     "data": {
      "application/vnd.plotly.v1+json": {
       "config": {
        "plotlyServerURL": "https://plot.ly"
       },
       "data": [
        {
         "close": {
          "bdata": "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",
          "dtype": "f8"
         },
         "high": {
          "bdata": "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",
          "dtype": "f8"
         },
         "low": {
          "bdata": "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",
          "dtype": "f8"
         },
         "name": "Precio",
         "open": {
          "bdata": "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",
          "dtype": "f8"
         },
         "type": "candlestick",
         "x": [
          "2020-10-12T00:00:00.000000000",
          "2020-10-19T00:00:00.000000000",
          "2020-10-26T00:00:00.000000000",
          "2020-11-02T00:00:00.000000000",
          "2020-11-09T00:00:00.000000000",
          "2020-11-16T00:00:00.000000000",
          "2020-11-23T00:00:00.000000000",
          "2020-11-30T00:00:00.000000000",
          "2020-12-07T00:00:00.000000000",
          "2020-12-14T00:00:00.000000000",
          "2020-12-21T00:00:00.000000000",
          "2020-12-28T00:00:00.000000000",
          "2021-01-04T00:00:00.000000000",
          "2021-01-11T00:00:00.000000000",
          "2021-01-18T00:00:00.000000000",
          "2021-01-25T00:00:00.000000000",
          "2021-02-01T00:00:00.000000000",
          "2021-02-08T00:00:00.000000000",
          "2021-02-15T00:00:00.000000000",
          "2021-02-22T00:00:00.000000000",
          "2021-03-01T00:00:00.000000000",
          "2021-03-08T00:00:00.000000000",
          "2021-03-15T00:00:00.000000000",
          "2021-03-22T00:00:00.000000000",
          "2021-03-29T00:00:00.000000000",
          "2021-04-05T00:00:00.000000000",
          "2021-04-12T00:00:00.000000000",
          "2021-04-19T00:00:00.000000000",
          "2021-04-26T00:00:00.000000000",
          "2021-05-03T00:00:00.000000000",
          "2021-05-10T00:00:00.000000000",
          "2021-05-17T00:00:00.000000000",
          "2021-05-24T00:00:00.000000000",
          "2021-05-31T00:00:00.000000000",
          "2021-06-07T00:00:00.000000000",
          "2021-06-14T00:00:00.000000000",
          "2021-06-21T00:00:00.000000000",
          "2021-06-28T00:00:00.000000000",
          "2021-07-05T00:00:00.000000000",
          "2021-07-12T00:00:00.000000000",
          "2021-07-19T00:00:00.000000000",
          "2021-07-26T00:00:00.000000000",
          "2021-08-02T00:00:00.000000000",
          "2021-08-09T00:00:00.000000000",
          "2021-08-16T00:00:00.000000000",
          "2021-08-23T00:00:00.000000000",
          "2021-08-30T00:00:00.000000000",
          "2021-09-06T00:00:00.000000000",
          "2021-09-13T00:00:00.000000000",
          "2021-09-20T00:00:00.000000000",
          "2021-09-27T00:00:00.000000000",
          "2021-10-04T00:00:00.000000000",
          "2021-10-11T00:00:00.000000000",
          "2021-10-18T00:00:00.000000000",
          "2021-10-25T00:00:00.000000000",
          "2021-11-01T00:00:00.000000000",
          "2021-11-08T00:00:00.000000000",
          "2021-11-15T00:00:00.000000000",
          "2021-11-22T00:00:00.000000000",
          "2021-11-29T00:00:00.000000000",
          "2021-12-06T00:00:00.000000000",
          "2021-12-13T00:00:00.000000000",
          "2021-12-20T00:00:00.000000000",
          "2021-12-27T00:00:00.000000000",
          "2022-01-03T00:00:00.000000000",
          "2022-01-10T00:00:00.000000000",
          "2022-01-17T00:00:00.000000000",
          "2022-01-24T00:00:00.000000000",
          "2022-01-31T00:00:00.000000000",
          "2022-02-07T00:00:00.000000000",
          "2022-02-14T00:00:00.000000000",
          "2022-02-21T00:00:00.000000000",
          "2022-02-28T00:00:00.000000000",
          "2022-03-07T00:00:00.000000000",
          "2022-03-14T00:00:00.000000000",
          "2022-03-21T00:00:00.000000000",
          "2022-03-28T00:00:00.000000000",
          "2022-04-04T00:00:00.000000000",
          "2022-04-11T00:00:00.000000000",
          "2022-04-18T00:00:00.000000000",
          "2022-04-25T00:00:00.000000000",
          "2022-05-02T00:00:00.000000000",
          "2022-05-09T00:00:00.000000000",
          "2022-05-16T00:00:00.000000000",
          "2022-05-23T00:00:00.000000000",
          "2022-05-30T00:00:00.000000000",
          "2022-06-06T00:00:00.000000000",
          "2022-06-13T00:00:00.000000000",
          "2022-06-20T00:00:00.000000000",
          "2022-06-27T00:00:00.000000000",
          "2022-07-04T00:00:00.000000000",
          "2022-07-11T00:00:00.000000000",
          "2022-07-18T00:00:00.000000000",
          "2022-07-25T00:00:00.000000000",
          "2022-08-01T00:00:00.000000000",
          "2022-08-08T00:00:00.000000000",
          "2022-08-15T00:00:00.000000000",
          "2022-08-22T00:00:00.000000000",
          "2022-08-29T00:00:00.000000000",
          "2022-09-05T00:00:00.000000000",
          "2022-09-12T00:00:00.000000000",
          "2022-09-19T00:00:00.000000000",
          "2022-09-26T00:00:00.000000000",
          "2022-10-03T00:00:00.000000000",
          "2022-10-10T00:00:00.000000000",
          "2022-10-17T00:00:00.000000000",
          "2022-10-24T00:00:00.000000000",
          "2022-10-31T00:00:00.000000000",
          "2022-11-07T00:00:00.000000000",
          "2022-11-14T00:00:00.000000000",
          "2022-11-21T00:00:00.000000000",
          "2022-11-28T00:00:00.000000000",
          "2022-12-05T00:00:00.000000000",
          "2022-12-12T00:00:00.000000000",
          "2022-12-19T00:00:00.000000000",
          "2022-12-26T00:00:00.000000000",
          "2023-01-02T00:00:00.000000000",
          "2023-01-09T00:00:00.000000000",
          "2023-01-16T00:00:00.000000000",
          "2023-01-23T00:00:00.000000000",
          "2023-01-30T00:00:00.000000000",
          "2023-02-06T00:00:00.000000000",
          "2023-02-13T00:00:00.000000000",
          "2023-02-20T00:00:00.000000000",
          "2023-02-27T00:00:00.000000000",
          "2023-03-06T00:00:00.000000000",
          "2023-03-13T00:00:00.000000000",
          "2023-03-20T00:00:00.000000000",
          "2023-03-27T00:00:00.000000000",
          "2023-04-03T00:00:00.000000000",
          "2023-04-10T00:00:00.000000000",
          "2023-04-17T00:00:00.000000000",
          "2023-04-24T00:00:00.000000000",
          "2023-05-01T00:00:00.000000000",
          "2023-05-08T00:00:00.000000000",
          "2023-05-15T00:00:00.000000000",
          "2023-05-22T00:00:00.000000000",
          "2023-05-29T00:00:00.000000000",
          "2023-06-05T00:00:00.000000000",
          "2023-06-12T00:00:00.000000000",
          "2023-06-19T00:00:00.000000000",
          "2023-06-26T00:00:00.000000000",
          "2023-07-03T00:00:00.000000000",
          "2023-07-10T00:00:00.000000000",
          "2023-07-17T00:00:00.000000000",
          "2023-07-24T00:00:00.000000000",
          "2023-07-31T00:00:00.000000000",
          "2023-08-07T00:00:00.000000000",
          "2023-08-14T00:00:00.000000000",
          "2023-08-21T00:00:00.000000000",
          "2023-08-28T00:00:00.000000000",
          "2023-09-04T00:00:00.000000000",
          "2023-09-11T00:00:00.000000000",
          "2023-09-18T00:00:00.000000000",
          "2023-09-25T00:00:00.000000000",
          "2023-10-02T00:00:00.000000000",
          "2023-10-09T00:00:00.000000000",
          "2023-10-16T00:00:00.000000000",
          "2023-10-23T00:00:00.000000000",
          "2023-10-30T00:00:00.000000000",
          "2023-11-06T00:00:00.000000000",
          "2023-11-13T00:00:00.000000000",
          "2023-11-20T00:00:00.000000000",
          "2023-11-27T00:00:00.000000000",
          "2023-12-04T00:00:00.000000000",
          "2023-12-11T00:00:00.000000000",
          "2023-12-18T00:00:00.000000000",
          "2023-12-25T00:00:00.000000000",
          "2024-01-01T00:00:00.000000000",
          "2024-01-08T00:00:00.000000000",
          "2024-01-15T00:00:00.000000000",
          "2024-01-22T00:00:00.000000000",
          "2024-01-29T00:00:00.000000000",
          "2024-02-05T00:00:00.000000000",
          "2024-02-12T00:00:00.000000000",
          "2024-02-19T00:00:00.000000000",
          "2024-02-26T00:00:00.000000000",
          "2024-03-04T00:00:00.000000000",
          "2024-03-11T00:00:00.000000000",
          "2024-03-18T00:00:00.000000000",
          "2024-03-25T00:00:00.000000000",
          "2024-04-01T00:00:00.000000000",
          "2024-04-08T00:00:00.000000000",
          "2024-04-15T00:00:00.000000000",
          "2024-04-22T00:00:00.000000000",
          "2024-04-29T00:00:00.000000000",
          "2024-05-06T00:00:00.000000000",
          "2024-05-13T00:00:00.000000000",
          "2024-05-20T00:00:00.000000000",
          "2024-05-27T00:00:00.000000000",
          "2024-06-03T00:00:00.000000000",
          "2024-06-10T00:00:00.000000000",
          "2024-06-17T00:00:00.000000000",
          "2024-06-24T00:00:00.000000000",
          "2024-07-01T00:00:00.000000000",
          "2024-07-08T00:00:00.000000000",
          "2024-07-15T00:00:00.000000000",
          "2024-07-22T00:00:00.000000000",
          "2024-07-29T00:00:00.000000000",
          "2024-08-05T00:00:00.000000000",
          "2024-08-12T00:00:00.000000000",
          "2024-08-19T00:00:00.000000000",
          "2024-08-26T00:00:00.000000000",
          "2024-09-02T00:00:00.000000000",
          "2024-09-09T00:00:00.000000000",
          "2024-09-16T00:00:00.000000000",
          "2024-09-23T00:00:00.000000000",
          "2024-09-30T00:00:00.000000000",
          "2024-10-07T00:00:00.000000000",
          "2024-10-14T00:00:00.000000000",
          "2024-10-21T00:00:00.000000000",
          "2024-10-28T00:00:00.000000000",
          "2024-11-04T00:00:00.000000000",
          "2024-11-11T00:00:00.000000000",
          "2024-11-18T00:00:00.000000000",
          "2024-11-25T00:00:00.000000000",
          "2024-12-02T00:00:00.000000000",
          "2024-12-09T00:00:00.000000000",
          "2024-12-16T00:00:00.000000000",
          "2024-12-23T00:00:00.000000000",
          "2024-12-30T00:00:00.000000000",
          "2025-01-06T00:00:00.000000000",
          "2025-01-13T00:00:00.000000000",
          "2025-01-20T00:00:00.000000000",
          "2025-01-27T00:00:00.000000000",
          "2025-02-03T00:00:00.000000000",
          "2025-02-10T00:00:00.000000000",
          "2025-02-17T00:00:00.000000000",
          "2025-02-24T00:00:00.000000000",
          "2025-03-03T00:00:00.000000000",
          "2025-03-10T00:00:00.000000000",
          "2025-03-17T00:00:00.000000000",
          "2025-03-24T00:00:00.000000000",
          "2025-03-31T00:00:00.000000000",
          "2025-04-07T00:00:00.000000000",
          "2025-04-14T00:00:00.000000000",
          "2025-04-21T00:00:00.000000000",
          "2025-04-28T00:00:00.000000000",
          "2025-05-05T00:00:00.000000000",
          "2025-05-12T00:00:00.000000000",
          "2025-05-19T00:00:00.000000000",
          "2025-05-26T00:00:00.000000000",
          "2025-06-02T00:00:00.000000000",
          "2025-06-09T00:00:00.000000000",
          "2025-06-16T00:00:00.000000000",
          "2025-06-23T00:00:00.000000000",
          "2025-06-30T00:00:00.000000000",
          "2025-07-07T00:00:00.000000000",
          "2025-07-14T00:00:00.000000000",
          "2025-07-21T00:00:00.000000000",
          "2025-07-28T00:00:00.000000000",
          "2025-08-04T00:00:00.000000000",
          "2025-08-11T00:00:00.000000000",
          "2025-08-18T00:00:00.000000000",
          "2025-08-25T00:00:00.000000000",
          "2025-09-01T00:00:00.000000000",
          "2025-09-08T00:00:00.000000000",
          "2025-09-15T00:00:00.000000000",
          "2025-09-22T00:00:00.000000000",
          "2025-09-29T00:00:00.000000000",
          "2025-10-06T00:00:00.000000000"
         ]
        }
       ],
       "layout": {
        "template": {
         "data": {
          "bar": [
           {
            "error_x": {
             "color": "#2a3f5f"
            },
            "error_y": {
             "color": "#2a3f5f"
            },
            "marker": {
             "line": {
              "color": "#E5ECF6",
              "width": 0.5
             },
             "pattern": {
              "fillmode": "overlay",
              "size": 10,
              "solidity": 0.2
             }
            },
            "type": "bar"
           }
          ],
          "barpolar": [
           {
            "marker": {
             "line": {
              "color": "#E5ECF6",
              "width": 0.5
             },
             "pattern": {
              "fillmode": "overlay",
              "size": 10,
              "solidity": 0.2
             }
            },
            "type": "barpolar"
           }
          ],
          "carpet": [
           {
            "aaxis": {
             "endlinecolor": "#2a3f5f",
             "gridcolor": "white",
             "linecolor": "white",
             "minorgridcolor": "white",
             "startlinecolor": "#2a3f5f"
            },
            "baxis": {
             "endlinecolor": "#2a3f5f",
             "gridcolor": "white",
             "linecolor": "white",
             "minorgridcolor": "white",
             "startlinecolor": "#2a3f5f"
            },
            "type": "carpet"
           }
          ],
          "choropleth": [
           {
            "colorbar": {
             "outlinewidth": 0,
             "ticks": ""
            },
            "type": "choropleth"
           }
          ],
          "contour": [
           {
            "colorbar": {
             "outlinewidth": 0,
             "ticks": ""
            },
            "colorscale": [
             [
              0,
              "#0d0887"
             ],
             [
              0.1111111111111111,
              "#46039f"
             ],
             [
              0.2222222222222222,
              "#7201a8"
             ],
             [
              0.3333333333333333,
              "#9c179e"
             ],
             [
              0.4444444444444444,
              "#bd3786"
             ],
             [
              0.5555555555555556,
              "#d8576b"
             ],
             [
              0.6666666666666666,
              "#ed7953"
             ],
             [
              0.7777777777777778,
              "#fb9f3a"
             ],
             [
              0.8888888888888888,
              "#fdca26"
             ],
             [
              1,
              "#f0f921"
             ]
            ],
            "type": "contour"
           }
          ],
          "contourcarpet": [
           {
            "colorbar": {
             "outlinewidth": 0,
             "ticks": ""
            },
            "type": "contourcarpet"
           }
          ],
          "heatmap": [
           {
            "colorbar": {
             "outlinewidth": 0,
             "ticks": ""
            },
            "colorscale": [
             [
              0,
              "#0d0887"
             ],
             [
              0.1111111111111111,
              "#46039f"
             ],
             [
              0.2222222222222222,
              "#7201a8"
             ],
             [
              0.3333333333333333,
              "#9c179e"
             ],
             [
              0.4444444444444444,
              "#bd3786"
             ],
             [
              0.5555555555555556,
              "#d8576b"
             ],
             [
              0.6666666666666666,
              "#ed7953"
             ],
             [
              0.7777777777777778,
              "#fb9f3a"
             ],
             [
              0.8888888888888888,
              "#fdca26"
             ],
             [
              1,
              "#f0f921"
             ]
            ],
            "type": "heatmap"
           }
          ],
          "histogram": [
           {
            "marker": {
             "pattern": {
              "fillmode": "overlay",
              "size": 10,
              "solidity": 0.2
             }
            },
            "type": "histogram"
           }
          ],
          "histogram2d": [
           {
            "colorbar": {
             "outlinewidth": 0,
             "ticks": ""
            },
            "colorscale": [
             [
              0,
              "#0d0887"
             ],
             [
              0.1111111111111111,
              "#46039f"
             ],
             [
              0.2222222222222222,
              "#7201a8"
             ],
             [
              0.3333333333333333,
              "#9c179e"
             ],
             [
              0.4444444444444444,
              "#bd3786"
             ],
             [
              0.5555555555555556,
              "#d8576b"
             ],
             [
              0.6666666666666666,
              "#ed7953"
             ],
             [
              0.7777777777777778,
              "#fb9f3a"
             ],
             [
              0.8888888888888888,
              "#fdca26"
             ],
             [
              1,
              "#f0f921"
             ]
            ],
            "type": "histogram2d"
           }
          ],
          "histogram2dcontour": [
           {
            "colorbar": {
             "outlinewidth": 0,
             "ticks": ""
            },
            "colorscale": [
             [
              0,
              "#0d0887"
             ],
             [
              0.1111111111111111,
              "#46039f"
             ],
             [
              0.2222222222222222,
              "#7201a8"
             ],
             [
              0.3333333333333333,
              "#9c179e"
             ],
             [
              0.4444444444444444,
              "#bd3786"
             ],
             [
              0.5555555555555556,
              "#d8576b"
             ],
             [
              0.6666666666666666,
              "#ed7953"
             ],
             [
              0.7777777777777778,
              "#fb9f3a"
             ],
             [
              0.8888888888888888,
              "#fdca26"
             ],
             [
              1,
              "#f0f921"
             ]
            ],
            "type": "histogram2dcontour"
           }
          ],
          "mesh3d": [
           {
            "colorbar": {
             "outlinewidth": 0,
             "ticks": ""
            },
            "type": "mesh3d"
           }
          ],
          "parcoords": [
           {
            "line": {
             "colorbar": {
              "outlinewidth": 0,
              "ticks": ""
             }
            },
            "type": "parcoords"
           }
          ],
          "pie": [
           {
            "automargin": true,
            "type": "pie"
           }
          ],
          "scatter": [
           {
            "fillpattern": {
             "fillmode": "overlay",
             "size": 10,
             "solidity": 0.2
            },
            "type": "scatter"
           }
          ],
          "scatter3d": [
           {
            "line": {
             "colorbar": {
              "outlinewidth": 0,
              "ticks": ""
             }
            },
            "marker": {
             "colorbar": {
              "outlinewidth": 0,
              "ticks": ""
             }
            },
            "type": "scatter3d"
           }
          ],
          "scattercarpet": [
           {
            "marker": {
             "colorbar": {
              "outlinewidth": 0,
              "ticks": ""
             }
            },
            "type": "scattercarpet"
           }
          ],
          "scattergeo": [
           {
            "marker": {
             "colorbar": {
              "outlinewidth": 0,
              "ticks": ""
             }
            },
            "type": "scattergeo"
           }
          ],
          "scattergl": [
           {
            "marker": {
             "colorbar": {
              "outlinewidth": 0,
              "ticks": ""
             }
            },
            "type": "scattergl"
           }
          ],
          "scattermap": [
           {
            "marker": {
             "colorbar": {
              "outlinewidth": 0,
              "ticks": ""
             }
            },
            "type": "scattermap"
           }
          ],
          "scattermapbox": [
           {
            "marker": {
             "colorbar": {
              "outlinewidth": 0,
              "ticks": ""
             }
            },
            "type": "scattermapbox"
           }
          ],
          "scatterpolar": [
           {
            "marker": {
             "colorbar": {
              "outlinewidth": 0,
              "ticks": ""
             }
            },
            "type": "scatterpolar"
           }
          ],
          "scatterpolargl": [
           {
            "marker": {
             "colorbar": {
              "outlinewidth": 0,
              "ticks": ""
             }
            },
            "type": "scatterpolargl"
           }
          ],
          "scatterternary": [
           {
            "marker": {
             "colorbar": {
              "outlinewidth": 0,
              "ticks": ""
             }
            },
            "type": "scatterternary"
           }
          ],
          "surface": [
           {
            "colorbar": {
             "outlinewidth": 0,
             "ticks": ""
            },
            "colorscale": [
             [
              0,
              "#0d0887"
             ],
             [
              0.1111111111111111,
              "#46039f"
             ],
             [
              0.2222222222222222,
              "#7201a8"
             ],
             [
              0.3333333333333333,
              "#9c179e"
             ],
             [
              0.4444444444444444,
              "#bd3786"
             ],
             [
              0.5555555555555556,
              "#d8576b"
             ],
             [
              0.6666666666666666,
              "#ed7953"
             ],
             [
              0.7777777777777778,
              "#fb9f3a"
             ],
             [
              0.8888888888888888,
              "#fdca26"
             ],
             [
              1,
              "#f0f921"
             ]
            ],
            "type": "surface"
           }
          ],
          "table": [
           {
            "cells": {
             "fill": {
              "color": "#EBF0F8"
             },
             "line": {
              "color": "white"
             }
            },
            "header": {
             "fill": {
              "color": "#C8D4E3"
             },
             "line": {
              "color": "white"
             }
            },
            "type": "table"
           }
          ]
         },
         "layout": {
          "annotationdefaults": {
           "arrowcolor": "#2a3f5f",
           "arrowhead": 0,
           "arrowwidth": 1
          },
          "autotypenumbers": "strict",
          "coloraxis": {
           "colorbar": {
            "outlinewidth": 0,
            "ticks": ""
           }
          },
          "colorscale": {
           "diverging": [
            [
             0,
             "#8e0152"
            ],
            [
             0.1,
             "#c51b7d"
            ],
            [
             0.2,
             "#de77ae"
            ],
            [
             0.3,
             "#f1b6da"
            ],
            [
             0.4,
             "#fde0ef"
            ],
            [
             0.5,
             "#f7f7f7"
            ],
            [
             0.6,
             "#e6f5d0"
            ],
            [
             0.7,
             "#b8e186"
            ],
            [
             0.8,
             "#7fbc41"
            ],
            [
             0.9,
             "#4d9221"
            ],
            [
             1,
             "#276419"
            ]
           ],
           "sequential": [
            [
             0,
             "#0d0887"
            ],
            [
             0.1111111111111111,
             "#46039f"
            ],
            [
             0.2222222222222222,
             "#7201a8"
            ],
            [
             0.3333333333333333,
             "#9c179e"
            ],
            [
             0.4444444444444444,
             "#bd3786"
            ],
            [
             0.5555555555555556,
             "#d8576b"
            ],
            [
             0.6666666666666666,
             "#ed7953"
            ],
            [
             0.7777777777777778,
             "#fb9f3a"
            ],
            [
             0.8888888888888888,
             "#fdca26"
            ],
            [
             1,
             "#f0f921"
            ]
           ],
           "sequentialminus": [
            [
             0,
             "#0d0887"
            ],
            [
             0.1111111111111111,
             "#46039f"
            ],
            [
             0.2222222222222222,
             "#7201a8"
            ],
            [
             0.3333333333333333,
             "#9c179e"
            ],
            [
             0.4444444444444444,
             "#bd3786"
            ],
            [
             0.5555555555555556,
             "#d8576b"
            ],
            [
             0.6666666666666666,
             "#ed7953"
            ],
            [
             0.7777777777777778,
             "#fb9f3a"
            ],
            [
             0.8888888888888888,
             "#fdca26"
            ],
            [
             1,
             "#f0f921"
            ]
           ]
          },
          "colorway": [
           "#636efa",
           "#EF553B",
           "#00cc96",
           "#ab63fa",
           "#FFA15A",
           "#19d3f3",
           "#FF6692",
           "#B6E880",
           "#FF97FF",
           "#FECB52"
          ],
          "font": {
           "color": "#2a3f5f"
          },
          "geo": {
           "bgcolor": "white",
           "lakecolor": "white",
           "landcolor": "#E5ECF6",
           "showlakes": true,
           "showland": true,
           "subunitcolor": "white"
          },
          "hoverlabel": {
           "align": "left"
          },
          "hovermode": "closest",
          "mapbox": {
           "style": "light"
          },
          "paper_bgcolor": "white",
          "plot_bgcolor": "#E5ECF6",
          "polar": {
           "angularaxis": {
            "gridcolor": "white",
            "linecolor": "white",
            "ticks": ""
           },
           "bgcolor": "#E5ECF6",
           "radialaxis": {
            "gridcolor": "white",
            "linecolor": "white",
            "ticks": ""
           }
          },
          "scene": {
           "xaxis": {
            "backgroundcolor": "#E5ECF6",
            "gridcolor": "white",
            "gridwidth": 2,
            "linecolor": "white",
            "showbackground": true,
            "ticks": "",
            "zerolinecolor": "white"
           },
           "yaxis": {
            "backgroundcolor": "#E5ECF6",
            "gridcolor": "white",
            "gridwidth": 2,
            "linecolor": "white",
            "showbackground": true,
            "ticks": "",
            "zerolinecolor": "white"
           },
           "zaxis": {
            "backgroundcolor": "#E5ECF6",
            "gridcolor": "white",
            "gridwidth": 2,
            "linecolor": "white",
            "showbackground": true,
            "ticks": "",
            "zerolinecolor": "white"
           }
          },
          "shapedefaults": {
           "line": {
            "color": "#2a3f5f"
           }
          },
          "ternary": {
           "aaxis": {
            "gridcolor": "white",
            "linecolor": "white",
            "ticks": ""
           },
           "baxis": {
            "gridcolor": "white",
            "linecolor": "white",
            "ticks": ""
           },
           "bgcolor": "#E5ECF6",
           "caxis": {
            "gridcolor": "white",
            "linecolor": "white",
            "ticks": ""
           }
          },
          "title": {
           "x": 0.05
          },
          "xaxis": {
           "automargin": true,
           "gridcolor": "white",
           "linecolor": "white",
           "ticks": "",
           "title": {
            "standoff": 15
           },
           "zerolinecolor": "white",
           "zerolinewidth": 2
          },
          "yaxis": {
           "automargin": true,
           "gridcolor": "white",
           "linecolor": "white",
           "ticks": "",
           "title": {
            "standoff": 15
           },
           "zerolinecolor": "white",
           "zerolinewidth": 2
          }
         }
        },
        "title": {
         "text": "Gráfico de velas japonesas para NVDA"
        },
        "xaxis": {
         "rangeslider": {
          "visible": false
         },
         "title": {
          "text": "Fecha"
         }
        },
        "yaxis": {
         "title": {
          "text": "Precio"
         }
        }
       }
      }
     },
     "metadata": {},
     "output_type": "display_data"
    },
    {
     "name": "stdout",
     "output_type": "stream",
     "text": [
      "Variación semanal: -2.38%\n",
      "Variación mensual: 3.01%\n",
      "Variación anual  : 35.91%\n"
     ]
    }
   ],
   "source": [
    "# Selecciona el ticker que quieres analizar\n",
    "ticker = tickers[2]  # Por ejemplo, el primero de la lista\n",
    "\n",
    "# Si descargaste los datos en formato multi-index, selecciona el ticker así:\n",
    "df_ticker = data.xs(ticker, axis=1, level=1)\n",
    "df_ticker = df_ticker.dropna()\n",
    "# Graficar precios de apertura y cierre\n",
    "fig = go.Figure(data=[\n",
    "    go.Candlestick(\n",
    "        x=df_ticker.index,\n",
    "        open=df_ticker['Open'],\n",
    "        high=df_ticker['High'],\n",
    "        low=df_ticker['Low'],\n",
    "        close=df_ticker['Close'],\n",
    "        name='Precio'\n",
    "    )\n",
    "])\n",
    "\n",
    "fig.update_layout(\n",
    "    title=f'Gráfico de velas japonesas para {ticker}',\n",
    "    xaxis_title='Fecha',\n",
    "    yaxis_title='Precio',\n",
    "    xaxis_rangeslider_visible=False\n",
    ")\n",
    "\n",
    "fig.show()\n",
    "\n",
    "# Calcular variaciones\n",
    "# Variación semanal (última semana vs anterior)\n",
    "var_semana = (df_ticker['Close'].iloc[-1] - df_ticker['Close'].iloc[-2])/df_ticker['Close'].iloc[-2] * 100\n",
    "# Variación mensual (último vs hace 4 semanas)\n",
    "var_mes = (df_ticker['Close'].iloc[-1] - df_ticker['Close'].iloc[-5])/df_ticker['Close'].iloc[-5] * 100\n",
    "# Variación anual (último vs hace 52 semanas)\n",
    "var_anio = (df_ticker['Close'].iloc[-1] - df_ticker['Close'].iloc[-53])/df_ticker['Close'].iloc[-53] * 100\n",
    "\n",
    "print(f\"Variación semanal: {var_semana:.2f}%\")\n",
    "print(f\"Variación mensual: {var_mes:.2f}%\")\n",
    "print(f\"Variación anual  : {var_anio:.2f}%\")"
   ]
  },
  {
   "cell_type": "markdown",
   "id": "c710c7d9",
   "metadata": {},
   "source": [
    "---\n",
    "<div style=\"text-align: center;\">\n",
    "    <h2><strong>LATAM</strong></h2>\n",
    "    <h3>Ticker: LTM</h3>\n",
    "</div>"
   ]
  },
  {
   "cell_type": "code",
   "execution_count": 47,
   "id": "0ae74bc7",
   "metadata": {},
   "outputs": [
    {
     "data": {
      "application/vnd.plotly.v1+json": {
       "config": {
        "plotlyServerURL": "https://plot.ly"
       },
       "data": [
        {
         "close": {
          "bdata": "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",
          "dtype": "f8"
         },
         "high": {
          "bdata": "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",
          "dtype": "f8"
         },
         "low": {
          "bdata": "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",
          "dtype": "f8"
         },
         "name": "Precio",
         "open": {
          "bdata": "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",
          "dtype": "f8"
         },
         "type": "candlestick",
         "x": [
          "2020-10-12T00:00:00.000000000",
          "2020-10-19T00:00:00.000000000",
          "2020-10-26T00:00:00.000000000",
          "2020-11-02T00:00:00.000000000",
          "2020-11-09T00:00:00.000000000",
          "2020-11-16T00:00:00.000000000",
          "2020-11-23T00:00:00.000000000",
          "2020-11-30T00:00:00.000000000",
          "2020-12-07T00:00:00.000000000",
          "2020-12-14T00:00:00.000000000",
          "2020-12-21T00:00:00.000000000",
          "2020-12-28T00:00:00.000000000",
          "2021-01-04T00:00:00.000000000",
          "2021-01-11T00:00:00.000000000",
          "2021-01-18T00:00:00.000000000",
          "2021-01-25T00:00:00.000000000",
          "2021-02-01T00:00:00.000000000",
          "2021-02-08T00:00:00.000000000",
          "2021-02-15T00:00:00.000000000",
          "2021-02-22T00:00:00.000000000",
          "2021-03-01T00:00:00.000000000",
          "2021-03-08T00:00:00.000000000",
          "2021-03-15T00:00:00.000000000",
          "2021-03-22T00:00:00.000000000",
          "2021-03-29T00:00:00.000000000",
          "2021-04-05T00:00:00.000000000",
          "2021-04-12T00:00:00.000000000",
          "2021-04-19T00:00:00.000000000",
          "2021-04-26T00:00:00.000000000",
          "2021-05-03T00:00:00.000000000",
          "2021-05-10T00:00:00.000000000",
          "2021-05-17T00:00:00.000000000",
          "2021-05-24T00:00:00.000000000",
          "2021-05-31T00:00:00.000000000",
          "2021-06-07T00:00:00.000000000",
          "2021-06-14T00:00:00.000000000",
          "2021-06-21T00:00:00.000000000",
          "2021-06-28T00:00:00.000000000",
          "2021-07-05T00:00:00.000000000",
          "2021-07-12T00:00:00.000000000",
          "2021-07-19T00:00:00.000000000",
          "2021-07-26T00:00:00.000000000",
          "2021-08-02T00:00:00.000000000",
          "2021-08-09T00:00:00.000000000",
          "2021-08-16T00:00:00.000000000",
          "2021-08-23T00:00:00.000000000",
          "2021-08-30T00:00:00.000000000",
          "2021-09-06T00:00:00.000000000",
          "2021-09-13T00:00:00.000000000",
          "2021-09-20T00:00:00.000000000",
          "2021-09-27T00:00:00.000000000",
          "2021-10-04T00:00:00.000000000",
          "2021-10-11T00:00:00.000000000",
          "2021-10-18T00:00:00.000000000",
          "2021-10-25T00:00:00.000000000",
          "2021-11-01T00:00:00.000000000",
          "2021-11-08T00:00:00.000000000",
          "2021-11-15T00:00:00.000000000",
          "2021-11-22T00:00:00.000000000",
          "2021-11-29T00:00:00.000000000",
          "2021-12-06T00:00:00.000000000",
          "2021-12-13T00:00:00.000000000",
          "2021-12-20T00:00:00.000000000",
          "2021-12-27T00:00:00.000000000",
          "2022-01-03T00:00:00.000000000",
          "2022-01-10T00:00:00.000000000",
          "2022-01-17T00:00:00.000000000",
          "2022-01-24T00:00:00.000000000",
          "2022-01-31T00:00:00.000000000",
          "2022-02-07T00:00:00.000000000",
          "2022-02-14T00:00:00.000000000",
          "2022-02-21T00:00:00.000000000",
          "2022-02-28T00:00:00.000000000",
          "2022-03-07T00:00:00.000000000",
          "2022-03-14T00:00:00.000000000",
          "2022-03-21T00:00:00.000000000",
          "2022-03-28T00:00:00.000000000",
          "2022-04-04T00:00:00.000000000",
          "2022-04-11T00:00:00.000000000",
          "2022-04-18T00:00:00.000000000",
          "2022-04-25T00:00:00.000000000",
          "2022-05-02T00:00:00.000000000",
          "2022-05-09T00:00:00.000000000",
          "2022-05-16T00:00:00.000000000",
          "2022-05-23T00:00:00.000000000",
          "2022-05-30T00:00:00.000000000",
          "2022-06-06T00:00:00.000000000",
          "2022-06-13T00:00:00.000000000",
          "2022-06-20T00:00:00.000000000",
          "2022-06-27T00:00:00.000000000",
          "2022-07-04T00:00:00.000000000",
          "2022-07-11T00:00:00.000000000",
          "2022-07-18T00:00:00.000000000",
          "2022-07-25T00:00:00.000000000",
          "2022-08-01T00:00:00.000000000",
          "2022-08-08T00:00:00.000000000",
          "2022-08-15T00:00:00.000000000",
          "2022-08-22T00:00:00.000000000",
          "2022-08-29T00:00:00.000000000",
          "2022-09-05T00:00:00.000000000",
          "2022-09-12T00:00:00.000000000",
          "2022-09-19T00:00:00.000000000",
          "2022-09-26T00:00:00.000000000",
          "2022-10-03T00:00:00.000000000",
          "2022-10-10T00:00:00.000000000",
          "2022-10-17T00:00:00.000000000",
          "2022-10-24T00:00:00.000000000",
          "2022-10-31T00:00:00.000000000",
          "2022-11-07T00:00:00.000000000",
          "2022-11-14T00:00:00.000000000",
          "2022-11-21T00:00:00.000000000",
          "2022-11-28T00:00:00.000000000",
          "2022-12-05T00:00:00.000000000",
          "2022-12-12T00:00:00.000000000",
          "2022-12-19T00:00:00.000000000",
          "2022-12-26T00:00:00.000000000",
          "2023-01-02T00:00:00.000000000",
          "2023-01-09T00:00:00.000000000",
          "2023-01-16T00:00:00.000000000",
          "2023-01-23T00:00:00.000000000",
          "2023-01-30T00:00:00.000000000",
          "2023-02-06T00:00:00.000000000",
          "2023-02-13T00:00:00.000000000",
          "2023-02-20T00:00:00.000000000",
          "2023-02-27T00:00:00.000000000",
          "2023-03-06T00:00:00.000000000",
          "2023-03-13T00:00:00.000000000",
          "2023-03-20T00:00:00.000000000",
          "2023-03-27T00:00:00.000000000",
          "2023-04-03T00:00:00.000000000",
          "2023-04-10T00:00:00.000000000",
          "2023-04-17T00:00:00.000000000",
          "2023-04-24T00:00:00.000000000",
          "2023-05-01T00:00:00.000000000",
          "2023-05-08T00:00:00.000000000",
          "2023-05-15T00:00:00.000000000",
          "2023-05-22T00:00:00.000000000",
          "2023-05-29T00:00:00.000000000",
          "2023-06-05T00:00:00.000000000",
          "2023-06-12T00:00:00.000000000",
          "2023-06-19T00:00:00.000000000",
          "2023-06-26T00:00:00.000000000",
          "2023-07-03T00:00:00.000000000",
          "2023-07-10T00:00:00.000000000",
          "2023-07-17T00:00:00.000000000",
          "2023-07-24T00:00:00.000000000",
          "2023-07-31T00:00:00.000000000",
          "2023-08-07T00:00:00.000000000",
          "2023-08-14T00:00:00.000000000",
          "2023-08-21T00:00:00.000000000",
          "2023-08-28T00:00:00.000000000",
          "2023-09-04T00:00:00.000000000",
          "2023-09-11T00:00:00.000000000",
          "2023-09-18T00:00:00.000000000",
          "2023-09-25T00:00:00.000000000",
          "2023-10-02T00:00:00.000000000",
          "2023-10-09T00:00:00.000000000",
          "2023-10-16T00:00:00.000000000",
          "2023-10-23T00:00:00.000000000",
          "2023-10-30T00:00:00.000000000",
          "2023-11-06T00:00:00.000000000",
          "2023-11-13T00:00:00.000000000",
          "2023-11-20T00:00:00.000000000",
          "2023-11-27T00:00:00.000000000",
          "2023-12-04T00:00:00.000000000",
          "2023-12-11T00:00:00.000000000",
          "2023-12-18T00:00:00.000000000",
          "2023-12-25T00:00:00.000000000",
          "2024-01-01T00:00:00.000000000",
          "2024-01-08T00:00:00.000000000",
          "2024-01-15T00:00:00.000000000",
          "2024-01-22T00:00:00.000000000",
          "2024-01-29T00:00:00.000000000",
          "2024-02-05T00:00:00.000000000",
          "2024-02-12T00:00:00.000000000",
          "2024-02-19T00:00:00.000000000",
          "2024-02-26T00:00:00.000000000",
          "2024-03-04T00:00:00.000000000",
          "2024-03-11T00:00:00.000000000",
          "2024-03-18T00:00:00.000000000",
          "2024-03-25T00:00:00.000000000",
          "2024-04-01T00:00:00.000000000",
          "2024-04-08T00:00:00.000000000",
          "2024-04-15T00:00:00.000000000",
          "2024-04-22T00:00:00.000000000",
          "2024-04-29T00:00:00.000000000",
          "2024-05-06T00:00:00.000000000",
          "2024-05-13T00:00:00.000000000",
          "2024-05-20T00:00:00.000000000",
          "2024-05-27T00:00:00.000000000",
          "2024-06-03T00:00:00.000000000",
          "2024-06-10T00:00:00.000000000",
          "2024-06-17T00:00:00.000000000",
          "2024-06-24T00:00:00.000000000",
          "2024-07-01T00:00:00.000000000",
          "2024-07-08T00:00:00.000000000",
          "2024-07-15T00:00:00.000000000",
          "2024-07-22T00:00:00.000000000",
          "2024-07-29T00:00:00.000000000",
          "2024-08-05T00:00:00.000000000",
          "2024-08-12T00:00:00.000000000",
          "2024-08-19T00:00:00.000000000",
          "2024-08-26T00:00:00.000000000",
          "2024-09-02T00:00:00.000000000",
          "2024-09-09T00:00:00.000000000",
          "2024-09-16T00:00:00.000000000",
          "2024-09-23T00:00:00.000000000",
          "2024-09-30T00:00:00.000000000",
          "2024-10-07T00:00:00.000000000",
          "2024-10-14T00:00:00.000000000",
          "2024-10-21T00:00:00.000000000",
          "2024-10-28T00:00:00.000000000",
          "2024-11-04T00:00:00.000000000",
          "2024-11-11T00:00:00.000000000",
          "2024-11-18T00:00:00.000000000",
          "2024-11-25T00:00:00.000000000",
          "2024-12-02T00:00:00.000000000",
          "2024-12-09T00:00:00.000000000",
          "2024-12-16T00:00:00.000000000",
          "2024-12-23T00:00:00.000000000",
          "2024-12-30T00:00:00.000000000",
          "2025-01-06T00:00:00.000000000",
          "2025-01-13T00:00:00.000000000",
          "2025-01-20T00:00:00.000000000",
          "2025-01-27T00:00:00.000000000",
          "2025-02-03T00:00:00.000000000",
          "2025-02-10T00:00:00.000000000",
          "2025-02-17T00:00:00.000000000",
          "2025-02-24T00:00:00.000000000",
          "2025-03-03T00:00:00.000000000",
          "2025-03-10T00:00:00.000000000",
          "2025-03-17T00:00:00.000000000",
          "2025-03-24T00:00:00.000000000",
          "2025-03-31T00:00:00.000000000",
          "2025-04-07T00:00:00.000000000",
          "2025-04-14T00:00:00.000000000",
          "2025-04-21T00:00:00.000000000",
          "2025-04-28T00:00:00.000000000",
          "2025-05-05T00:00:00.000000000",
          "2025-05-12T00:00:00.000000000",
          "2025-05-19T00:00:00.000000000",
          "2025-05-26T00:00:00.000000000",
          "2025-06-02T00:00:00.000000000",
          "2025-06-09T00:00:00.000000000",
          "2025-06-16T00:00:00.000000000",
          "2025-06-23T00:00:00.000000000",
          "2025-06-30T00:00:00.000000000",
          "2025-07-07T00:00:00.000000000",
          "2025-07-14T00:00:00.000000000",
          "2025-07-21T00:00:00.000000000",
          "2025-07-28T00:00:00.000000000",
          "2025-08-04T00:00:00.000000000",
          "2025-08-11T00:00:00.000000000",
          "2025-08-18T00:00:00.000000000",
          "2025-08-25T00:00:00.000000000",
          "2025-09-01T00:00:00.000000000",
          "2025-09-08T00:00:00.000000000",
          "2025-09-15T00:00:00.000000000",
          "2025-09-22T00:00:00.000000000",
          "2025-09-29T00:00:00.000000000",
          "2025-10-06T00:00:00.000000000"
         ]
        }
       ],
       "layout": {
        "template": {
         "data": {
          "bar": [
           {
            "error_x": {
             "color": "#2a3f5f"
            },
            "error_y": {
             "color": "#2a3f5f"
            },
            "marker": {
             "line": {
              "color": "#E5ECF6",
              "width": 0.5
             },
             "pattern": {
              "fillmode": "overlay",
              "size": 10,
              "solidity": 0.2
             }
            },
            "type": "bar"
           }
          ],
          "barpolar": [
           {
            "marker": {
             "line": {
              "color": "#E5ECF6",
              "width": 0.5
             },
             "pattern": {
              "fillmode": "overlay",
              "size": 10,
              "solidity": 0.2
             }
            },
            "type": "barpolar"
           }
          ],
          "carpet": [
           {
            "aaxis": {
             "endlinecolor": "#2a3f5f",
             "gridcolor": "white",
             "linecolor": "white",
             "minorgridcolor": "white",
             "startlinecolor": "#2a3f5f"
            },
            "baxis": {
             "endlinecolor": "#2a3f5f",
             "gridcolor": "white",
             "linecolor": "white",
             "minorgridcolor": "white",
             "startlinecolor": "#2a3f5f"
            },
            "type": "carpet"
           }
          ],
          "choropleth": [
           {
            "colorbar": {
             "outlinewidth": 0,
             "ticks": ""
            },
            "type": "choropleth"
           }
          ],
          "contour": [
           {
            "colorbar": {
             "outlinewidth": 0,
             "ticks": ""
            },
            "colorscale": [
             [
              0,
              "#0d0887"
             ],
             [
              0.1111111111111111,
              "#46039f"
             ],
             [
              0.2222222222222222,
              "#7201a8"
             ],
             [
              0.3333333333333333,
              "#9c179e"
             ],
             [
              0.4444444444444444,
              "#bd3786"
             ],
             [
              0.5555555555555556,
              "#d8576b"
             ],
             [
              0.6666666666666666,
              "#ed7953"
             ],
             [
              0.7777777777777778,
              "#fb9f3a"
             ],
             [
              0.8888888888888888,
              "#fdca26"
             ],
             [
              1,
              "#f0f921"
             ]
            ],
            "type": "contour"
           }
          ],
          "contourcarpet": [
           {
            "colorbar": {
             "outlinewidth": 0,
             "ticks": ""
            },
            "type": "contourcarpet"
           }
          ],
          "heatmap": [
           {
            "colorbar": {
             "outlinewidth": 0,
             "ticks": ""
            },
            "colorscale": [
             [
              0,
              "#0d0887"
             ],
             [
              0.1111111111111111,
              "#46039f"
             ],
             [
              0.2222222222222222,
              "#7201a8"
             ],
             [
              0.3333333333333333,
              "#9c179e"
             ],
             [
              0.4444444444444444,
              "#bd3786"
             ],
             [
              0.5555555555555556,
              "#d8576b"
             ],
             [
              0.6666666666666666,
              "#ed7953"
             ],
             [
              0.7777777777777778,
              "#fb9f3a"
             ],
             [
              0.8888888888888888,
              "#fdca26"
             ],
             [
              1,
              "#f0f921"
             ]
            ],
            "type": "heatmap"
           }
          ],
          "histogram": [
           {
            "marker": {
             "pattern": {
              "fillmode": "overlay",
              "size": 10,
              "solidity": 0.2
             }
            },
            "type": "histogram"
           }
          ],
          "histogram2d": [
           {
            "colorbar": {
             "outlinewidth": 0,
             "ticks": ""
            },
            "colorscale": [
             [
              0,
              "#0d0887"
             ],
             [
              0.1111111111111111,
              "#46039f"
             ],
             [
              0.2222222222222222,
              "#7201a8"
             ],
             [
              0.3333333333333333,
              "#9c179e"
             ],
             [
              0.4444444444444444,
              "#bd3786"
             ],
             [
              0.5555555555555556,
              "#d8576b"
             ],
             [
              0.6666666666666666,
              "#ed7953"
             ],
             [
              0.7777777777777778,
              "#fb9f3a"
             ],
             [
              0.8888888888888888,
              "#fdca26"
             ],
             [
              1,
              "#f0f921"
             ]
            ],
            "type": "histogram2d"
           }
          ],
          "histogram2dcontour": [
           {
            "colorbar": {
             "outlinewidth": 0,
             "ticks": ""
            },
            "colorscale": [
             [
              0,
              "#0d0887"
             ],
             [
              0.1111111111111111,
              "#46039f"
             ],
             [
              0.2222222222222222,
              "#7201a8"
             ],
             [
              0.3333333333333333,
              "#9c179e"
             ],
             [
              0.4444444444444444,
              "#bd3786"
             ],
             [
              0.5555555555555556,
              "#d8576b"
             ],
             [
              0.6666666666666666,
              "#ed7953"
             ],
             [
              0.7777777777777778,
              "#fb9f3a"
             ],
             [
              0.8888888888888888,
              "#fdca26"
             ],
             [
              1,
              "#f0f921"
             ]
            ],
            "type": "histogram2dcontour"
           }
          ],
          "mesh3d": [
           {
            "colorbar": {
             "outlinewidth": 0,
             "ticks": ""
            },
            "type": "mesh3d"
           }
          ],
          "parcoords": [
           {
            "line": {
             "colorbar": {
              "outlinewidth": 0,
              "ticks": ""
             }
            },
            "type": "parcoords"
           }
          ],
          "pie": [
           {
            "automargin": true,
            "type": "pie"
           }
          ],
          "scatter": [
           {
            "fillpattern": {
             "fillmode": "overlay",
             "size": 10,
             "solidity": 0.2
            },
            "type": "scatter"
           }
          ],
          "scatter3d": [
           {
            "line": {
             "colorbar": {
              "outlinewidth": 0,
              "ticks": ""
             }
            },
            "marker": {
             "colorbar": {
              "outlinewidth": 0,
              "ticks": ""
             }
            },
            "type": "scatter3d"
           }
          ],
          "scattercarpet": [
           {
            "marker": {
             "colorbar": {
              "outlinewidth": 0,
              "ticks": ""
             }
            },
            "type": "scattercarpet"
           }
          ],
          "scattergeo": [
           {
            "marker": {
             "colorbar": {
              "outlinewidth": 0,
              "ticks": ""
             }
            },
            "type": "scattergeo"
           }
          ],
          "scattergl": [
           {
            "marker": {
             "colorbar": {
              "outlinewidth": 0,
              "ticks": ""
             }
            },
            "type": "scattergl"
           }
          ],
          "scattermap": [
           {
            "marker": {
             "colorbar": {
              "outlinewidth": 0,
              "ticks": ""
             }
            },
            "type": "scattermap"
           }
          ],
          "scattermapbox": [
           {
            "marker": {
             "colorbar": {
              "outlinewidth": 0,
              "ticks": ""
             }
            },
            "type": "scattermapbox"
           }
          ],
          "scatterpolar": [
           {
            "marker": {
             "colorbar": {
              "outlinewidth": 0,
              "ticks": ""
             }
            },
            "type": "scatterpolar"
           }
          ],
          "scatterpolargl": [
           {
            "marker": {
             "colorbar": {
              "outlinewidth": 0,
              "ticks": ""
             }
            },
            "type": "scatterpolargl"
           }
          ],
          "scatterternary": [
           {
            "marker": {
             "colorbar": {
              "outlinewidth": 0,
              "ticks": ""
             }
            },
            "type": "scatterternary"
           }
          ],
          "surface": [
           {
            "colorbar": {
             "outlinewidth": 0,
             "ticks": ""
            },
            "colorscale": [
             [
              0,
              "#0d0887"
             ],
             [
              0.1111111111111111,
              "#46039f"
             ],
             [
              0.2222222222222222,
              "#7201a8"
             ],
             [
              0.3333333333333333,
              "#9c179e"
             ],
             [
              0.4444444444444444,
              "#bd3786"
             ],
             [
              0.5555555555555556,
              "#d8576b"
             ],
             [
              0.6666666666666666,
              "#ed7953"
             ],
             [
              0.7777777777777778,
              "#fb9f3a"
             ],
             [
              0.8888888888888888,
              "#fdca26"
             ],
             [
              1,
              "#f0f921"
             ]
            ],
            "type": "surface"
           }
          ],
          "table": [
           {
            "cells": {
             "fill": {
              "color": "#EBF0F8"
             },
             "line": {
              "color": "white"
             }
            },
            "header": {
             "fill": {
              "color": "#C8D4E3"
             },
             "line": {
              "color": "white"
             }
            },
            "type": "table"
           }
          ]
         },
         "layout": {
          "annotationdefaults": {
           "arrowcolor": "#2a3f5f",
           "arrowhead": 0,
           "arrowwidth": 1
          },
          "autotypenumbers": "strict",
          "coloraxis": {
           "colorbar": {
            "outlinewidth": 0,
            "ticks": ""
           }
          },
          "colorscale": {
           "diverging": [
            [
             0,
             "#8e0152"
            ],
            [
             0.1,
             "#c51b7d"
            ],
            [
             0.2,
             "#de77ae"
            ],
            [
             0.3,
             "#f1b6da"
            ],
            [
             0.4,
             "#fde0ef"
            ],
            [
             0.5,
             "#f7f7f7"
            ],
            [
             0.6,
             "#e6f5d0"
            ],
            [
             0.7,
             "#b8e186"
            ],
            [
             0.8,
             "#7fbc41"
            ],
            [
             0.9,
             "#4d9221"
            ],
            [
             1,
             "#276419"
            ]
           ],
           "sequential": [
            [
             0,
             "#0d0887"
            ],
            [
             0.1111111111111111,
             "#46039f"
            ],
            [
             0.2222222222222222,
             "#7201a8"
            ],
            [
             0.3333333333333333,
             "#9c179e"
            ],
            [
             0.4444444444444444,
             "#bd3786"
            ],
            [
             0.5555555555555556,
             "#d8576b"
            ],
            [
             0.6666666666666666,
             "#ed7953"
            ],
            [
             0.7777777777777778,
             "#fb9f3a"
            ],
            [
             0.8888888888888888,
             "#fdca26"
            ],
            [
             1,
             "#f0f921"
            ]
           ],
           "sequentialminus": [
            [
             0,
             "#0d0887"
            ],
            [
             0.1111111111111111,
             "#46039f"
            ],
            [
             0.2222222222222222,
             "#7201a8"
            ],
            [
             0.3333333333333333,
             "#9c179e"
            ],
            [
             0.4444444444444444,
             "#bd3786"
            ],
            [
             0.5555555555555556,
             "#d8576b"
            ],
            [
             0.6666666666666666,
             "#ed7953"
            ],
            [
             0.7777777777777778,
             "#fb9f3a"
            ],
            [
             0.8888888888888888,
             "#fdca26"
            ],
            [
             1,
             "#f0f921"
            ]
           ]
          },
          "colorway": [
           "#636efa",
           "#EF553B",
           "#00cc96",
           "#ab63fa",
           "#FFA15A",
           "#19d3f3",
           "#FF6692",
           "#B6E880",
           "#FF97FF",
           "#FECB52"
          ],
          "font": {
           "color": "#2a3f5f"
          },
          "geo": {
           "bgcolor": "white",
           "lakecolor": "white",
           "landcolor": "#E5ECF6",
           "showlakes": true,
           "showland": true,
           "subunitcolor": "white"
          },
          "hoverlabel": {
           "align": "left"
          },
          "hovermode": "closest",
          "mapbox": {
           "style": "light"
          },
          "paper_bgcolor": "white",
          "plot_bgcolor": "#E5ECF6",
          "polar": {
           "angularaxis": {
            "gridcolor": "white",
            "linecolor": "white",
            "ticks": ""
           },
           "bgcolor": "#E5ECF6",
           "radialaxis": {
            "gridcolor": "white",
            "linecolor": "white",
            "ticks": ""
           }
          },
          "scene": {
           "xaxis": {
            "backgroundcolor": "#E5ECF6",
            "gridcolor": "white",
            "gridwidth": 2,
            "linecolor": "white",
            "showbackground": true,
            "ticks": "",
            "zerolinecolor": "white"
           },
           "yaxis": {
            "backgroundcolor": "#E5ECF6",
            "gridcolor": "white",
            "gridwidth": 2,
            "linecolor": "white",
            "showbackground": true,
            "ticks": "",
            "zerolinecolor": "white"
           },
           "zaxis": {
            "backgroundcolor": "#E5ECF6",
            "gridcolor": "white",
            "gridwidth": 2,
            "linecolor": "white",
            "showbackground": true,
            "ticks": "",
            "zerolinecolor": "white"
           }
          },
          "shapedefaults": {
           "line": {
            "color": "#2a3f5f"
           }
          },
          "ternary": {
           "aaxis": {
            "gridcolor": "white",
            "linecolor": "white",
            "ticks": ""
           },
           "baxis": {
            "gridcolor": "white",
            "linecolor": "white",
            "ticks": ""
           },
           "bgcolor": "#E5ECF6",
           "caxis": {
            "gridcolor": "white",
            "linecolor": "white",
            "ticks": ""
           }
          },
          "title": {
           "x": 0.05
          },
          "xaxis": {
           "automargin": true,
           "gridcolor": "white",
           "linecolor": "white",
           "ticks": "",
           "title": {
            "standoff": 15
           },
           "zerolinecolor": "white",
           "zerolinewidth": 2
          },
          "yaxis": {
           "automargin": true,
           "gridcolor": "white",
           "linecolor": "white",
           "ticks": "",
           "title": {
            "standoff": 15
           },
           "zerolinecolor": "white",
           "zerolinewidth": 2
          }
         }
        },
        "title": {
         "text": "Gráfico de velas japonesas para LTM.SN"
        },
        "xaxis": {
         "rangeslider": {
          "visible": false
         },
         "title": {
          "text": "Fecha"
         }
        },
        "yaxis": {
         "title": {
          "text": "Precio"
         }
        }
       }
      }
     },
     "metadata": {},
     "output_type": "display_data"
    },
    {
     "name": "stdout",
     "output_type": "stream",
     "text": [
      "Variación semanal: -3.68%\n",
      "Variación mensual: -12.92%\n",
      "Variación anual  : 68.62%\n"
     ]
    }
   ],
   "source": [
    "# Selecciona el ticker que quieres analizar\n",
    "ticker = tickers[3]  # Por ejemplo, el primero de la lista\n",
    "\n",
    "# Si descargaste los datos en formato multi-index, selecciona el ticker así:\n",
    "df_ticker = data.xs(ticker, axis=1, level=1)\n",
    "df_ticker = df_ticker.dropna()\n",
    "# Graficar precios de apertura y cierre\n",
    "fig = go.Figure(data=[\n",
    "    go.Candlestick(\n",
    "        x=df_ticker.index,\n",
    "        open=df_ticker['Open'],\n",
    "        high=df_ticker['High'],\n",
    "        low=df_ticker['Low'],\n",
    "        close=df_ticker['Close'],\n",
    "        name='Precio'\n",
    "    )\n",
    "])\n",
    "\n",
    "fig.update_layout(\n",
    "    title=f'Gráfico de velas japonesas para {ticker}',\n",
    "    xaxis_title='Fecha',\n",
    "    yaxis_title='Precio',\n",
    "    xaxis_rangeslider_visible=False\n",
    ")\n",
    "\n",
    "fig.show()\n",
    "\n",
    "# Calcular variaciones\n",
    "# Variación semanal (última semana vs anterior)\n",
    "var_semana = (df_ticker['Close'].iloc[-1] - df_ticker['Close'].iloc[-2])/df_ticker['Close'].iloc[-2] * 100\n",
    "# Variación mensual (último vs hace 4 semanas)\n",
    "var_mes = (df_ticker['Close'].iloc[-1] - df_ticker['Close'].iloc[-5])/df_ticker['Close'].iloc[-5] * 100\n",
    "# Variación anual (último vs hace 52 semanas)\n",
    "var_anio = (df_ticker['Close'].iloc[-1] - df_ticker['Close'].iloc[-53])/df_ticker['Close'].iloc[-53] * 100\n",
    "\n",
    "print(f\"Variación semanal: {var_semana:.2f}%\")\n",
    "print(f\"Variación mensual: {var_mes:.2f}%\")\n",
    "print(f\"Variación anual  : {var_anio:.2f}%\")"
   ]
  },
  {
   "cell_type": "markdown",
   "id": "e99b4aeb",
   "metadata": {},
   "source": [
    "---\n",
    "<div style=\"text-align: center;\">\n",
    "    <h2><strong>Banco de Chile</strong></h2>\n",
    "    <h3>Ticker: BCH</h3>\n",
    "</div>"
   ]
  },
  {
   "cell_type": "code",
   "execution_count": 48,
   "id": "40010806",
   "metadata": {},
   "outputs": [
    {
     "data": {
      "application/vnd.plotly.v1+json": {
       "config": {
        "plotlyServerURL": "https://plot.ly"
       },
       "data": [
        {
         "close": {
          "bdata": "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",
          "dtype": "f8"
         },
         "high": {
          "bdata": "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",
          "dtype": "f8"
         },
         "low": {
          "bdata": "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",
          "dtype": "f8"
         },
         "name": "Precio",
         "open": {
          "bdata": "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",
          "dtype": "f8"
         },
         "type": "candlestick",
         "x": [
          "2020-10-12T00:00:00.000000000",
          "2020-10-19T00:00:00.000000000",
          "2020-10-26T00:00:00.000000000",
          "2020-11-02T00:00:00.000000000",
          "2020-11-09T00:00:00.000000000",
          "2020-11-16T00:00:00.000000000",
          "2020-11-23T00:00:00.000000000",
          "2020-11-30T00:00:00.000000000",
          "2020-12-07T00:00:00.000000000",
          "2020-12-14T00:00:00.000000000",
          "2020-12-21T00:00:00.000000000",
          "2020-12-28T00:00:00.000000000",
          "2021-01-04T00:00:00.000000000",
          "2021-01-11T00:00:00.000000000",
          "2021-01-18T00:00:00.000000000",
          "2021-01-25T00:00:00.000000000",
          "2021-02-01T00:00:00.000000000",
          "2021-02-08T00:00:00.000000000",
          "2021-02-15T00:00:00.000000000",
          "2021-02-22T00:00:00.000000000",
          "2021-03-01T00:00:00.000000000",
          "2021-03-08T00:00:00.000000000",
          "2021-03-15T00:00:00.000000000",
          "2021-03-22T00:00:00.000000000",
          "2021-03-29T00:00:00.000000000",
          "2021-04-05T00:00:00.000000000",
          "2021-04-12T00:00:00.000000000",
          "2021-04-19T00:00:00.000000000",
          "2021-04-26T00:00:00.000000000",
          "2021-05-03T00:00:00.000000000",
          "2021-05-10T00:00:00.000000000",
          "2021-05-17T00:00:00.000000000",
          "2021-05-24T00:00:00.000000000",
          "2021-05-31T00:00:00.000000000",
          "2021-06-07T00:00:00.000000000",
          "2021-06-14T00:00:00.000000000",
          "2021-06-21T00:00:00.000000000",
          "2021-06-28T00:00:00.000000000",
          "2021-07-05T00:00:00.000000000",
          "2021-07-12T00:00:00.000000000",
          "2021-07-19T00:00:00.000000000",
          "2021-07-26T00:00:00.000000000",
          "2021-08-02T00:00:00.000000000",
          "2021-08-09T00:00:00.000000000",
          "2021-08-16T00:00:00.000000000",
          "2021-08-23T00:00:00.000000000",
          "2021-08-30T00:00:00.000000000",
          "2021-09-06T00:00:00.000000000",
          "2021-09-13T00:00:00.000000000",
          "2021-09-20T00:00:00.000000000",
          "2021-09-27T00:00:00.000000000",
          "2021-10-04T00:00:00.000000000",
          "2021-10-11T00:00:00.000000000",
          "2021-10-18T00:00:00.000000000",
          "2021-10-25T00:00:00.000000000",
          "2021-11-01T00:00:00.000000000",
          "2021-11-08T00:00:00.000000000",
          "2021-11-15T00:00:00.000000000",
          "2021-11-22T00:00:00.000000000",
          "2021-11-29T00:00:00.000000000",
          "2021-12-06T00:00:00.000000000",
          "2021-12-13T00:00:00.000000000",
          "2021-12-20T00:00:00.000000000",
          "2021-12-27T00:00:00.000000000",
          "2022-01-03T00:00:00.000000000",
          "2022-01-10T00:00:00.000000000",
          "2022-01-17T00:00:00.000000000",
          "2022-01-24T00:00:00.000000000",
          "2022-01-31T00:00:00.000000000",
          "2022-02-07T00:00:00.000000000",
          "2022-02-14T00:00:00.000000000",
          "2022-02-21T00:00:00.000000000",
          "2022-02-28T00:00:00.000000000",
          "2022-03-07T00:00:00.000000000",
          "2022-03-14T00:00:00.000000000",
          "2022-03-21T00:00:00.000000000",
          "2022-03-28T00:00:00.000000000",
          "2022-04-04T00:00:00.000000000",
          "2022-04-11T00:00:00.000000000",
          "2022-04-18T00:00:00.000000000",
          "2022-04-25T00:00:00.000000000",
          "2022-05-02T00:00:00.000000000",
          "2022-05-09T00:00:00.000000000",
          "2022-05-16T00:00:00.000000000",
          "2022-05-23T00:00:00.000000000",
          "2022-05-30T00:00:00.000000000",
          "2022-06-06T00:00:00.000000000",
          "2022-06-13T00:00:00.000000000",
          "2022-06-20T00:00:00.000000000",
          "2022-06-27T00:00:00.000000000",
          "2022-07-04T00:00:00.000000000",
          "2022-07-11T00:00:00.000000000",
          "2022-07-18T00:00:00.000000000",
          "2022-07-25T00:00:00.000000000",
          "2022-08-01T00:00:00.000000000",
          "2022-08-08T00:00:00.000000000",
          "2022-08-15T00:00:00.000000000",
          "2022-08-22T00:00:00.000000000",
          "2022-08-29T00:00:00.000000000",
          "2022-09-05T00:00:00.000000000",
          "2022-09-12T00:00:00.000000000",
          "2022-09-19T00:00:00.000000000",
          "2022-09-26T00:00:00.000000000",
          "2022-10-03T00:00:00.000000000",
          "2022-10-10T00:00:00.000000000",
          "2022-10-17T00:00:00.000000000",
          "2022-10-24T00:00:00.000000000",
          "2022-10-31T00:00:00.000000000",
          "2022-11-07T00:00:00.000000000",
          "2022-11-14T00:00:00.000000000",
          "2022-11-21T00:00:00.000000000",
          "2022-11-28T00:00:00.000000000",
          "2022-12-05T00:00:00.000000000",
          "2022-12-12T00:00:00.000000000",
          "2022-12-19T00:00:00.000000000",
          "2022-12-26T00:00:00.000000000",
          "2023-01-02T00:00:00.000000000",
          "2023-01-09T00:00:00.000000000",
          "2023-01-16T00:00:00.000000000",
          "2023-01-23T00:00:00.000000000",
          "2023-01-30T00:00:00.000000000",
          "2023-02-06T00:00:00.000000000",
          "2023-02-13T00:00:00.000000000",
          "2023-02-20T00:00:00.000000000",
          "2023-02-27T00:00:00.000000000",
          "2023-03-06T00:00:00.000000000",
          "2023-03-13T00:00:00.000000000",
          "2023-03-20T00:00:00.000000000",
          "2023-03-27T00:00:00.000000000",
          "2023-04-03T00:00:00.000000000",
          "2023-04-10T00:00:00.000000000",
          "2023-04-17T00:00:00.000000000",
          "2023-04-24T00:00:00.000000000",
          "2023-05-01T00:00:00.000000000",
          "2023-05-08T00:00:00.000000000",
          "2023-05-15T00:00:00.000000000",
          "2023-05-22T00:00:00.000000000",
          "2023-05-29T00:00:00.000000000",
          "2023-06-05T00:00:00.000000000",
          "2023-06-12T00:00:00.000000000",
          "2023-06-19T00:00:00.000000000",
          "2023-06-26T00:00:00.000000000",
          "2023-07-03T00:00:00.000000000",
          "2023-07-10T00:00:00.000000000",
          "2023-07-17T00:00:00.000000000",
          "2023-07-24T00:00:00.000000000",
          "2023-07-31T00:00:00.000000000",
          "2023-08-07T00:00:00.000000000",
          "2023-08-14T00:00:00.000000000",
          "2023-08-21T00:00:00.000000000",
          "2023-08-28T00:00:00.000000000",
          "2023-09-04T00:00:00.000000000",
          "2023-09-11T00:00:00.000000000",
          "2023-09-18T00:00:00.000000000",
          "2023-09-25T00:00:00.000000000",
          "2023-10-02T00:00:00.000000000",
          "2023-10-09T00:00:00.000000000",
          "2023-10-16T00:00:00.000000000",
          "2023-10-23T00:00:00.000000000",
          "2023-10-30T00:00:00.000000000",
          "2023-11-06T00:00:00.000000000",
          "2023-11-13T00:00:00.000000000",
          "2023-11-20T00:00:00.000000000",
          "2023-11-27T00:00:00.000000000",
          "2023-12-04T00:00:00.000000000",
          "2023-12-11T00:00:00.000000000",
          "2023-12-18T00:00:00.000000000",
          "2023-12-25T00:00:00.000000000",
          "2024-01-01T00:00:00.000000000",
          "2024-01-08T00:00:00.000000000",
          "2024-01-15T00:00:00.000000000",
          "2024-01-22T00:00:00.000000000",
          "2024-01-29T00:00:00.000000000",
          "2024-02-05T00:00:00.000000000",
          "2024-02-12T00:00:00.000000000",
          "2024-02-19T00:00:00.000000000",
          "2024-02-26T00:00:00.000000000",
          "2024-03-04T00:00:00.000000000",
          "2024-03-11T00:00:00.000000000",
          "2024-03-18T00:00:00.000000000",
          "2024-03-25T00:00:00.000000000",
          "2024-04-01T00:00:00.000000000",
          "2024-04-08T00:00:00.000000000",
          "2024-04-15T00:00:00.000000000",
          "2024-04-22T00:00:00.000000000",
          "2024-04-29T00:00:00.000000000",
          "2024-05-06T00:00:00.000000000",
          "2024-05-13T00:00:00.000000000",
          "2024-05-20T00:00:00.000000000",
          "2024-05-27T00:00:00.000000000",
          "2024-06-03T00:00:00.000000000",
          "2024-06-10T00:00:00.000000000",
          "2024-06-17T00:00:00.000000000",
          "2024-06-24T00:00:00.000000000",
          "2024-07-01T00:00:00.000000000",
          "2024-07-08T00:00:00.000000000",
          "2024-07-15T00:00:00.000000000",
          "2024-07-22T00:00:00.000000000",
          "2024-07-29T00:00:00.000000000",
          "2024-08-05T00:00:00.000000000",
          "2024-08-12T00:00:00.000000000",
          "2024-08-19T00:00:00.000000000",
          "2024-08-26T00:00:00.000000000",
          "2024-09-02T00:00:00.000000000",
          "2024-09-09T00:00:00.000000000",
          "2024-09-16T00:00:00.000000000",
          "2024-09-23T00:00:00.000000000",
          "2024-09-30T00:00:00.000000000",
          "2024-10-07T00:00:00.000000000",
          "2024-10-14T00:00:00.000000000",
          "2024-10-21T00:00:00.000000000",
          "2024-10-28T00:00:00.000000000",
          "2024-11-04T00:00:00.000000000",
          "2024-11-11T00:00:00.000000000",
          "2024-11-18T00:00:00.000000000",
          "2024-11-25T00:00:00.000000000",
          "2024-12-02T00:00:00.000000000",
          "2024-12-09T00:00:00.000000000",
          "2024-12-16T00:00:00.000000000",
          "2024-12-23T00:00:00.000000000",
          "2024-12-30T00:00:00.000000000",
          "2025-01-06T00:00:00.000000000",
          "2025-01-13T00:00:00.000000000",
          "2025-01-20T00:00:00.000000000",
          "2025-01-27T00:00:00.000000000",
          "2025-02-03T00:00:00.000000000",
          "2025-02-10T00:00:00.000000000",
          "2025-02-17T00:00:00.000000000",
          "2025-02-24T00:00:00.000000000",
          "2025-03-03T00:00:00.000000000",
          "2025-03-10T00:00:00.000000000",
          "2025-03-17T00:00:00.000000000",
          "2025-03-24T00:00:00.000000000",
          "2025-03-31T00:00:00.000000000",
          "2025-04-07T00:00:00.000000000",
          "2025-04-14T00:00:00.000000000",
          "2025-04-21T00:00:00.000000000",
          "2025-04-28T00:00:00.000000000",
          "2025-05-05T00:00:00.000000000",
          "2025-05-12T00:00:00.000000000",
          "2025-05-19T00:00:00.000000000",
          "2025-05-26T00:00:00.000000000",
          "2025-06-02T00:00:00.000000000",
          "2025-06-09T00:00:00.000000000",
          "2025-06-16T00:00:00.000000000",
          "2025-06-23T00:00:00.000000000",
          "2025-06-30T00:00:00.000000000",
          "2025-07-07T00:00:00.000000000",
          "2025-07-14T00:00:00.000000000",
          "2025-07-21T00:00:00.000000000",
          "2025-07-28T00:00:00.000000000",
          "2025-08-04T00:00:00.000000000",
          "2025-08-11T00:00:00.000000000",
          "2025-08-18T00:00:00.000000000",
          "2025-08-25T00:00:00.000000000",
          "2025-09-01T00:00:00.000000000",
          "2025-09-08T00:00:00.000000000",
          "2025-09-15T00:00:00.000000000",
          "2025-09-22T00:00:00.000000000",
          "2025-09-29T00:00:00.000000000",
          "2025-10-06T00:00:00.000000000"
         ]
        }
       ],
       "layout": {
        "template": {
         "data": {
          "bar": [
           {
            "error_x": {
             "color": "#2a3f5f"
            },
            "error_y": {
             "color": "#2a3f5f"
            },
            "marker": {
             "line": {
              "color": "#E5ECF6",
              "width": 0.5
             },
             "pattern": {
              "fillmode": "overlay",
              "size": 10,
              "solidity": 0.2
             }
            },
            "type": "bar"
           }
          ],
          "barpolar": [
           {
            "marker": {
             "line": {
              "color": "#E5ECF6",
              "width": 0.5
             },
             "pattern": {
              "fillmode": "overlay",
              "size": 10,
              "solidity": 0.2
             }
            },
            "type": "barpolar"
           }
          ],
          "carpet": [
           {
            "aaxis": {
             "endlinecolor": "#2a3f5f",
             "gridcolor": "white",
             "linecolor": "white",
             "minorgridcolor": "white",
             "startlinecolor": "#2a3f5f"
            },
            "baxis": {
             "endlinecolor": "#2a3f5f",
             "gridcolor": "white",
             "linecolor": "white",
             "minorgridcolor": "white",
             "startlinecolor": "#2a3f5f"
            },
            "type": "carpet"
           }
          ],
          "choropleth": [
           {
            "colorbar": {
             "outlinewidth": 0,
             "ticks": ""
            },
            "type": "choropleth"
           }
          ],
          "contour": [
           {
            "colorbar": {
             "outlinewidth": 0,
             "ticks": ""
            },
            "colorscale": [
             [
              0,
              "#0d0887"
             ],
             [
              0.1111111111111111,
              "#46039f"
             ],
             [
              0.2222222222222222,
              "#7201a8"
             ],
             [
              0.3333333333333333,
              "#9c179e"
             ],
             [
              0.4444444444444444,
              "#bd3786"
             ],
             [
              0.5555555555555556,
              "#d8576b"
             ],
             [
              0.6666666666666666,
              "#ed7953"
             ],
             [
              0.7777777777777778,
              "#fb9f3a"
             ],
             [
              0.8888888888888888,
              "#fdca26"
             ],
             [
              1,
              "#f0f921"
             ]
            ],
            "type": "contour"
           }
          ],
          "contourcarpet": [
           {
            "colorbar": {
             "outlinewidth": 0,
             "ticks": ""
            },
            "type": "contourcarpet"
           }
          ],
          "heatmap": [
           {
            "colorbar": {
             "outlinewidth": 0,
             "ticks": ""
            },
            "colorscale": [
             [
              0,
              "#0d0887"
             ],
             [
              0.1111111111111111,
              "#46039f"
             ],
             [
              0.2222222222222222,
              "#7201a8"
             ],
             [
              0.3333333333333333,
              "#9c179e"
             ],
             [
              0.4444444444444444,
              "#bd3786"
             ],
             [
              0.5555555555555556,
              "#d8576b"
             ],
             [
              0.6666666666666666,
              "#ed7953"
             ],
             [
              0.7777777777777778,
              "#fb9f3a"
             ],
             [
              0.8888888888888888,
              "#fdca26"
             ],
             [
              1,
              "#f0f921"
             ]
            ],
            "type": "heatmap"
           }
          ],
          "histogram": [
           {
            "marker": {
             "pattern": {
              "fillmode": "overlay",
              "size": 10,
              "solidity": 0.2
             }
            },
            "type": "histogram"
           }
          ],
          "histogram2d": [
           {
            "colorbar": {
             "outlinewidth": 0,
             "ticks": ""
            },
            "colorscale": [
             [
              0,
              "#0d0887"
             ],
             [
              0.1111111111111111,
              "#46039f"
             ],
             [
              0.2222222222222222,
              "#7201a8"
             ],
             [
              0.3333333333333333,
              "#9c179e"
             ],
             [
              0.4444444444444444,
              "#bd3786"
             ],
             [
              0.5555555555555556,
              "#d8576b"
             ],
             [
              0.6666666666666666,
              "#ed7953"
             ],
             [
              0.7777777777777778,
              "#fb9f3a"
             ],
             [
              0.8888888888888888,
              "#fdca26"
             ],
             [
              1,
              "#f0f921"
             ]
            ],
            "type": "histogram2d"
           }
          ],
          "histogram2dcontour": [
           {
            "colorbar": {
             "outlinewidth": 0,
             "ticks": ""
            },
            "colorscale": [
             [
              0,
              "#0d0887"
             ],
             [
              0.1111111111111111,
              "#46039f"
             ],
             [
              0.2222222222222222,
              "#7201a8"
             ],
             [
              0.3333333333333333,
              "#9c179e"
             ],
             [
              0.4444444444444444,
              "#bd3786"
             ],
             [
              0.5555555555555556,
              "#d8576b"
             ],
             [
              0.6666666666666666,
              "#ed7953"
             ],
             [
              0.7777777777777778,
              "#fb9f3a"
             ],
             [
              0.8888888888888888,
              "#fdca26"
             ],
             [
              1,
              "#f0f921"
             ]
            ],
            "type": "histogram2dcontour"
           }
          ],
          "mesh3d": [
           {
            "colorbar": {
             "outlinewidth": 0,
             "ticks": ""
            },
            "type": "mesh3d"
           }
          ],
          "parcoords": [
           {
            "line": {
             "colorbar": {
              "outlinewidth": 0,
              "ticks": ""
             }
            },
            "type": "parcoords"
           }
          ],
          "pie": [
           {
            "automargin": true,
            "type": "pie"
           }
          ],
          "scatter": [
           {
            "fillpattern": {
             "fillmode": "overlay",
             "size": 10,
             "solidity": 0.2
            },
            "type": "scatter"
           }
          ],
          "scatter3d": [
           {
            "line": {
             "colorbar": {
              "outlinewidth": 0,
              "ticks": ""
             }
            },
            "marker": {
             "colorbar": {
              "outlinewidth": 0,
              "ticks": ""
             }
            },
            "type": "scatter3d"
           }
          ],
          "scattercarpet": [
           {
            "marker": {
             "colorbar": {
              "outlinewidth": 0,
              "ticks": ""
             }
            },
            "type": "scattercarpet"
           }
          ],
          "scattergeo": [
           {
            "marker": {
             "colorbar": {
              "outlinewidth": 0,
              "ticks": ""
             }
            },
            "type": "scattergeo"
           }
          ],
          "scattergl": [
           {
            "marker": {
             "colorbar": {
              "outlinewidth": 0,
              "ticks": ""
             }
            },
            "type": "scattergl"
           }
          ],
          "scattermap": [
           {
            "marker": {
             "colorbar": {
              "outlinewidth": 0,
              "ticks": ""
             }
            },
            "type": "scattermap"
           }
          ],
          "scattermapbox": [
           {
            "marker": {
             "colorbar": {
              "outlinewidth": 0,
              "ticks": ""
             }
            },
            "type": "scattermapbox"
           }
          ],
          "scatterpolar": [
           {
            "marker": {
             "colorbar": {
              "outlinewidth": 0,
              "ticks": ""
             }
            },
            "type": "scatterpolar"
           }
          ],
          "scatterpolargl": [
           {
            "marker": {
             "colorbar": {
              "outlinewidth": 0,
              "ticks": ""
             }
            },
            "type": "scatterpolargl"
           }
          ],
          "scatterternary": [
           {
            "marker": {
             "colorbar": {
              "outlinewidth": 0,
              "ticks": ""
             }
            },
            "type": "scatterternary"
           }
          ],
          "surface": [
           {
            "colorbar": {
             "outlinewidth": 0,
             "ticks": ""
            },
            "colorscale": [
             [
              0,
              "#0d0887"
             ],
             [
              0.1111111111111111,
              "#46039f"
             ],
             [
              0.2222222222222222,
              "#7201a8"
             ],
             [
              0.3333333333333333,
              "#9c179e"
             ],
             [
              0.4444444444444444,
              "#bd3786"
             ],
             [
              0.5555555555555556,
              "#d8576b"
             ],
             [
              0.6666666666666666,
              "#ed7953"
             ],
             [
              0.7777777777777778,
              "#fb9f3a"
             ],
             [
              0.8888888888888888,
              "#fdca26"
             ],
             [
              1,
              "#f0f921"
             ]
            ],
            "type": "surface"
           }
          ],
          "table": [
           {
            "cells": {
             "fill": {
              "color": "#EBF0F8"
             },
             "line": {
              "color": "white"
             }
            },
            "header": {
             "fill": {
              "color": "#C8D4E3"
             },
             "line": {
              "color": "white"
             }
            },
            "type": "table"
           }
          ]
         },
         "layout": {
          "annotationdefaults": {
           "arrowcolor": "#2a3f5f",
           "arrowhead": 0,
           "arrowwidth": 1
          },
          "autotypenumbers": "strict",
          "coloraxis": {
           "colorbar": {
            "outlinewidth": 0,
            "ticks": ""
           }
          },
          "colorscale": {
           "diverging": [
            [
             0,
             "#8e0152"
            ],
            [
             0.1,
             "#c51b7d"
            ],
            [
             0.2,
             "#de77ae"
            ],
            [
             0.3,
             "#f1b6da"
            ],
            [
             0.4,
             "#fde0ef"
            ],
            [
             0.5,
             "#f7f7f7"
            ],
            [
             0.6,
             "#e6f5d0"
            ],
            [
             0.7,
             "#b8e186"
            ],
            [
             0.8,
             "#7fbc41"
            ],
            [
             0.9,
             "#4d9221"
            ],
            [
             1,
             "#276419"
            ]
           ],
           "sequential": [
            [
             0,
             "#0d0887"
            ],
            [
             0.1111111111111111,
             "#46039f"
            ],
            [
             0.2222222222222222,
             "#7201a8"
            ],
            [
             0.3333333333333333,
             "#9c179e"
            ],
            [
             0.4444444444444444,
             "#bd3786"
            ],
            [
             0.5555555555555556,
             "#d8576b"
            ],
            [
             0.6666666666666666,
             "#ed7953"
            ],
            [
             0.7777777777777778,
             "#fb9f3a"
            ],
            [
             0.8888888888888888,
             "#fdca26"
            ],
            [
             1,
             "#f0f921"
            ]
           ],
           "sequentialminus": [
            [
             0,
             "#0d0887"
            ],
            [
             0.1111111111111111,
             "#46039f"
            ],
            [
             0.2222222222222222,
             "#7201a8"
            ],
            [
             0.3333333333333333,
             "#9c179e"
            ],
            [
             0.4444444444444444,
             "#bd3786"
            ],
            [
             0.5555555555555556,
             "#d8576b"
            ],
            [
             0.6666666666666666,
             "#ed7953"
            ],
            [
             0.7777777777777778,
             "#fb9f3a"
            ],
            [
             0.8888888888888888,
             "#fdca26"
            ],
            [
             1,
             "#f0f921"
            ]
           ]
          },
          "colorway": [
           "#636efa",
           "#EF553B",
           "#00cc96",
           "#ab63fa",
           "#FFA15A",
           "#19d3f3",
           "#FF6692",
           "#B6E880",
           "#FF97FF",
           "#FECB52"
          ],
          "font": {
           "color": "#2a3f5f"
          },
          "geo": {
           "bgcolor": "white",
           "lakecolor": "white",
           "landcolor": "#E5ECF6",
           "showlakes": true,
           "showland": true,
           "subunitcolor": "white"
          },
          "hoverlabel": {
           "align": "left"
          },
          "hovermode": "closest",
          "mapbox": {
           "style": "light"
          },
          "paper_bgcolor": "white",
          "plot_bgcolor": "#E5ECF6",
          "polar": {
           "angularaxis": {
            "gridcolor": "white",
            "linecolor": "white",
            "ticks": ""
           },
           "bgcolor": "#E5ECF6",
           "radialaxis": {
            "gridcolor": "white",
            "linecolor": "white",
            "ticks": ""
           }
          },
          "scene": {
           "xaxis": {
            "backgroundcolor": "#E5ECF6",
            "gridcolor": "white",
            "gridwidth": 2,
            "linecolor": "white",
            "showbackground": true,
            "ticks": "",
            "zerolinecolor": "white"
           },
           "yaxis": {
            "backgroundcolor": "#E5ECF6",
            "gridcolor": "white",
            "gridwidth": 2,
            "linecolor": "white",
            "showbackground": true,
            "ticks": "",
            "zerolinecolor": "white"
           },
           "zaxis": {
            "backgroundcolor": "#E5ECF6",
            "gridcolor": "white",
            "gridwidth": 2,
            "linecolor": "white",
            "showbackground": true,
            "ticks": "",
            "zerolinecolor": "white"
           }
          },
          "shapedefaults": {
           "line": {
            "color": "#2a3f5f"
           }
          },
          "ternary": {
           "aaxis": {
            "gridcolor": "white",
            "linecolor": "white",
            "ticks": ""
           },
           "baxis": {
            "gridcolor": "white",
            "linecolor": "white",
            "ticks": ""
           },
           "bgcolor": "#E5ECF6",
           "caxis": {
            "gridcolor": "white",
            "linecolor": "white",
            "ticks": ""
           }
          },
          "title": {
           "x": 0.05
          },
          "xaxis": {
           "automargin": true,
           "gridcolor": "white",
           "linecolor": "white",
           "ticks": "",
           "title": {
            "standoff": 15
           },
           "zerolinecolor": "white",
           "zerolinewidth": 2
          },
          "yaxis": {
           "automargin": true,
           "gridcolor": "white",
           "linecolor": "white",
           "ticks": "",
           "title": {
            "standoff": 15
           },
           "zerolinecolor": "white",
           "zerolinewidth": 2
          }
         }
        },
        "title": {
         "text": "Gráfico de velas japonesas para BCH"
        },
        "xaxis": {
         "rangeslider": {
          "visible": false
         },
         "title": {
          "text": "Fecha"
         }
        },
        "yaxis": {
         "title": {
          "text": "Precio"
         }
        }
       }
      }
     },
     "metadata": {},
     "output_type": "display_data"
    },
    {
     "name": "stdout",
     "output_type": "stream",
     "text": [
      "Variación semanal: -0.26%\n",
      "Variación mensual: 1.73%\n",
      "Variación anual  : 34.86%\n"
     ]
    }
   ],
   "source": [
    "# Selecciona el ticker que quieres analizar\n",
    "ticker = tickers[4]  # Por ejemplo, el primero de la lista\n",
    "\n",
    "# Si descargaste los datos en formato multi-index, selecciona el ticker así:\n",
    "df_ticker = data.xs(ticker, axis=1, level=1)\n",
    "df_ticker = df_ticker.dropna()\n",
    "# Graficar precios de apertura y cierre\n",
    "fig = go.Figure(data=[\n",
    "    go.Candlestick(\n",
    "        x=df_ticker.index,\n",
    "        open=df_ticker['Open'],\n",
    "        high=df_ticker['High'],\n",
    "        low=df_ticker['Low'],\n",
    "        close=df_ticker['Close'],\n",
    "        name='Precio'\n",
    "    )\n",
    "])\n",
    "\n",
    "fig.update_layout(\n",
    "    title=f'Gráfico de velas japonesas para {ticker}',\n",
    "    xaxis_title='Fecha',\n",
    "    yaxis_title='Precio',\n",
    "    xaxis_rangeslider_visible=False\n",
    ")\n",
    "\n",
    "fig.show()\n",
    "\n",
    "# Calcular variaciones\n",
    "# Variación semanal (última semana vs anterior)\n",
    "var_semana = (df_ticker['Close'].iloc[-1] - df_ticker['Close'].iloc[-2])/df_ticker['Close'].iloc[-2] * 100\n",
    "# Variación mensual (último vs hace 4 semanas)\n",
    "var_mes = (df_ticker['Close'].iloc[-1] - df_ticker['Close'].iloc[-5])/df_ticker['Close'].iloc[-5] * 100\n",
    "# Variación anual (último vs hace 52 semanas)\n",
    "var_anio = (df_ticker['Close'].iloc[-1] - df_ticker['Close'].iloc[-53])/df_ticker['Close'].iloc[-53] * 100\n",
    "\n",
    "print(f\"Variación semanal: {var_semana:.2f}%\")\n",
    "print(f\"Variación mensual: {var_mes:.2f}%\")\n",
    "print(f\"Variación anual  : {var_anio:.2f}%\")"
   ]
  },
  {
   "cell_type": "markdown",
   "id": "12f313fd",
   "metadata": {},
   "source": [
    "---\n",
    "<div style=\"text-align: center;\">\n",
    "    <h2><strong>Apple</strong></h2>\n",
    "    <h3>Ticker: AAPL</h3>\n",
    "</div>"
   ]
  },
  {
   "cell_type": "code",
   "execution_count": 49,
   "id": "be68bd72",
   "metadata": {},
   "outputs": [
    {
     "data": {
      "application/vnd.plotly.v1+json": {
       "config": {
        "plotlyServerURL": "https://plot.ly"
       },
       "data": [
        {
         "close": {
          "bdata": "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",
          "dtype": "f8"
         },
         "high": {
          "bdata": "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",
          "dtype": "f8"
         },
         "low": {
          "bdata": "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",
          "dtype": "f8"
         },
         "name": "Precio",
         "open": {
          "bdata": "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",
          "dtype": "f8"
         },
         "type": "candlestick",
         "x": [
          "2020-10-12T00:00:00.000000000",
          "2020-10-19T00:00:00.000000000",
          "2020-10-26T00:00:00.000000000",
          "2020-11-02T00:00:00.000000000",
          "2020-11-09T00:00:00.000000000",
          "2020-11-16T00:00:00.000000000",
          "2020-11-23T00:00:00.000000000",
          "2020-11-30T00:00:00.000000000",
          "2020-12-07T00:00:00.000000000",
          "2020-12-14T00:00:00.000000000",
          "2020-12-21T00:00:00.000000000",
          "2020-12-28T00:00:00.000000000",
          "2021-01-04T00:00:00.000000000",
          "2021-01-11T00:00:00.000000000",
          "2021-01-18T00:00:00.000000000",
          "2021-01-25T00:00:00.000000000",
          "2021-02-01T00:00:00.000000000",
          "2021-02-08T00:00:00.000000000",
          "2021-02-15T00:00:00.000000000",
          "2021-02-22T00:00:00.000000000",
          "2021-03-01T00:00:00.000000000",
          "2021-03-08T00:00:00.000000000",
          "2021-03-15T00:00:00.000000000",
          "2021-03-22T00:00:00.000000000",
          "2021-03-29T00:00:00.000000000",
          "2021-04-05T00:00:00.000000000",
          "2021-04-12T00:00:00.000000000",
          "2021-04-19T00:00:00.000000000",
          "2021-04-26T00:00:00.000000000",
          "2021-05-03T00:00:00.000000000",
          "2021-05-10T00:00:00.000000000",
          "2021-05-17T00:00:00.000000000",
          "2021-05-24T00:00:00.000000000",
          "2021-05-31T00:00:00.000000000",
          "2021-06-07T00:00:00.000000000",
          "2021-06-14T00:00:00.000000000",
          "2021-06-21T00:00:00.000000000",
          "2021-06-28T00:00:00.000000000",
          "2021-07-05T00:00:00.000000000",
          "2021-07-12T00:00:00.000000000",
          "2021-07-19T00:00:00.000000000",
          "2021-07-26T00:00:00.000000000",
          "2021-08-02T00:00:00.000000000",
          "2021-08-09T00:00:00.000000000",
          "2021-08-16T00:00:00.000000000",
          "2021-08-23T00:00:00.000000000",
          "2021-08-30T00:00:00.000000000",
          "2021-09-06T00:00:00.000000000",
          "2021-09-13T00:00:00.000000000",
          "2021-09-20T00:00:00.000000000",
          "2021-09-27T00:00:00.000000000",
          "2021-10-04T00:00:00.000000000",
          "2021-10-11T00:00:00.000000000",
          "2021-10-18T00:00:00.000000000",
          "2021-10-25T00:00:00.000000000",
          "2021-11-01T00:00:00.000000000",
          "2021-11-08T00:00:00.000000000",
          "2021-11-15T00:00:00.000000000",
          "2021-11-22T00:00:00.000000000",
          "2021-11-29T00:00:00.000000000",
          "2021-12-06T00:00:00.000000000",
          "2021-12-13T00:00:00.000000000",
          "2021-12-20T00:00:00.000000000",
          "2021-12-27T00:00:00.000000000",
          "2022-01-03T00:00:00.000000000",
          "2022-01-10T00:00:00.000000000",
          "2022-01-17T00:00:00.000000000",
          "2022-01-24T00:00:00.000000000",
          "2022-01-31T00:00:00.000000000",
          "2022-02-07T00:00:00.000000000",
          "2022-02-14T00:00:00.000000000",
          "2022-02-21T00:00:00.000000000",
          "2022-02-28T00:00:00.000000000",
          "2022-03-07T00:00:00.000000000",
          "2022-03-14T00:00:00.000000000",
          "2022-03-21T00:00:00.000000000",
          "2022-03-28T00:00:00.000000000",
          "2022-04-04T00:00:00.000000000",
          "2022-04-11T00:00:00.000000000",
          "2022-04-18T00:00:00.000000000",
          "2022-04-25T00:00:00.000000000",
          "2022-05-02T00:00:00.000000000",
          "2022-05-09T00:00:00.000000000",
          "2022-05-16T00:00:00.000000000",
          "2022-05-23T00:00:00.000000000",
          "2022-05-30T00:00:00.000000000",
          "2022-06-06T00:00:00.000000000",
          "2022-06-13T00:00:00.000000000",
          "2022-06-20T00:00:00.000000000",
          "2022-06-27T00:00:00.000000000",
          "2022-07-04T00:00:00.000000000",
          "2022-07-11T00:00:00.000000000",
          "2022-07-18T00:00:00.000000000",
          "2022-07-25T00:00:00.000000000",
          "2022-08-01T00:00:00.000000000",
          "2022-08-08T00:00:00.000000000",
          "2022-08-15T00:00:00.000000000",
          "2022-08-22T00:00:00.000000000",
          "2022-08-29T00:00:00.000000000",
          "2022-09-05T00:00:00.000000000",
          "2022-09-12T00:00:00.000000000",
          "2022-09-19T00:00:00.000000000",
          "2022-09-26T00:00:00.000000000",
          "2022-10-03T00:00:00.000000000",
          "2022-10-10T00:00:00.000000000",
          "2022-10-17T00:00:00.000000000",
          "2022-10-24T00:00:00.000000000",
          "2022-10-31T00:00:00.000000000",
          "2022-11-07T00:00:00.000000000",
          "2022-11-14T00:00:00.000000000",
          "2022-11-21T00:00:00.000000000",
          "2022-11-28T00:00:00.000000000",
          "2022-12-05T00:00:00.000000000",
          "2022-12-12T00:00:00.000000000",
          "2022-12-19T00:00:00.000000000",
          "2022-12-26T00:00:00.000000000",
          "2023-01-02T00:00:00.000000000",
          "2023-01-09T00:00:00.000000000",
          "2023-01-16T00:00:00.000000000",
          "2023-01-23T00:00:00.000000000",
          "2023-01-30T00:00:00.000000000",
          "2023-02-06T00:00:00.000000000",
          "2023-02-13T00:00:00.000000000",
          "2023-02-20T00:00:00.000000000",
          "2023-02-27T00:00:00.000000000",
          "2023-03-06T00:00:00.000000000",
          "2023-03-13T00:00:00.000000000",
          "2023-03-20T00:00:00.000000000",
          "2023-03-27T00:00:00.000000000",
          "2023-04-03T00:00:00.000000000",
          "2023-04-10T00:00:00.000000000",
          "2023-04-17T00:00:00.000000000",
          "2023-04-24T00:00:00.000000000",
          "2023-05-01T00:00:00.000000000",
          "2023-05-08T00:00:00.000000000",
          "2023-05-15T00:00:00.000000000",
          "2023-05-22T00:00:00.000000000",
          "2023-05-29T00:00:00.000000000",
          "2023-06-05T00:00:00.000000000",
          "2023-06-12T00:00:00.000000000",
          "2023-06-19T00:00:00.000000000",
          "2023-06-26T00:00:00.000000000",
          "2023-07-03T00:00:00.000000000",
          "2023-07-10T00:00:00.000000000",
          "2023-07-17T00:00:00.000000000",
          "2023-07-24T00:00:00.000000000",
          "2023-07-31T00:00:00.000000000",
          "2023-08-07T00:00:00.000000000",
          "2023-08-14T00:00:00.000000000",
          "2023-08-21T00:00:00.000000000",
          "2023-08-28T00:00:00.000000000",
          "2023-09-04T00:00:00.000000000",
          "2023-09-11T00:00:00.000000000",
          "2023-09-18T00:00:00.000000000",
          "2023-09-25T00:00:00.000000000",
          "2023-10-02T00:00:00.000000000",
          "2023-10-09T00:00:00.000000000",
          "2023-10-16T00:00:00.000000000",
          "2023-10-23T00:00:00.000000000",
          "2023-10-30T00:00:00.000000000",
          "2023-11-06T00:00:00.000000000",
          "2023-11-13T00:00:00.000000000",
          "2023-11-20T00:00:00.000000000",
          "2023-11-27T00:00:00.000000000",
          "2023-12-04T00:00:00.000000000",
          "2023-12-11T00:00:00.000000000",
          "2023-12-18T00:00:00.000000000",
          "2023-12-25T00:00:00.000000000",
          "2024-01-01T00:00:00.000000000",
          "2024-01-08T00:00:00.000000000",
          "2024-01-15T00:00:00.000000000",
          "2024-01-22T00:00:00.000000000",
          "2024-01-29T00:00:00.000000000",
          "2024-02-05T00:00:00.000000000",
          "2024-02-12T00:00:00.000000000",
          "2024-02-19T00:00:00.000000000",
          "2024-02-26T00:00:00.000000000",
          "2024-03-04T00:00:00.000000000",
          "2024-03-11T00:00:00.000000000",
          "2024-03-18T00:00:00.000000000",
          "2024-03-25T00:00:00.000000000",
          "2024-04-01T00:00:00.000000000",
          "2024-04-08T00:00:00.000000000",
          "2024-04-15T00:00:00.000000000",
          "2024-04-22T00:00:00.000000000",
          "2024-04-29T00:00:00.000000000",
          "2024-05-06T00:00:00.000000000",
          "2024-05-13T00:00:00.000000000",
          "2024-05-20T00:00:00.000000000",
          "2024-05-27T00:00:00.000000000",
          "2024-06-03T00:00:00.000000000",
          "2024-06-10T00:00:00.000000000",
          "2024-06-17T00:00:00.000000000",
          "2024-06-24T00:00:00.000000000",
          "2024-07-01T00:00:00.000000000",
          "2024-07-08T00:00:00.000000000",
          "2024-07-15T00:00:00.000000000",
          "2024-07-22T00:00:00.000000000",
          "2024-07-29T00:00:00.000000000",
          "2024-08-05T00:00:00.000000000",
          "2024-08-12T00:00:00.000000000",
          "2024-08-19T00:00:00.000000000",
          "2024-08-26T00:00:00.000000000",
          "2024-09-02T00:00:00.000000000",
          "2024-09-09T00:00:00.000000000",
          "2024-09-16T00:00:00.000000000",
          "2024-09-23T00:00:00.000000000",
          "2024-09-30T00:00:00.000000000",
          "2024-10-07T00:00:00.000000000",
          "2024-10-14T00:00:00.000000000",
          "2024-10-21T00:00:00.000000000",
          "2024-10-28T00:00:00.000000000",
          "2024-11-04T00:00:00.000000000",
          "2024-11-11T00:00:00.000000000",
          "2024-11-18T00:00:00.000000000",
          "2024-11-25T00:00:00.000000000",
          "2024-12-02T00:00:00.000000000",
          "2024-12-09T00:00:00.000000000",
          "2024-12-16T00:00:00.000000000",
          "2024-12-23T00:00:00.000000000",
          "2024-12-30T00:00:00.000000000",
          "2025-01-06T00:00:00.000000000",
          "2025-01-13T00:00:00.000000000",
          "2025-01-20T00:00:00.000000000",
          "2025-01-27T00:00:00.000000000",
          "2025-02-03T00:00:00.000000000",
          "2025-02-10T00:00:00.000000000",
          "2025-02-17T00:00:00.000000000",
          "2025-02-24T00:00:00.000000000",
          "2025-03-03T00:00:00.000000000",
          "2025-03-10T00:00:00.000000000",
          "2025-03-17T00:00:00.000000000",
          "2025-03-24T00:00:00.000000000",
          "2025-03-31T00:00:00.000000000",
          "2025-04-07T00:00:00.000000000",
          "2025-04-14T00:00:00.000000000",
          "2025-04-21T00:00:00.000000000",
          "2025-04-28T00:00:00.000000000",
          "2025-05-05T00:00:00.000000000",
          "2025-05-12T00:00:00.000000000",
          "2025-05-19T00:00:00.000000000",
          "2025-05-26T00:00:00.000000000",
          "2025-06-02T00:00:00.000000000",
          "2025-06-09T00:00:00.000000000",
          "2025-06-16T00:00:00.000000000",
          "2025-06-23T00:00:00.000000000",
          "2025-06-30T00:00:00.000000000",
          "2025-07-07T00:00:00.000000000",
          "2025-07-14T00:00:00.000000000",
          "2025-07-21T00:00:00.000000000",
          "2025-07-28T00:00:00.000000000",
          "2025-08-04T00:00:00.000000000",
          "2025-08-11T00:00:00.000000000",
          "2025-08-18T00:00:00.000000000",
          "2025-08-25T00:00:00.000000000",
          "2025-09-01T00:00:00.000000000",
          "2025-09-08T00:00:00.000000000",
          "2025-09-15T00:00:00.000000000",
          "2025-09-22T00:00:00.000000000",
          "2025-09-29T00:00:00.000000000",
          "2025-10-06T00:00:00.000000000"
         ]
        }
       ],
       "layout": {
        "template": {
         "data": {
          "bar": [
           {
            "error_x": {
             "color": "#2a3f5f"
            },
            "error_y": {
             "color": "#2a3f5f"
            },
            "marker": {
             "line": {
              "color": "#E5ECF6",
              "width": 0.5
             },
             "pattern": {
              "fillmode": "overlay",
              "size": 10,
              "solidity": 0.2
             }
            },
            "type": "bar"
           }
          ],
          "barpolar": [
           {
            "marker": {
             "line": {
              "color": "#E5ECF6",
              "width": 0.5
             },
             "pattern": {
              "fillmode": "overlay",
              "size": 10,
              "solidity": 0.2
             }
            },
            "type": "barpolar"
           }
          ],
          "carpet": [
           {
            "aaxis": {
             "endlinecolor": "#2a3f5f",
             "gridcolor": "white",
             "linecolor": "white",
             "minorgridcolor": "white",
             "startlinecolor": "#2a3f5f"
            },
            "baxis": {
             "endlinecolor": "#2a3f5f",
             "gridcolor": "white",
             "linecolor": "white",
             "minorgridcolor": "white",
             "startlinecolor": "#2a3f5f"
            },
            "type": "carpet"
           }
          ],
          "choropleth": [
           {
            "colorbar": {
             "outlinewidth": 0,
             "ticks": ""
            },
            "type": "choropleth"
           }
          ],
          "contour": [
           {
            "colorbar": {
             "outlinewidth": 0,
             "ticks": ""
            },
            "colorscale": [
             [
              0,
              "#0d0887"
             ],
             [
              0.1111111111111111,
              "#46039f"
             ],
             [
              0.2222222222222222,
              "#7201a8"
             ],
             [
              0.3333333333333333,
              "#9c179e"
             ],
             [
              0.4444444444444444,
              "#bd3786"
             ],
             [
              0.5555555555555556,
              "#d8576b"
             ],
             [
              0.6666666666666666,
              "#ed7953"
             ],
             [
              0.7777777777777778,
              "#fb9f3a"
             ],
             [
              0.8888888888888888,
              "#fdca26"
             ],
             [
              1,
              "#f0f921"
             ]
            ],
            "type": "contour"
           }
          ],
          "contourcarpet": [
           {
            "colorbar": {
             "outlinewidth": 0,
             "ticks": ""
            },
            "type": "contourcarpet"
           }
          ],
          "heatmap": [
           {
            "colorbar": {
             "outlinewidth": 0,
             "ticks": ""
            },
            "colorscale": [
             [
              0,
              "#0d0887"
             ],
             [
              0.1111111111111111,
              "#46039f"
             ],
             [
              0.2222222222222222,
              "#7201a8"
             ],
             [
              0.3333333333333333,
              "#9c179e"
             ],
             [
              0.4444444444444444,
              "#bd3786"
             ],
             [
              0.5555555555555556,
              "#d8576b"
             ],
             [
              0.6666666666666666,
              "#ed7953"
             ],
             [
              0.7777777777777778,
              "#fb9f3a"
             ],
             [
              0.8888888888888888,
              "#fdca26"
             ],
             [
              1,
              "#f0f921"
             ]
            ],
            "type": "heatmap"
           }
          ],
          "histogram": [
           {
            "marker": {
             "pattern": {
              "fillmode": "overlay",
              "size": 10,
              "solidity": 0.2
             }
            },
            "type": "histogram"
           }
          ],
          "histogram2d": [
           {
            "colorbar": {
             "outlinewidth": 0,
             "ticks": ""
            },
            "colorscale": [
             [
              0,
              "#0d0887"
             ],
             [
              0.1111111111111111,
              "#46039f"
             ],
             [
              0.2222222222222222,
              "#7201a8"
             ],
             [
              0.3333333333333333,
              "#9c179e"
             ],
             [
              0.4444444444444444,
              "#bd3786"
             ],
             [
              0.5555555555555556,
              "#d8576b"
             ],
             [
              0.6666666666666666,
              "#ed7953"
             ],
             [
              0.7777777777777778,
              "#fb9f3a"
             ],
             [
              0.8888888888888888,
              "#fdca26"
             ],
             [
              1,
              "#f0f921"
             ]
            ],
            "type": "histogram2d"
           }
          ],
          "histogram2dcontour": [
           {
            "colorbar": {
             "outlinewidth": 0,
             "ticks": ""
            },
            "colorscale": [
             [
              0,
              "#0d0887"
             ],
             [
              0.1111111111111111,
              "#46039f"
             ],
             [
              0.2222222222222222,
              "#7201a8"
             ],
             [
              0.3333333333333333,
              "#9c179e"
             ],
             [
              0.4444444444444444,
              "#bd3786"
             ],
             [
              0.5555555555555556,
              "#d8576b"
             ],
             [
              0.6666666666666666,
              "#ed7953"
             ],
             [
              0.7777777777777778,
              "#fb9f3a"
             ],
             [
              0.8888888888888888,
              "#fdca26"
             ],
             [
              1,
              "#f0f921"
             ]
            ],
            "type": "histogram2dcontour"
           }
          ],
          "mesh3d": [
           {
            "colorbar": {
             "outlinewidth": 0,
             "ticks": ""
            },
            "type": "mesh3d"
           }
          ],
          "parcoords": [
           {
            "line": {
             "colorbar": {
              "outlinewidth": 0,
              "ticks": ""
             }
            },
            "type": "parcoords"
           }
          ],
          "pie": [
           {
            "automargin": true,
            "type": "pie"
           }
          ],
          "scatter": [
           {
            "fillpattern": {
             "fillmode": "overlay",
             "size": 10,
             "solidity": 0.2
            },
            "type": "scatter"
           }
          ],
          "scatter3d": [
           {
            "line": {
             "colorbar": {
              "outlinewidth": 0,
              "ticks": ""
             }
            },
            "marker": {
             "colorbar": {
              "outlinewidth": 0,
              "ticks": ""
             }
            },
            "type": "scatter3d"
           }
          ],
          "scattercarpet": [
           {
            "marker": {
             "colorbar": {
              "outlinewidth": 0,
              "ticks": ""
             }
            },
            "type": "scattercarpet"
           }
          ],
          "scattergeo": [
           {
            "marker": {
             "colorbar": {
              "outlinewidth": 0,
              "ticks": ""
             }
            },
            "type": "scattergeo"
           }
          ],
          "scattergl": [
           {
            "marker": {
             "colorbar": {
              "outlinewidth": 0,
              "ticks": ""
             }
            },
            "type": "scattergl"
           }
          ],
          "scattermap": [
           {
            "marker": {
             "colorbar": {
              "outlinewidth": 0,
              "ticks": ""
             }
            },
            "type": "scattermap"
           }
          ],
          "scattermapbox": [
           {
            "marker": {
             "colorbar": {
              "outlinewidth": 0,
              "ticks": ""
             }
            },
            "type": "scattermapbox"
           }
          ],
          "scatterpolar": [
           {
            "marker": {
             "colorbar": {
              "outlinewidth": 0,
              "ticks": ""
             }
            },
            "type": "scatterpolar"
           }
          ],
          "scatterpolargl": [
           {
            "marker": {
             "colorbar": {
              "outlinewidth": 0,
              "ticks": ""
             }
            },
            "type": "scatterpolargl"
           }
          ],
          "scatterternary": [
           {
            "marker": {
             "colorbar": {
              "outlinewidth": 0,
              "ticks": ""
             }
            },
            "type": "scatterternary"
           }
          ],
          "surface": [
           {
            "colorbar": {
             "outlinewidth": 0,
             "ticks": ""
            },
            "colorscale": [
             [
              0,
              "#0d0887"
             ],
             [
              0.1111111111111111,
              "#46039f"
             ],
             [
              0.2222222222222222,
              "#7201a8"
             ],
             [
              0.3333333333333333,
              "#9c179e"
             ],
             [
              0.4444444444444444,
              "#bd3786"
             ],
             [
              0.5555555555555556,
              "#d8576b"
             ],
             [
              0.6666666666666666,
              "#ed7953"
             ],
             [
              0.7777777777777778,
              "#fb9f3a"
             ],
             [
              0.8888888888888888,
              "#fdca26"
             ],
             [
              1,
              "#f0f921"
             ]
            ],
            "type": "surface"
           }
          ],
          "table": [
           {
            "cells": {
             "fill": {
              "color": "#EBF0F8"
             },
             "line": {
              "color": "white"
             }
            },
            "header": {
             "fill": {
              "color": "#C8D4E3"
             },
             "line": {
              "color": "white"
             }
            },
            "type": "table"
           }
          ]
         },
         "layout": {
          "annotationdefaults": {
           "arrowcolor": "#2a3f5f",
           "arrowhead": 0,
           "arrowwidth": 1
          },
          "autotypenumbers": "strict",
          "coloraxis": {
           "colorbar": {
            "outlinewidth": 0,
            "ticks": ""
           }
          },
          "colorscale": {
           "diverging": [
            [
             0,
             "#8e0152"
            ],
            [
             0.1,
             "#c51b7d"
            ],
            [
             0.2,
             "#de77ae"
            ],
            [
             0.3,
             "#f1b6da"
            ],
            [
             0.4,
             "#fde0ef"
            ],
            [
             0.5,
             "#f7f7f7"
            ],
            [
             0.6,
             "#e6f5d0"
            ],
            [
             0.7,
             "#b8e186"
            ],
            [
             0.8,
             "#7fbc41"
            ],
            [
             0.9,
             "#4d9221"
            ],
            [
             1,
             "#276419"
            ]
           ],
           "sequential": [
            [
             0,
             "#0d0887"
            ],
            [
             0.1111111111111111,
             "#46039f"
            ],
            [
             0.2222222222222222,
             "#7201a8"
            ],
            [
             0.3333333333333333,
             "#9c179e"
            ],
            [
             0.4444444444444444,
             "#bd3786"
            ],
            [
             0.5555555555555556,
             "#d8576b"
            ],
            [
             0.6666666666666666,
             "#ed7953"
            ],
            [
             0.7777777777777778,
             "#fb9f3a"
            ],
            [
             0.8888888888888888,
             "#fdca26"
            ],
            [
             1,
             "#f0f921"
            ]
           ],
           "sequentialminus": [
            [
             0,
             "#0d0887"
            ],
            [
             0.1111111111111111,
             "#46039f"
            ],
            [
             0.2222222222222222,
             "#7201a8"
            ],
            [
             0.3333333333333333,
             "#9c179e"
            ],
            [
             0.4444444444444444,
             "#bd3786"
            ],
            [
             0.5555555555555556,
             "#d8576b"
            ],
            [
             0.6666666666666666,
             "#ed7953"
            ],
            [
             0.7777777777777778,
             "#fb9f3a"
            ],
            [
             0.8888888888888888,
             "#fdca26"
            ],
            [
             1,
             "#f0f921"
            ]
           ]
          },
          "colorway": [
           "#636efa",
           "#EF553B",
           "#00cc96",
           "#ab63fa",
           "#FFA15A",
           "#19d3f3",
           "#FF6692",
           "#B6E880",
           "#FF97FF",
           "#FECB52"
          ],
          "font": {
           "color": "#2a3f5f"
          },
          "geo": {
           "bgcolor": "white",
           "lakecolor": "white",
           "landcolor": "#E5ECF6",
           "showlakes": true,
           "showland": true,
           "subunitcolor": "white"
          },
          "hoverlabel": {
           "align": "left"
          },
          "hovermode": "closest",
          "mapbox": {
           "style": "light"
          },
          "paper_bgcolor": "white",
          "plot_bgcolor": "#E5ECF6",
          "polar": {
           "angularaxis": {
            "gridcolor": "white",
            "linecolor": "white",
            "ticks": ""
           },
           "bgcolor": "#E5ECF6",
           "radialaxis": {
            "gridcolor": "white",
            "linecolor": "white",
            "ticks": ""
           }
          },
          "scene": {
           "xaxis": {
            "backgroundcolor": "#E5ECF6",
            "gridcolor": "white",
            "gridwidth": 2,
            "linecolor": "white",
            "showbackground": true,
            "ticks": "",
            "zerolinecolor": "white"
           },
           "yaxis": {
            "backgroundcolor": "#E5ECF6",
            "gridcolor": "white",
            "gridwidth": 2,
            "linecolor": "white",
            "showbackground": true,
            "ticks": "",
            "zerolinecolor": "white"
           },
           "zaxis": {
            "backgroundcolor": "#E5ECF6",
            "gridcolor": "white",
            "gridwidth": 2,
            "linecolor": "white",
            "showbackground": true,
            "ticks": "",
            "zerolinecolor": "white"
           }
          },
          "shapedefaults": {
           "line": {
            "color": "#2a3f5f"
           }
          },
          "ternary": {
           "aaxis": {
            "gridcolor": "white",
            "linecolor": "white",
            "ticks": ""
           },
           "baxis": {
            "gridcolor": "white",
            "linecolor": "white",
            "ticks": ""
           },
           "bgcolor": "#E5ECF6",
           "caxis": {
            "gridcolor": "white",
            "linecolor": "white",
            "ticks": ""
           }
          },
          "title": {
           "x": 0.05
          },
          "xaxis": {
           "automargin": true,
           "gridcolor": "white",
           "linecolor": "white",
           "ticks": "",
           "title": {
            "standoff": 15
           },
           "zerolinecolor": "white",
           "zerolinewidth": 2
          },
          "yaxis": {
           "automargin": true,
           "gridcolor": "white",
           "linecolor": "white",
           "ticks": "",
           "title": {
            "standoff": 15
           },
           "zerolinecolor": "white",
           "zerolinewidth": 2
          }
         }
        },
        "title": {
         "text": "Gráfico de velas japonesas para AAPL"
        },
        "xaxis": {
         "rangeslider": {
          "visible": false
         },
         "title": {
          "text": "Fecha"
         }
        },
        "yaxis": {
         "title": {
          "text": "Precio"
         }
        }
       }
      }
     },
     "metadata": {},
     "output_type": "display_data"
    },
    {
     "name": "stdout",
     "output_type": "stream",
     "text": [
      "Variación semanal: -4.94%\n",
      "Variación mensual: 4.78%\n",
      "Variación anual  : 8.29%\n"
     ]
    }
   ],
   "source": [
    "# Selecciona el ticker que quieres analizar\n",
    "ticker = tickers[5]  # Por ejemplo, el primero de la lista\n",
    "\n",
    "# Si descargaste los datos en formato multi-index, selecciona el ticker así:\n",
    "df_ticker = data.xs(ticker, axis=1, level=1)\n",
    "df_ticker = df_ticker.dropna()\n",
    "# Graficar precios de apertura y cierre\n",
    "fig = go.Figure(data=[\n",
    "    go.Candlestick(\n",
    "        x=df_ticker.index,\n",
    "        open=df_ticker['Open'],\n",
    "        high=df_ticker['High'],\n",
    "        low=df_ticker['Low'],\n",
    "        close=df_ticker['Close'],\n",
    "        name='Precio'\n",
    "    )\n",
    "])\n",
    "\n",
    "fig.update_layout(\n",
    "    title=f'Gráfico de velas japonesas para {ticker}',\n",
    "    xaxis_title='Fecha',\n",
    "    yaxis_title='Precio',\n",
    "    xaxis_rangeslider_visible=False\n",
    ")\n",
    "\n",
    "fig.show()\n",
    "\n",
    "# Calcular variaciones\n",
    "# Variación semanal (última semana vs anterior)\n",
    "var_semana = (df_ticker['Close'].iloc[-1] - df_ticker['Close'].iloc[-2])/df_ticker['Close'].iloc[-2] * 100\n",
    "# Variación mensual (último vs hace 4 semanas)\n",
    "var_mes = (df_ticker['Close'].iloc[-1] - df_ticker['Close'].iloc[-5])/df_ticker['Close'].iloc[-5] * 100\n",
    "# Variación anual (último vs hace 52 semanas)\n",
    "var_anio = (df_ticker['Close'].iloc[-1] - df_ticker['Close'].iloc[-53])/df_ticker['Close'].iloc[-53] * 100\n",
    "\n",
    "print(f\"Variación semanal: {var_semana:.2f}%\")\n",
    "print(f\"Variación mensual: {var_mes:.2f}%\")\n",
    "print(f\"Variación anual  : {var_anio:.2f}%\")"
   ]
  },
  {
   "cell_type": "markdown",
   "id": "a24e3369",
   "metadata": {},
   "source": [
    "---\n",
    "<div style=\"text-align: center;\">\n",
    "    <h2><strong>Gold Futures </strong></h2>\n",
    "    <h3>Ticker: GC=F</h3>\n",
    "</div>"
   ]
  },
  {
   "cell_type": "code",
   "execution_count": 50,
   "id": "bc2b2793",
   "metadata": {},
   "outputs": [
    {
     "data": {
      "application/vnd.plotly.v1+json": {
       "config": {
        "plotlyServerURL": "https://plot.ly"
       },
       "data": [
        {
         "close": {
          "bdata": "AAAAQDOznUAAAAAAALidQAAAAKCZVZ1AAAAAQDN5nkAAAADAzHadQAAAAGBmQp1AAAAAoJnXm0AAAACgma+cQAAAAEAzv5xAAAAAwMx2nUAAAACgmV+dQAAAAGBmlJ1AAAAAYGaonEAAAABAM5WcQAAAAMDM/pxAAAAAQDPdnEAAAACgmUucQAAAAGBmdpxAAAAAQDO/m0AAAABgZgCbQAAAAAAAiJpAAAAAAADemkAAAACgmTWbQAAAAMDMEJtAAAAAAAD6mkAAAABAMz2bQAAAAAAAzJtAAAAAAADEm0AAAABAM52bQAAAAGBmnJxAAAAAoJm3nEAAAADAzFKdQAAAAAAAup1AAAAAQDOHnUAAAACgmVWdQAAAAKCZn5tAAAAAYGbCm0AAAABgZtqbQAAAAAAASJxAAAAAAABanEAAAACgmSWcQAAAAGBmUpxAAAAAAACAm0AAAADAzLybQAAAAAAA1JtAAAAAYGZinEAAAACgmZucQAAAAGBm9ptAAAAAoJlVm0AAAADAzFabQAAAAAAAdJtAAAAAQDNxm0AAAADAzJybQAAAAAAADpxAAAAAAADcm0AAAACgmWGcQAAAAKCZL51AAAAAwMzsnEAAAABAM+WbQAAAAAAA2JtAAAAAoJnbm0AAAABAMy+cQAAAAMDMTJxAAAAAAACOnEAAAAAAABScQAAAAAAAYpxAAAAAQDOfnEAAAACgmeObQAAAAGBmOpxAAAAAQDPDnEAAAABgZqqdQAAAAAAAep1AAAAAYGa0nkAAAADAzPqeQAAAAMDMIJ5AAAAAQDOHnkAAAABgZvydQAAAAGBmVp5AAAAAoJnLnkAAAAAAACyeQAAAAEAz1Z1AAAAAwMxknUAAAACgmT2cQAAAAEAzx5xAAAAAQDPtnEAAAACgmdWcQAAAAAAAPp1AAAAAYGaunEAAAAAAAIqcQAAAAKCZG5xAAAAAYGYym0AAAACgmZmaQAAAAGBm/JpAAAAAoJmLm0AAAACgmbObQAAAAGBmGpxAAAAAYGZOm0AAAABgZiCbQAAAAEAzt5pAAAAAwMzQmkAAAADAzB6aQAAAAEAztZlAAAAAoJn5mUAAAAAAAJKaQAAAAMDMpplAAAAAAADMmUAAAABgZp6ZQAAAAAAAIppAAAAAAACYm0AAAACgmV+bQAAAAEAzZZtAAAAAoJkPnEAAAABgZhicQAAAAAAA+JtAAAAAoJkPnEAAAADAzG6cQAAAAMDMIJ1AAAAAoJn5nUAAAACgmRmeQAAAAGBmIp5AAAAAoJkbnUAAAABAMxudQAAAAKCZwZxAAAAAQDNDnEAAAADAzN6cQAAAAAAAGJ1AAAAAQDPHnkAAAABgZvieQAAAAAAAxJ5AAAAAoJlvn0AAAADAzEifQAAAAAAA7p5AAAAAYGYYn0AAAACgmYWfQAAAAAAAep9AAAAAwMzqnkAAAABgZmCeQAAAAKCZgZ5AAAAAwMyonkAAAACgmZmeQAAAAGBm/J1AAAAAYGYEnkAAAADAzBieQAAAAGBmoJ5AAAAAQDOxnkAAAACgmaGeQAAAAGBmTp5AAAAAoJnjnUAAAABgZnidQAAAAGBm3J1AAAAAQDNPnkAAAACgmfmdQAAAAMDMDp5AAAAAoJkVnkAAAABgZuCcQAAAAMDMmJxAAAAAoJkdnkAAAAAAAPqeQAAAAGBmEp9AAAAAAAAen0AAAABgZjKeQAAAAGBm9p5AAAAAwMxIn0AAAAAAAC6gQAAAAEAzOZ9AAAAAYGaUn0AAAABAMxKgQAAAAMDMHKBAAAAAoJnpn0AAAADAzPqfQAAAAAAAqp9AAAAAQDODn0AAAABgZtCfQAAAAEAznZ9AAAAAAABun0AAAABgZtqfQAAAAMDMTaBAAAAAQDMFoUAAAACgmdqgQAAAAEAz3KBAAAAAwMxSoUAAAABgZiuiQAAAAGBmaKJAAAAAwMy8okAAAACgmT2iQAAAAAAA9qFAAAAAoJl+okAAAABgZtiiQAAAAAAAOaJAAAAAwMwlokAAAABgZgKiQAAAAMDMNqJAAAAAwMwYokAAAABgZi+iQAAAAAAAqaJAAAAAAADcokAAAAAAALeiQAAAAAAAmKJAAAAAYGbzokAAAABAMwCjQAAAAEAzhaNAAAAAwMyYo0AAAACgmXujQAAAAAAAe6NAAAAAoJkqpEAAAADAzHekQAAAAKCZqKRAAAAAoJmrpEAAAABAM8OkQAAAAGBmM6VAAAAAwMxppUAAAABAM2WlQAAAAAAA/6RAAAAAYGYLpEAAAADAzCulQAAAAAAAwqRAAAAAQDOdpEAAAAAAAMCkQAAAAGBmiaRAAAAAYGZypEAAAAAAAKqkQAAAAAAAKaVAAAAAoJlwpUAAAACgmbKlQAAAAAAA+aVAAAAAoJlmpkAAAABAM4emQAAAAEAz86ZAAAAAoJkppkAAAABgZrGmQAAAAAAAZadAAAAAYGaUp0AAAAAAAB2oQAAAAAAAiKdAAAAAYGYsqUAAAABgZtmpQAAAAMDMpKlAAAAAwMw/qUAAAADAzA6qQAAAAAAA3KhAAAAAQDNHqkAAAADAzLGpQAAAAGBm9alAAAAAYGbOqkAAAABAM1CqQAAAAGBmk6lAAAAAAAAJqkAAAAAAADiqQAAAAAAAMqpAAAAAAAAMqkAAAABgZieqQAAAAEAz3qpAAAAAAAAQqkAAAADAzFyqQAAAAGBmI6tAAAAAYGY6rEAAAADAzIKsQAAAAAAAr6xAAAAAoJl+rUAAAACgmVGuQAAAAMDMD69AAAAAAIAgsEA=",
          "dtype": "f8"
         },
         "high": {
          "bdata": "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",
          "dtype": "f8"
         },
         "low": {
          "bdata": "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",
          "dtype": "f8"
         },
         "name": "Precio",
         "open": {
          "bdata": "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",
          "dtype": "f8"
         },
         "type": "candlestick",
         "x": [
          "2020-10-12T00:00:00.000000000",
          "2020-10-19T00:00:00.000000000",
          "2020-10-26T00:00:00.000000000",
          "2020-11-02T00:00:00.000000000",
          "2020-11-09T00:00:00.000000000",
          "2020-11-16T00:00:00.000000000",
          "2020-11-23T00:00:00.000000000",
          "2020-11-30T00:00:00.000000000",
          "2020-12-07T00:00:00.000000000",
          "2020-12-14T00:00:00.000000000",
          "2020-12-21T00:00:00.000000000",
          "2020-12-28T00:00:00.000000000",
          "2021-01-04T00:00:00.000000000",
          "2021-01-11T00:00:00.000000000",
          "2021-01-18T00:00:00.000000000",
          "2021-01-25T00:00:00.000000000",
          "2021-02-01T00:00:00.000000000",
          "2021-02-08T00:00:00.000000000",
          "2021-02-15T00:00:00.000000000",
          "2021-02-22T00:00:00.000000000",
          "2021-03-01T00:00:00.000000000",
          "2021-03-08T00:00:00.000000000",
          "2021-03-15T00:00:00.000000000",
          "2021-03-22T00:00:00.000000000",
          "2021-03-29T00:00:00.000000000",
          "2021-04-05T00:00:00.000000000",
          "2021-04-12T00:00:00.000000000",
          "2021-04-19T00:00:00.000000000",
          "2021-04-26T00:00:00.000000000",
          "2021-05-03T00:00:00.000000000",
          "2021-05-10T00:00:00.000000000",
          "2021-05-17T00:00:00.000000000",
          "2021-05-24T00:00:00.000000000",
          "2021-05-31T00:00:00.000000000",
          "2021-06-07T00:00:00.000000000",
          "2021-06-14T00:00:00.000000000",
          "2021-06-21T00:00:00.000000000",
          "2021-06-28T00:00:00.000000000",
          "2021-07-05T00:00:00.000000000",
          "2021-07-12T00:00:00.000000000",
          "2021-07-19T00:00:00.000000000",
          "2021-07-26T00:00:00.000000000",
          "2021-08-02T00:00:00.000000000",
          "2021-08-09T00:00:00.000000000",
          "2021-08-16T00:00:00.000000000",
          "2021-08-23T00:00:00.000000000",
          "2021-08-30T00:00:00.000000000",
          "2021-09-06T00:00:00.000000000",
          "2021-09-13T00:00:00.000000000",
          "2021-09-20T00:00:00.000000000",
          "2021-09-27T00:00:00.000000000",
          "2021-10-04T00:00:00.000000000",
          "2021-10-11T00:00:00.000000000",
          "2021-10-18T00:00:00.000000000",
          "2021-10-25T00:00:00.000000000",
          "2021-11-01T00:00:00.000000000",
          "2021-11-08T00:00:00.000000000",
          "2021-11-15T00:00:00.000000000",
          "2021-11-22T00:00:00.000000000",
          "2021-11-29T00:00:00.000000000",
          "2021-12-06T00:00:00.000000000",
          "2021-12-13T00:00:00.000000000",
          "2021-12-20T00:00:00.000000000",
          "2021-12-27T00:00:00.000000000",
          "2022-01-03T00:00:00.000000000",
          "2022-01-10T00:00:00.000000000",
          "2022-01-17T00:00:00.000000000",
          "2022-01-24T00:00:00.000000000",
          "2022-01-31T00:00:00.000000000",
          "2022-02-07T00:00:00.000000000",
          "2022-02-14T00:00:00.000000000",
          "2022-02-21T00:00:00.000000000",
          "2022-02-28T00:00:00.000000000",
          "2022-03-07T00:00:00.000000000",
          "2022-03-14T00:00:00.000000000",
          "2022-03-21T00:00:00.000000000",
          "2022-03-28T00:00:00.000000000",
          "2022-04-04T00:00:00.000000000",
          "2022-04-11T00:00:00.000000000",
          "2022-04-18T00:00:00.000000000",
          "2022-04-25T00:00:00.000000000",
          "2022-05-02T00:00:00.000000000",
          "2022-05-09T00:00:00.000000000",
          "2022-05-16T00:00:00.000000000",
          "2022-05-23T00:00:00.000000000",
          "2022-05-30T00:00:00.000000000",
          "2022-06-06T00:00:00.000000000",
          "2022-06-13T00:00:00.000000000",
          "2022-06-20T00:00:00.000000000",
          "2022-06-27T00:00:00.000000000",
          "2022-07-04T00:00:00.000000000",
          "2022-07-11T00:00:00.000000000",
          "2022-07-18T00:00:00.000000000",
          "2022-07-25T00:00:00.000000000",
          "2022-08-01T00:00:00.000000000",
          "2022-08-08T00:00:00.000000000",
          "2022-08-15T00:00:00.000000000",
          "2022-08-22T00:00:00.000000000",
          "2022-08-29T00:00:00.000000000",
          "2022-09-05T00:00:00.000000000",
          "2022-09-12T00:00:00.000000000",
          "2022-09-19T00:00:00.000000000",
          "2022-09-26T00:00:00.000000000",
          "2022-10-03T00:00:00.000000000",
          "2022-10-10T00:00:00.000000000",
          "2022-10-17T00:00:00.000000000",
          "2022-10-24T00:00:00.000000000",
          "2022-10-31T00:00:00.000000000",
          "2022-11-07T00:00:00.000000000",
          "2022-11-14T00:00:00.000000000",
          "2022-11-21T00:00:00.000000000",
          "2022-11-28T00:00:00.000000000",
          "2022-12-05T00:00:00.000000000",
          "2022-12-12T00:00:00.000000000",
          "2022-12-19T00:00:00.000000000",
          "2022-12-26T00:00:00.000000000",
          "2023-01-02T00:00:00.000000000",
          "2023-01-09T00:00:00.000000000",
          "2023-01-16T00:00:00.000000000",
          "2023-01-23T00:00:00.000000000",
          "2023-01-30T00:00:00.000000000",
          "2023-02-06T00:00:00.000000000",
          "2023-02-13T00:00:00.000000000",
          "2023-02-20T00:00:00.000000000",
          "2023-02-27T00:00:00.000000000",
          "2023-03-06T00:00:00.000000000",
          "2023-03-13T00:00:00.000000000",
          "2023-03-20T00:00:00.000000000",
          "2023-03-27T00:00:00.000000000",
          "2023-04-03T00:00:00.000000000",
          "2023-04-10T00:00:00.000000000",
          "2023-04-17T00:00:00.000000000",
          "2023-04-24T00:00:00.000000000",
          "2023-05-01T00:00:00.000000000",
          "2023-05-08T00:00:00.000000000",
          "2023-05-15T00:00:00.000000000",
          "2023-05-22T00:00:00.000000000",
          "2023-05-29T00:00:00.000000000",
          "2023-06-05T00:00:00.000000000",
          "2023-06-12T00:00:00.000000000",
          "2023-06-19T00:00:00.000000000",
          "2023-06-26T00:00:00.000000000",
          "2023-07-03T00:00:00.000000000",
          "2023-07-10T00:00:00.000000000",
          "2023-07-17T00:00:00.000000000",
          "2023-07-24T00:00:00.000000000",
          "2023-07-31T00:00:00.000000000",
          "2023-08-07T00:00:00.000000000",
          "2023-08-14T00:00:00.000000000",
          "2023-08-21T00:00:00.000000000",
          "2023-08-28T00:00:00.000000000",
          "2023-09-04T00:00:00.000000000",
          "2023-09-11T00:00:00.000000000",
          "2023-09-18T00:00:00.000000000",
          "2023-09-25T00:00:00.000000000",
          "2023-10-02T00:00:00.000000000",
          "2023-10-09T00:00:00.000000000",
          "2023-10-16T00:00:00.000000000",
          "2023-10-23T00:00:00.000000000",
          "2023-10-30T00:00:00.000000000",
          "2023-11-06T00:00:00.000000000",
          "2023-11-13T00:00:00.000000000",
          "2023-11-20T00:00:00.000000000",
          "2023-11-27T00:00:00.000000000",
          "2023-12-04T00:00:00.000000000",
          "2023-12-11T00:00:00.000000000",
          "2023-12-18T00:00:00.000000000",
          "2023-12-25T00:00:00.000000000",
          "2024-01-01T00:00:00.000000000",
          "2024-01-08T00:00:00.000000000",
          "2024-01-15T00:00:00.000000000",
          "2024-01-22T00:00:00.000000000",
          "2024-01-29T00:00:00.000000000",
          "2024-02-05T00:00:00.000000000",
          "2024-02-12T00:00:00.000000000",
          "2024-02-19T00:00:00.000000000",
          "2024-02-26T00:00:00.000000000",
          "2024-03-04T00:00:00.000000000",
          "2024-03-11T00:00:00.000000000",
          "2024-03-18T00:00:00.000000000",
          "2024-03-25T00:00:00.000000000",
          "2024-04-01T00:00:00.000000000",
          "2024-04-08T00:00:00.000000000",
          "2024-04-15T00:00:00.000000000",
          "2024-04-22T00:00:00.000000000",
          "2024-04-29T00:00:00.000000000",
          "2024-05-06T00:00:00.000000000",
          "2024-05-13T00:00:00.000000000",
          "2024-05-20T00:00:00.000000000",
          "2024-05-27T00:00:00.000000000",
          "2024-06-03T00:00:00.000000000",
          "2024-06-10T00:00:00.000000000",
          "2024-06-17T00:00:00.000000000",
          "2024-06-24T00:00:00.000000000",
          "2024-07-01T00:00:00.000000000",
          "2024-07-08T00:00:00.000000000",
          "2024-07-15T00:00:00.000000000",
          "2024-07-22T00:00:00.000000000",
          "2024-07-29T00:00:00.000000000",
          "2024-08-05T00:00:00.000000000",
          "2024-08-12T00:00:00.000000000",
          "2024-08-19T00:00:00.000000000",
          "2024-08-26T00:00:00.000000000",
          "2024-09-02T00:00:00.000000000",
          "2024-09-09T00:00:00.000000000",
          "2024-09-16T00:00:00.000000000",
          "2024-09-23T00:00:00.000000000",
          "2024-09-30T00:00:00.000000000",
          "2024-10-07T00:00:00.000000000",
          "2024-10-14T00:00:00.000000000",
          "2024-10-21T00:00:00.000000000",
          "2024-10-28T00:00:00.000000000",
          "2024-11-04T00:00:00.000000000",
          "2024-11-11T00:00:00.000000000",
          "2024-11-18T00:00:00.000000000",
          "2024-11-25T00:00:00.000000000",
          "2024-12-02T00:00:00.000000000",
          "2024-12-09T00:00:00.000000000",
          "2024-12-16T00:00:00.000000000",
          "2024-12-23T00:00:00.000000000",
          "2024-12-30T00:00:00.000000000",
          "2025-01-06T00:00:00.000000000",
          "2025-01-13T00:00:00.000000000",
          "2025-01-20T00:00:00.000000000",
          "2025-01-27T00:00:00.000000000",
          "2025-02-03T00:00:00.000000000",
          "2025-02-10T00:00:00.000000000",
          "2025-02-17T00:00:00.000000000",
          "2025-02-24T00:00:00.000000000",
          "2025-03-03T00:00:00.000000000",
          "2025-03-10T00:00:00.000000000",
          "2025-03-17T00:00:00.000000000",
          "2025-03-24T00:00:00.000000000",
          "2025-03-31T00:00:00.000000000",
          "2025-04-07T00:00:00.000000000",
          "2025-04-14T00:00:00.000000000",
          "2025-04-21T00:00:00.000000000",
          "2025-04-28T00:00:00.000000000",
          "2025-05-05T00:00:00.000000000",
          "2025-05-12T00:00:00.000000000",
          "2025-05-19T00:00:00.000000000",
          "2025-05-26T00:00:00.000000000",
          "2025-06-02T00:00:00.000000000",
          "2025-06-09T00:00:00.000000000",
          "2025-06-16T00:00:00.000000000",
          "2025-06-23T00:00:00.000000000",
          "2025-06-30T00:00:00.000000000",
          "2025-07-07T00:00:00.000000000",
          "2025-07-14T00:00:00.000000000",
          "2025-07-21T00:00:00.000000000",
          "2025-07-28T00:00:00.000000000",
          "2025-08-04T00:00:00.000000000",
          "2025-08-11T00:00:00.000000000",
          "2025-08-18T00:00:00.000000000",
          "2025-08-25T00:00:00.000000000",
          "2025-09-01T00:00:00.000000000",
          "2025-09-08T00:00:00.000000000",
          "2025-09-15T00:00:00.000000000",
          "2025-09-22T00:00:00.000000000",
          "2025-09-29T00:00:00.000000000",
          "2025-10-06T00:00:00.000000000",
          "2025-10-13T00:00:00.000000000"
         ]
        }
       ],
       "layout": {
        "template": {
         "data": {
          "bar": [
           {
            "error_x": {
             "color": "#2a3f5f"
            },
            "error_y": {
             "color": "#2a3f5f"
            },
            "marker": {
             "line": {
              "color": "#E5ECF6",
              "width": 0.5
             },
             "pattern": {
              "fillmode": "overlay",
              "size": 10,
              "solidity": 0.2
             }
            },
            "type": "bar"
           }
          ],
          "barpolar": [
           {
            "marker": {
             "line": {
              "color": "#E5ECF6",
              "width": 0.5
             },
             "pattern": {
              "fillmode": "overlay",
              "size": 10,
              "solidity": 0.2
             }
            },
            "type": "barpolar"
           }
          ],
          "carpet": [
           {
            "aaxis": {
             "endlinecolor": "#2a3f5f",
             "gridcolor": "white",
             "linecolor": "white",
             "minorgridcolor": "white",
             "startlinecolor": "#2a3f5f"
            },
            "baxis": {
             "endlinecolor": "#2a3f5f",
             "gridcolor": "white",
             "linecolor": "white",
             "minorgridcolor": "white",
             "startlinecolor": "#2a3f5f"
            },
            "type": "carpet"
           }
          ],
          "choropleth": [
           {
            "colorbar": {
             "outlinewidth": 0,
             "ticks": ""
            },
            "type": "choropleth"
           }
          ],
          "contour": [
           {
            "colorbar": {
             "outlinewidth": 0,
             "ticks": ""
            },
            "colorscale": [
             [
              0,
              "#0d0887"
             ],
             [
              0.1111111111111111,
              "#46039f"
             ],
             [
              0.2222222222222222,
              "#7201a8"
             ],
             [
              0.3333333333333333,
              "#9c179e"
             ],
             [
              0.4444444444444444,
              "#bd3786"
             ],
             [
              0.5555555555555556,
              "#d8576b"
             ],
             [
              0.6666666666666666,
              "#ed7953"
             ],
             [
              0.7777777777777778,
              "#fb9f3a"
             ],
             [
              0.8888888888888888,
              "#fdca26"
             ],
             [
              1,
              "#f0f921"
             ]
            ],
            "type": "contour"
           }
          ],
          "contourcarpet": [
           {
            "colorbar": {
             "outlinewidth": 0,
             "ticks": ""
            },
            "type": "contourcarpet"
           }
          ],
          "heatmap": [
           {
            "colorbar": {
             "outlinewidth": 0,
             "ticks": ""
            },
            "colorscale": [
             [
              0,
              "#0d0887"
             ],
             [
              0.1111111111111111,
              "#46039f"
             ],
             [
              0.2222222222222222,
              "#7201a8"
             ],
             [
              0.3333333333333333,
              "#9c179e"
             ],
             [
              0.4444444444444444,
              "#bd3786"
             ],
             [
              0.5555555555555556,
              "#d8576b"
             ],
             [
              0.6666666666666666,
              "#ed7953"
             ],
             [
              0.7777777777777778,
              "#fb9f3a"
             ],
             [
              0.8888888888888888,
              "#fdca26"
             ],
             [
              1,
              "#f0f921"
             ]
            ],
            "type": "heatmap"
           }
          ],
          "histogram": [
           {
            "marker": {
             "pattern": {
              "fillmode": "overlay",
              "size": 10,
              "solidity": 0.2
             }
            },
            "type": "histogram"
           }
          ],
          "histogram2d": [
           {
            "colorbar": {
             "outlinewidth": 0,
             "ticks": ""
            },
            "colorscale": [
             [
              0,
              "#0d0887"
             ],
             [
              0.1111111111111111,
              "#46039f"
             ],
             [
              0.2222222222222222,
              "#7201a8"
             ],
             [
              0.3333333333333333,
              "#9c179e"
             ],
             [
              0.4444444444444444,
              "#bd3786"
             ],
             [
              0.5555555555555556,
              "#d8576b"
             ],
             [
              0.6666666666666666,
              "#ed7953"
             ],
             [
              0.7777777777777778,
              "#fb9f3a"
             ],
             [
              0.8888888888888888,
              "#fdca26"
             ],
             [
              1,
              "#f0f921"
             ]
            ],
            "type": "histogram2d"
           }
          ],
          "histogram2dcontour": [
           {
            "colorbar": {
             "outlinewidth": 0,
             "ticks": ""
            },
            "colorscale": [
             [
              0,
              "#0d0887"
             ],
             [
              0.1111111111111111,
              "#46039f"
             ],
             [
              0.2222222222222222,
              "#7201a8"
             ],
             [
              0.3333333333333333,
              "#9c179e"
             ],
             [
              0.4444444444444444,
              "#bd3786"
             ],
             [
              0.5555555555555556,
              "#d8576b"
             ],
             [
              0.6666666666666666,
              "#ed7953"
             ],
             [
              0.7777777777777778,
              "#fb9f3a"
             ],
             [
              0.8888888888888888,
              "#fdca26"
             ],
             [
              1,
              "#f0f921"
             ]
            ],
            "type": "histogram2dcontour"
           }
          ],
          "mesh3d": [
           {
            "colorbar": {
             "outlinewidth": 0,
             "ticks": ""
            },
            "type": "mesh3d"
           }
          ],
          "parcoords": [
           {
            "line": {
             "colorbar": {
              "outlinewidth": 0,
              "ticks": ""
             }
            },
            "type": "parcoords"
           }
          ],
          "pie": [
           {
            "automargin": true,
            "type": "pie"
           }
          ],
          "scatter": [
           {
            "fillpattern": {
             "fillmode": "overlay",
             "size": 10,
             "solidity": 0.2
            },
            "type": "scatter"
           }
          ],
          "scatter3d": [
           {
            "line": {
             "colorbar": {
              "outlinewidth": 0,
              "ticks": ""
             }
            },
            "marker": {
             "colorbar": {
              "outlinewidth": 0,
              "ticks": ""
             }
            },
            "type": "scatter3d"
           }
          ],
          "scattercarpet": [
           {
            "marker": {
             "colorbar": {
              "outlinewidth": 0,
              "ticks": ""
             }
            },
            "type": "scattercarpet"
           }
          ],
          "scattergeo": [
           {
            "marker": {
             "colorbar": {
              "outlinewidth": 0,
              "ticks": ""
             }
            },
            "type": "scattergeo"
           }
          ],
          "scattergl": [
           {
            "marker": {
             "colorbar": {
              "outlinewidth": 0,
              "ticks": ""
             }
            },
            "type": "scattergl"
           }
          ],
          "scattermap": [
           {
            "marker": {
             "colorbar": {
              "outlinewidth": 0,
              "ticks": ""
             }
            },
            "type": "scattermap"
           }
          ],
          "scattermapbox": [
           {
            "marker": {
             "colorbar": {
              "outlinewidth": 0,
              "ticks": ""
             }
            },
            "type": "scattermapbox"
           }
          ],
          "scatterpolar": [
           {
            "marker": {
             "colorbar": {
              "outlinewidth": 0,
              "ticks": ""
             }
            },
            "type": "scatterpolar"
           }
          ],
          "scatterpolargl": [
           {
            "marker": {
             "colorbar": {
              "outlinewidth": 0,
              "ticks": ""
             }
            },
            "type": "scatterpolargl"
           }
          ],
          "scatterternary": [
           {
            "marker": {
             "colorbar": {
              "outlinewidth": 0,
              "ticks": ""
             }
            },
            "type": "scatterternary"
           }
          ],
          "surface": [
           {
            "colorbar": {
             "outlinewidth": 0,
             "ticks": ""
            },
            "colorscale": [
             [
              0,
              "#0d0887"
             ],
             [
              0.1111111111111111,
              "#46039f"
             ],
             [
              0.2222222222222222,
              "#7201a8"
             ],
             [
              0.3333333333333333,
              "#9c179e"
             ],
             [
              0.4444444444444444,
              "#bd3786"
             ],
             [
              0.5555555555555556,
              "#d8576b"
             ],
             [
              0.6666666666666666,
              "#ed7953"
             ],
             [
              0.7777777777777778,
              "#fb9f3a"
             ],
             [
              0.8888888888888888,
              "#fdca26"
             ],
             [
              1,
              "#f0f921"
             ]
            ],
            "type": "surface"
           }
          ],
          "table": [
           {
            "cells": {
             "fill": {
              "color": "#EBF0F8"
             },
             "line": {
              "color": "white"
             }
            },
            "header": {
             "fill": {
              "color": "#C8D4E3"
             },
             "line": {
              "color": "white"
             }
            },
            "type": "table"
           }
          ]
         },
         "layout": {
          "annotationdefaults": {
           "arrowcolor": "#2a3f5f",
           "arrowhead": 0,
           "arrowwidth": 1
          },
          "autotypenumbers": "strict",
          "coloraxis": {
           "colorbar": {
            "outlinewidth": 0,
            "ticks": ""
           }
          },
          "colorscale": {
           "diverging": [
            [
             0,
             "#8e0152"
            ],
            [
             0.1,
             "#c51b7d"
            ],
            [
             0.2,
             "#de77ae"
            ],
            [
             0.3,
             "#f1b6da"
            ],
            [
             0.4,
             "#fde0ef"
            ],
            [
             0.5,
             "#f7f7f7"
            ],
            [
             0.6,
             "#e6f5d0"
            ],
            [
             0.7,
             "#b8e186"
            ],
            [
             0.8,
             "#7fbc41"
            ],
            [
             0.9,
             "#4d9221"
            ],
            [
             1,
             "#276419"
            ]
           ],
           "sequential": [
            [
             0,
             "#0d0887"
            ],
            [
             0.1111111111111111,
             "#46039f"
            ],
            [
             0.2222222222222222,
             "#7201a8"
            ],
            [
             0.3333333333333333,
             "#9c179e"
            ],
            [
             0.4444444444444444,
             "#bd3786"
            ],
            [
             0.5555555555555556,
             "#d8576b"
            ],
            [
             0.6666666666666666,
             "#ed7953"
            ],
            [
             0.7777777777777778,
             "#fb9f3a"
            ],
            [
             0.8888888888888888,
             "#fdca26"
            ],
            [
             1,
             "#f0f921"
            ]
           ],
           "sequentialminus": [
            [
             0,
             "#0d0887"
            ],
            [
             0.1111111111111111,
             "#46039f"
            ],
            [
             0.2222222222222222,
             "#7201a8"
            ],
            [
             0.3333333333333333,
             "#9c179e"
            ],
            [
             0.4444444444444444,
             "#bd3786"
            ],
            [
             0.5555555555555556,
             "#d8576b"
            ],
            [
             0.6666666666666666,
             "#ed7953"
            ],
            [
             0.7777777777777778,
             "#fb9f3a"
            ],
            [
             0.8888888888888888,
             "#fdca26"
            ],
            [
             1,
             "#f0f921"
            ]
           ]
          },
          "colorway": [
           "#636efa",
           "#EF553B",
           "#00cc96",
           "#ab63fa",
           "#FFA15A",
           "#19d3f3",
           "#FF6692",
           "#B6E880",
           "#FF97FF",
           "#FECB52"
          ],
          "font": {
           "color": "#2a3f5f"
          },
          "geo": {
           "bgcolor": "white",
           "lakecolor": "white",
           "landcolor": "#E5ECF6",
           "showlakes": true,
           "showland": true,
           "subunitcolor": "white"
          },
          "hoverlabel": {
           "align": "left"
          },
          "hovermode": "closest",
          "mapbox": {
           "style": "light"
          },
          "paper_bgcolor": "white",
          "plot_bgcolor": "#E5ECF6",
          "polar": {
           "angularaxis": {
            "gridcolor": "white",
            "linecolor": "white",
            "ticks": ""
           },
           "bgcolor": "#E5ECF6",
           "radialaxis": {
            "gridcolor": "white",
            "linecolor": "white",
            "ticks": ""
           }
          },
          "scene": {
           "xaxis": {
            "backgroundcolor": "#E5ECF6",
            "gridcolor": "white",
            "gridwidth": 2,
            "linecolor": "white",
            "showbackground": true,
            "ticks": "",
            "zerolinecolor": "white"
           },
           "yaxis": {
            "backgroundcolor": "#E5ECF6",
            "gridcolor": "white",
            "gridwidth": 2,
            "linecolor": "white",
            "showbackground": true,
            "ticks": "",
            "zerolinecolor": "white"
           },
           "zaxis": {
            "backgroundcolor": "#E5ECF6",
            "gridcolor": "white",
            "gridwidth": 2,
            "linecolor": "white",
            "showbackground": true,
            "ticks": "",
            "zerolinecolor": "white"
           }
          },
          "shapedefaults": {
           "line": {
            "color": "#2a3f5f"
           }
          },
          "ternary": {
           "aaxis": {
            "gridcolor": "white",
            "linecolor": "white",
            "ticks": ""
           },
           "baxis": {
            "gridcolor": "white",
            "linecolor": "white",
            "ticks": ""
           },
           "bgcolor": "#E5ECF6",
           "caxis": {
            "gridcolor": "white",
            "linecolor": "white",
            "ticks": ""
           }
          },
          "title": {
           "x": 0.05
          },
          "xaxis": {
           "automargin": true,
           "gridcolor": "white",
           "linecolor": "white",
           "ticks": "",
           "title": {
            "standoff": 15
           },
           "zerolinecolor": "white",
           "zerolinewidth": 2
          },
          "yaxis": {
           "automargin": true,
           "gridcolor": "white",
           "linecolor": "white",
           "ticks": "",
           "title": {
            "standoff": 15
           },
           "zerolinecolor": "white",
           "zerolinewidth": 2
          }
         }
        },
        "title": {
         "text": "Gráfico de velas japonesas para GC=F"
        },
        "xaxis": {
         "rangeslider": {
          "visible": false
         },
         "title": {
          "text": "Fecha"
         }
        },
        "yaxis": {
         "title": {
          "text": "Precio"
         }
        }
       }
      }
     },
     "metadata": {},
     "output_type": "display_data"
    },
    {
     "name": "stdout",
     "output_type": "stream",
     "text": [
      "Variación semanal: 3.84%\n",
      "Variación mensual: 12.45%\n",
      "Variación anual  : 52.14%\n"
     ]
    }
   ],
   "source": [
    "# Selecciona el ticker que quieres analizar\n",
    "ticker = tickers[6]  # Por ejemplo, el primero de la lista\n",
    "\n",
    "# Si descargaste los datos en formato multi-index, selecciona el ticker así:\n",
    "df_ticker = data.xs(ticker, axis=1, level=1)\n",
    "df_ticker = df_ticker.dropna()\n",
    "# Graficar precios de apertura y cierre\n",
    "fig = go.Figure(data=[\n",
    "    go.Candlestick(\n",
    "        x=df_ticker.index,\n",
    "        open=df_ticker['Open'],\n",
    "        high=df_ticker['High'],\n",
    "        low=df_ticker['Low'],\n",
    "        close=df_ticker['Close'],\n",
    "        name='Precio'\n",
    "    )\n",
    "])\n",
    "\n",
    "fig.update_layout(\n",
    "    title=f'Gráfico de velas japonesas para {ticker}',\n",
    "    xaxis_title='Fecha',\n",
    "    yaxis_title='Precio',\n",
    "    xaxis_rangeslider_visible=False\n",
    ")\n",
    "\n",
    "fig.show()\n",
    "\n",
    "# Calcular variaciones\n",
    "# Variación semanal (última semana vs anterior)\n",
    "var_semana = (df_ticker['Close'].iloc[-1] - df_ticker['Close'].iloc[-2])/df_ticker['Close'].iloc[-2] * 100\n",
    "# Variación mensual (último vs hace 4 semanas)\n",
    "var_mes = (df_ticker['Close'].iloc[-1] - df_ticker['Close'].iloc[-5])/df_ticker['Close'].iloc[-5] * 100\n",
    "# Variación anual (último vs hace 52 semanas)\n",
    "var_anio = (df_ticker['Close'].iloc[-1] - df_ticker['Close'].iloc[-53])/df_ticker['Close'].iloc[-53] * 100\n",
    "\n",
    "print(f\"Variación semanal: {var_semana:.2f}%\")\n",
    "print(f\"Variación mensual: {var_mes:.2f}%\")\n",
    "print(f\"Variación anual  : {var_anio:.2f}%\")"
   ]
  }
 ],
 "metadata": {
  "kernelspec": {
   "display_name": "dmac",
   "language": "python",
   "name": "python3"
  },
  "language_info": {
   "codemirror_mode": {
    "name": "ipython",
    "version": 3
   },
   "file_extension": ".py",
   "mimetype": "text/x-python",
   "name": "python",
   "nbconvert_exporter": "python",
   "pygments_lexer": "ipython3",
   "version": "3.13.3"
  }
 },
 "nbformat": 4,
 "nbformat_minor": 5
}
