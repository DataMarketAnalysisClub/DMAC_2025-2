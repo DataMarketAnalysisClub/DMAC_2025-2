{
 "cells": [
  {
   "cell_type": "markdown",
   "id": "f896eaa4",
   "metadata": {},
   "source": [
    "<img src=\"https://www.udd.cl/dircom/web/udd/Sello-35-color.png\" alt=\"Logo UDD\" width=\"184\" height=\"269\" style=\"float: left; margin-right: 10px;\">\n",
    "<img src=\"../imagenes/DMAClogo.png\" alt=\"DMAC Logo\" width=\"200\" style=\"float: right; margin-left: 10px;\">\n",
    "\n",
    "<div style=\"text-align: center;\">\n",
    "    <h1><strong>5Y-week Stock Prices</strong></h1>\n",
    "    <h3>Data Market Analysis Club - Universidad del Desarrollo</h3>\n",
    "</div>"
   ]
  },
  {
   "cell_type": "code",
   "execution_count": null,
   "id": "d458bd00",
   "metadata": {},
   "outputs": [],
   "source": []
  }
 ],
 "metadata": {
  "language_info": {
   "name": "python"
  }
 },
 "nbformat": 4,
 "nbformat_minor": 5
}
